{
 "cells": [
  {
   "cell_type": "code",
   "execution_count": 63,
   "metadata": {
    "collapsed": true
   },
   "outputs": [],
   "source": [
    "import numpy as np\n",
    "import pandas as pd\n",
    "import scipy\n",
    "from scipy.stats import beta\n",
    "import matplotlib.pyplot as plt\n",
    "from statsmodels.stats.weightstats import *\n",
    "from statsmodels.stats.proportion import proportion_confint"
   ]
  },
  {
   "cell_type": "markdown",
   "metadata": {},
   "source": [
    "   __ 1. На прошедшей неделе в рекламной сети параллельно размещалось два баннера. Оба баннера были показаны один миллион раз. Первый получил 10 000 кликов и 500 установок, а второй — 10 500 кликов и 440 установок. Маркетолог просит у вас совета: какой баннер оставить, а какой отключить? Что вы ему ответите? Обоснуйте свой ответ.__\n",
    "   "
   ]
  },
  {
   "cell_type": "code",
   "execution_count": 21,
   "metadata": {
    "collapsed": true
   },
   "outputs": [],
   "source": [
    "class banner: \n",
    "    def __init__(self, views, click, install):\n",
    "        self.click = click*1.\n",
    "        self.install = install*1.\n",
    "        self.views = views*1.\n",
    "        self.p_click = click*1./views\n",
    "        self.p_install = install*1./views     "
   ]
  },
  {
   "cell_type": "code",
   "execution_count": 26,
   "metadata": {
    "collapsed": true
   },
   "outputs": [],
   "source": [
    "banner_a = banner(10**6,10000,500)\n",
    "banner_b = banner(10**6,10500,440)"
   ]
  },
  {
   "cell_type": "markdown",
   "metadata": {},
   "source": [
    "#### Интервальные оценки долей"
   ]
  },
  {
   "cell_type": "markdown",
   "metadata": {},
   "source": [
    "$$\\frac1{ 1 + \\frac{z^2}{n} } \\left( \\hat{p} + \\frac{z^2}{2n} \\pm z \\sqrt{ \\frac{ \\hat{p}\\left(1-\\hat{p}\\right)}{n} + \\frac{z^2}{4n^2} } \\right), \\;\\; z \\equiv z_{1-\\frac{\\alpha}{2}}$$ "
   ]
  },
  {
   "cell_type": "code",
   "execution_count": 27,
   "metadata": {
    "collapsed": true
   },
   "outputs": [],
   "source": [
    "conf_interval_banner_a = proportion_confint(banner_a.click, \n",
    "                                            banner_a.views,\n",
    "                                            method = 'wilson')\n",
    "conf_interval_banner_b = proportion_confint(banner_b.click, \n",
    "                                            banner_b.views,\n",
    "                                            method = 'wilson')"
   ]
  },
  {
   "cell_type": "code",
   "execution_count": 28,
   "metadata": {
    "collapsed": false
   },
   "outputs": [
    {
     "name": "stdout",
     "output_type": "stream",
     "text": [
      "95% confidence interval for a click probability, banner a: [0.009807, 0.010197]\n",
      "95% confidence interval for a click probability, banner b [0.010302, 0.010702]\n"
     ]
    }
   ],
   "source": [
    "print '95%% confidence interval for a click probability, banner a: [%f, %f]' % conf_interval_banner_a\n",
    "print '95%% confidence interval for a click probability, banner b [%f, %f]' % conf_interval_banner_b"
   ]
  },
  {
   "cell_type": "markdown",
   "metadata": {},
   "source": [
    "Доверительные интервалы не пересекаются. Можно с уверенностью 95% утверждать, что banner_b просматривают чаще. "
   ]
  },
  {
   "cell_type": "code",
   "execution_count": 30,
   "metadata": {
    "collapsed": true
   },
   "outputs": [],
   "source": [
    "conf_interval_banner_a = proportion_confint(banner_a.install, \n",
    "                                            banner_a.views,\n",
    "                                            method = 'wilson')\n",
    "conf_interval_banner_b = proportion_confint(banner_b.install, \n",
    "                                            banner_b.views,\n",
    "                                            method = 'wilson')"
   ]
  },
  {
   "cell_type": "code",
   "execution_count": 31,
   "metadata": {
    "collapsed": false
   },
   "outputs": [
    {
     "name": "stdout",
     "output_type": "stream",
     "text": [
      "95% confidence interval for an install probability, banner a: [0.000458, 0.000546]\n",
      "95% confidence interval for an install probability, banner b [0.000401, 0.000483]\n"
     ]
    }
   ],
   "source": [
    "print '95%% confidence interval for an install probability, banner a: [%f, %f]' % conf_interval_banner_a\n",
    "print '95%% confidence interval for an install probability, banner b [%f, %f]' % conf_interval_banner_b"
   ]
  },
  {
   "cell_type": "markdown",
   "metadata": {},
   "source": [
    "Доверительные интервалы пересекаются, проверим гипотезу разности долей для независимых выборок."
   ]
  },
  {
   "cell_type": "markdown",
   "metadata": {},
   "source": [
    "#### Z-критерий для разности долей (независимые выборки)"
   ]
  },
  {
   "cell_type": "markdown",
   "metadata": {},
   "source": [
    "   | $X_1$ | $X_2$  \n",
    "  ------------- | -------------|\n",
    "  1  | a | b \n",
    "  0  | c | d \n",
    "  $\\sum$ | $n$| $n$\n",
    "  \n",
    "$$ \\hat{p}_1 = \\frac{a}{n}$$\n",
    "\n",
    "$$ \\hat{p}_2 = \\frac{b}{n}$$\n",
    "\n",
    "\n",
    "$$\\text{Доверительный интервал для }p_1 - p_2\\colon \\;\\; \\hat{p}_1 - \\hat{p}_2 \\pm z_{1-\\frac{\\alpha}{2}}\\sqrt{\\frac{\\hat{p}_1(1 - \\hat{p}_1)}{n} + \\frac{\\hat{p}_2(1 - \\hat{p}_2)}{n}}$$\n",
    "\n",
    "$$Z-статистика: Z({X_1, X_2}) =  \\frac{\\hat{p}_1 - \\hat{p}_2}{\\sqrt{P(1 - P)(\\frac{1}{n} + \\frac{1}{n})}}$$\n",
    "$$P = \\frac{\\hat{p}_1 + \\hat{p}_2}{2} $$"
   ]
  },
  {
   "cell_type": "code",
   "execution_count": 44,
   "metadata": {
    "collapsed": true
   },
   "outputs": [],
   "source": [
    "def proportions_diff_confint_ind(p1, p2, n, alpha = 0.05):    \n",
    "    z = scipy.stats.norm.ppf(1 - alpha / 2.)\n",
    "       \n",
    "    left_boundary = (p1 - p2) - z * np.sqrt(p1 * (1 - p1)/ n + p2 * (1 - p2)/ n)\n",
    "    right_boundary = (p1 - p2) + z * np.sqrt(p1 * (1 - p1)/ n + p2 * (1 - p2)/ n)\n",
    "    \n",
    "    return (left_boundary, right_boundary)"
   ]
  },
  {
   "cell_type": "code",
   "execution_count": 48,
   "metadata": {
    "collapsed": true
   },
   "outputs": [],
   "source": [
    "def proportions_diff_z_stat_ind(p1, p2, n):\n",
    "    P = float(p1 + p2) / 2\n",
    "    \n",
    "    return (p1 - p2) / np.sqrt(P * (1 - P) * (2./n))"
   ]
  },
  {
   "cell_type": "code",
   "execution_count": 34,
   "metadata": {
    "collapsed": true
   },
   "outputs": [],
   "source": [
    "def proportions_diff_z_test(z_stat, alternative = 'two-sided'):\n",
    "    if alternative not in ('two-sided', 'less', 'greater'):\n",
    "        raise ValueError(\"alternative not recognized\\n\"\n",
    "                         \"should be 'two-sided', 'less' or 'greater'\")\n",
    "    \n",
    "    if alternative == 'two-sided':\n",
    "        return 2 * (1 - scipy.stats.norm.cdf(np.abs(z_stat)))\n",
    "    \n",
    "    if alternative == 'less':\n",
    "        return scipy.stats.norm.cdf(z_stat)\n",
    "\n",
    "    if alternative == 'greater':\n",
    "        return 1 - scipy.stats.norm.cdf(z_stat)"
   ]
  },
  {
   "cell_type": "code",
   "execution_count": 56,
   "metadata": {
    "collapsed": false
   },
   "outputs": [
    {
     "name": "stdout",
     "output_type": "stream",
     "text": [
      "95% confidence interval for a difference between frequencies of installations: [-0.000000, 0.000120]\n"
     ]
    }
   ],
   "source": [
    "print \"95%% confidence interval for a difference between frequencies of installations: [%f, %f]\" %\\\n",
    "      proportions_diff_confint_ind(banner_a.p_install, banner_b.p_install, banner_a.views)"
   ]
  },
  {
   "cell_type": "code",
   "execution_count": 51,
   "metadata": {
    "collapsed": false
   },
   "outputs": [
    {
     "name": "stdout",
     "output_type": "stream",
     "text": [
      "p-value: 0.050295\n"
     ]
    }
   ],
   "source": [
    "print \"p-value: %f\" % proportions_diff_z_test( \\\n",
    "                      proportions_diff_z_stat_ind(banner_a.p_install, banner_b.p_install, banner_a.views))"
   ]
  },
  {
   "cell_type": "markdown",
   "metadata": {},
   "source": [
    "Видимо данные приведены на момент остановки эксперимента и выбора баннера a. Округлив p-value до третьего знака можно сказать, \n",
    "что гипотеза о равенсве частот установок программы после просмотра баннера a и баннера b отвергается\n",
    "на уровне значимости 0.05.  "
   ]
  },
  {
   "cell_type": "markdown",
   "metadata": {},
   "source": [
    "Естественно, тот факт, что на баннер b статичтически значимо кликают чаще не должен нас останавливать.\n",
    "Ведь наша конечная цель - установка программы, расположенной по ссылке.\n",
    "К тому же меншьшее колличество кликов по баннеру a, видимо, говорит о том, что он лучше попадает в целевую\n",
    "аудиторию. Народу переходит по ссылке меньше, а установок болше и народное время не сжигается впустую на изучение \n",
    "ненужных предложений."
   ]
  },
  {
   "cell_type": "markdown",
   "metadata": {},
   "source": [
    "Проверим ту же гипотезу с односторонней альтернативой, используя априорное предположение, что banner_a - лучше."
   ]
  },
  {
   "cell_type": "code",
   "execution_count": 52,
   "metadata": {
    "collapsed": false,
    "scrolled": true
   },
   "outputs": [
    {
     "name": "stdout",
     "output_type": "stream",
     "text": [
      "p-value: 0.025148\n"
     ]
    }
   ],
   "source": [
    "print \"p-value: %f\" % proportions_diff_z_test( \\\n",
    "                proportions_diff_z_stat_ind(banner_a.p_install, banner_b.p_install, banner_a.views), 'greater')"
   ]
  },
  {
   "cell_type": "markdown",
   "metadata": {},
   "source": [
    "   __2. Есть гипотеза, что если прислать пользователю СМС-сообщение с напоминанием о сервисе, то он с некоторой вероятностью сделает заказ и станет в дальнейшем ездить чаще. Как проверить эту гипотезу и принять решение о том, следует ли использовать такой способ коммуникации?__"
   ]
  },
  {
   "cell_type": "markdown",
   "metadata": {},
   "source": [
    "___Рассмотрим данную задачу как двуxвыборочную со связанными выборками. ___\n",
    "\n",
    "Выделим случайным образом группу из общей аудитории сервиса, которой мы будет присылать смс-напоминание.\n",
    "Найем доверительный интервал для разности средних недельных (месячных) доходов от пользователей за период до получения смс и после получения смс. \n",
    "Если допустить, что \"недельный (месячный) доход от пользователя\" нормально распределеннная случайная величина, то для проверки равенства математических ожиданий двух выборок можно использовать t-критерий Стьюдента.\n",
    "Если не нормально, то для проверки равенства медиан воспользуемся критерием знаковых рангов Уилкоксона.\n",
    "\n",
    "Необходимо заметить, что параметры распределения сучайной величины \"недельный (месячный) доход от пользователя\" могут зависеть от времени. \n",
    "\n",
    "___Рассмотреть задачу как двуxвыборочную с независимыми выборками___\n",
    "\n",
    "В этом случае второй группой будут все пользователи не получавшие смс.\n",
    "Так же построим доверительный интервал для разности средних недельных (месячных) доходов от пользователей в группах sms и no_sms. \n",
    " \n",
    "Колличество людей в группе sms определяется величиной эффекта который мы хотим измерить. \n",
    " \n",
    "Если допустить, что \"недельные (месячные) доходы от пользователя\" для групп sms и no_sms  -  нормально распределенные случайные величины дисперсия которых одинакова, а математическое ожидание отличается, то для расчета необходимого объема тестовой группы можно воспользоваться формулой: $$\\bar{X}_n \\pm z_{1-\\frac{\\alpha}{2}} \\frac{\\sigma}{\\sqrt{n}}$$\n",
    "\n",
    "Если среднеквадратичное отклонение этой величины 500 р., то 3000 человек будет достаточно для получения доверительного интервала шириной +-18 р.\n",
    "\n",
    "Не делая никаких предположений о распределении можно выполнить интервальную оценку разности средних с помощью bootstrap выборок. Для проверки гипотезы о разности средних значений использовать ранговый критерий Манна-Уитни."
   ]
  }
 ],
 "metadata": {
  "kernelspec": {
   "display_name": "Python 2",
   "language": "python",
   "name": "python2"
  },
  "language_info": {
   "codemirror_mode": {
    "name": "ipython",
    "version": 2
   },
   "file_extension": ".py",
   "mimetype": "text/x-python",
   "name": "python",
   "nbconvert_exporter": "python",
   "pygments_lexer": "ipython2",
   "version": "2.7.13"
  }
 },
 "nbformat": 4,
 "nbformat_minor": 1
}
