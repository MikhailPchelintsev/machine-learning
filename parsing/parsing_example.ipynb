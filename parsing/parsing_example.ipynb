{
 "cells": [
  {
   "cell_type": "code",
   "execution_count": 9,
   "metadata": {},
   "outputs": [],
   "source": [
    "import urllib.request\n",
    "import pandas as pd\n",
    "import numpy as np\n",
    "from bs4 import BeautifulSoup\n",
    "import warnings\n",
    "import datetime\n",
    "warnings.simplefilter(\"ignore\")\n",
    "from datetime import datetime\n",
    "\n",
    "from collections import namedtuple\n",
    "import pickle\n",
    "from IPython.display import clear_output\n",
    "from selenium import webdriver\n",
    "from time import sleep"
   ]
  },
  {
   "cell_type": "code",
   "execution_count": 78,
   "metadata": {},
   "outputs": [],
   "source": [
    "atm = pd.read_csv('train.csv',index_col=0)"
   ]
  },
  {
   "cell_type": "code",
   "execution_count": 79,
   "metadata": {},
   "outputs": [
    {
     "data": {
      "text/html": [
       "<div>\n",
       "<style scoped>\n",
       "    .dataframe tbody tr th:only-of-type {\n",
       "        vertical-align: middle;\n",
       "    }\n",
       "\n",
       "    .dataframe tbody tr th {\n",
       "        vertical-align: top;\n",
       "    }\n",
       "\n",
       "    .dataframe thead th {\n",
       "        text-align: right;\n",
       "    }\n",
       "</style>\n",
       "<table border=\"1\" class=\"dataframe\">\n",
       "  <thead>\n",
       "    <tr style=\"text-align: right;\">\n",
       "      <th></th>\n",
       "      <th>id</th>\n",
       "      <th>atm_group</th>\n",
       "      <th>address</th>\n",
       "      <th>address_rus</th>\n",
       "      <th>lat</th>\n",
       "      <th>long</th>\n",
       "      <th>target</th>\n",
       "    </tr>\n",
       "  </thead>\n",
       "  <tbody>\n",
       "    <tr>\n",
       "      <th>0</th>\n",
       "      <td>8526.0</td>\n",
       "      <td>32.0</td>\n",
       "      <td>EMELYANOVA,34          Y-SAKHALINSK</td>\n",
       "      <td>улица А.О. Емельянова, 34, Южно-Сахалинск, Сах...</td>\n",
       "      <td>46.940995</td>\n",
       "      <td>142.738319</td>\n",
       "      <td>0.011500</td>\n",
       "    </tr>\n",
       "    <tr>\n",
       "      <th>1</th>\n",
       "      <td>8532.0</td>\n",
       "      <td>32.0</td>\n",
       "      <td>KOMSOMOLSKAYA,259B     Y.SAKHALINSK</td>\n",
       "      <td>Комсомольская улица, 259, Южно-Сахалинск, Саха...</td>\n",
       "      <td>46.937353</td>\n",
       "      <td>142.753348</td>\n",
       "      <td>0.029710</td>\n",
       "    </tr>\n",
       "    <tr>\n",
       "      <th>2</th>\n",
       "      <td>8533.0</td>\n",
       "      <td>32.0</td>\n",
       "      <td>KOMMUN. PR., 32        YUZHNO SAKHAL</td>\n",
       "      <td>Коммунистический проспект, Южно-Сахалинск, Сах...</td>\n",
       "      <td>46.959413</td>\n",
       "      <td>142.741113</td>\n",
       "      <td>0.009540</td>\n",
       "    </tr>\n",
       "    <tr>\n",
       "      <th>3</th>\n",
       "      <td>8684.0</td>\n",
       "      <td>32.0</td>\n",
       "      <td>LENINGRADSKIY PR.,76A  MOSCOW</td>\n",
       "      <td>Ленинградский проспект, 76А, Москва, Россия, 1...</td>\n",
       "      <td>55.805827</td>\n",
       "      <td>37.515146</td>\n",
       "      <td>-0.094035</td>\n",
       "    </tr>\n",
       "    <tr>\n",
       "      <th>4</th>\n",
       "      <td>37.0</td>\n",
       "      <td>32.0</td>\n",
       "      <td>GVARDEYSKAYA PL., 2    NORILSK</td>\n",
       "      <td>Гвардейская площадь, 2, Норильск, Красноярский...</td>\n",
       "      <td>69.343541</td>\n",
       "      <td>88.211228</td>\n",
       "      <td>0.079277</td>\n",
       "    </tr>\n",
       "  </tbody>\n",
       "</table>\n",
       "</div>"
      ],
      "text/plain": [
       "       id  atm_group                                 address  \\\n",
       "0  8526.0       32.0  EMELYANOVA,34          Y-SAKHALINSK      \n",
       "1  8532.0       32.0  KOMSOMOLSKAYA,259B     Y.SAKHALINSK      \n",
       "2  8533.0       32.0  KOMMUN. PR., 32        YUZHNO SAKHAL     \n",
       "3  8684.0       32.0  LENINGRADSKIY PR.,76A  MOSCOW            \n",
       "4    37.0       32.0  GVARDEYSKAYA PL., 2    NORILSK           \n",
       "\n",
       "                                         address_rus        lat        long  \\\n",
       "0  улица А.О. Емельянова, 34, Южно-Сахалинск, Сах...  46.940995  142.738319   \n",
       "1  Комсомольская улица, 259, Южно-Сахалинск, Саха...  46.937353  142.753348   \n",
       "2  Коммунистический проспект, Южно-Сахалинск, Сах...  46.959413  142.741113   \n",
       "3  Ленинградский проспект, 76А, Москва, Россия, 1...  55.805827   37.515146   \n",
       "4  Гвардейская площадь, 2, Норильск, Красноярский...  69.343541   88.211228   \n",
       "\n",
       "     target  \n",
       "0  0.011500  \n",
       "1  0.029710  \n",
       "2  0.009540  \n",
       "3 -0.094035  \n",
       "4  0.079277  "
      ]
     },
     "execution_count": 79,
     "metadata": {},
     "output_type": "execute_result"
    }
   ],
   "source": [
    "atm.head()"
   ]
  },
  {
   "cell_type": "code",
   "execution_count": 80,
   "metadata": {},
   "outputs": [],
   "source": [
    "atm['street'] = atm.address.apply(lambda x: x[:23].strip())\n",
    "\n",
    "atm['city'] = atm.address.apply(lambda x: x[23:].strip()).apply(lambda x: x[:-2] if x.endswith(' G') else x)"
   ]
  },
  {
   "cell_type": "code",
   "execution_count": 82,
   "metadata": {},
   "outputs": [],
   "source": [
    "def transform(x):\n",
    "    dictionary = {\"MOSKVA\": \"MOSCOW\",\n",
    "                  \"SANKT-PETERBU\": \"SAINT PETERSBURG\",\n",
    "                  'S.-PETERBURG':  \"SAINT PETERSBURG\",\n",
    "                  'ST-PETERSBURG': \"SAINT PETERSBURG\",\n",
    "                  'ST PETERSBURG': \"SAINT PETERSBURG\"}\n",
    "    for key, value in dictionary.items():\n",
    "        x = x.replace(key, value)\n",
    "    return x"
   ]
  },
  {
   "cell_type": "code",
   "execution_count": 83,
   "metadata": {},
   "outputs": [],
   "source": [
    "atm.city = atm.city.map(transform)"
   ]
  },
  {
   "cell_type": "code",
   "execution_count": 84,
   "metadata": {},
   "outputs": [],
   "source": [
    "to_replace = {\n",
    "     'AV.': ' PROSPECT ',\n",
    "     'AVE': ' PROSPECT ', \n",
    "     'PR-KT': ' PROSPECT ',\n",
    "     'PR-T': ' PROSPECT ',\n",
    "     'STR.': ' ULITSA ',\n",
    "     ' ST ': ' ULITSA ',\n",
    "     'UL.' : ' ULITSA ',\n",
    "     'H/W.': ' SHOSSE ',\n",
    "     ', LIT. ': '',\n",
    "     'D.': '',\n",
    "     'VLAD. ':'',\n",
    "     ', KORP. ': '/',\n",
    "     ' DZERZHINSK':  ' DZERZHINSKOGO ',\n",
    "     '.': '. ',\n",
    "     ',': ', ',\n",
    "}\n",
    "\n",
    "for i in atm.index:\n",
    "    for key, value in to_replace.items():\n",
    "        atm.at[i,'street'] =  atm.at[i,'street'].replace(key, value)\n",
    "\n",
    "for i in atm.index:\n",
    "    atm.at[i,'street'] = atm.at[i,'street'][4:] if atm.at[i,'street'][:4] == 'ABB ' else atm.at[i,'street']"
   ]
  },
  {
   "cell_type": "code",
   "execution_count": 85,
   "metadata": {},
   "outputs": [],
   "source": [
    "def parsing(atm, column='info', start=0):\n",
    "    driver = webdriver.Chrome('chromedriver.exe')\n",
    "    atm[column] = np.nan\n",
    "    url = 'https://yandex.ru/maps/213/moscow/?ll=37.530858%2C55.640315&z=12&mode=search&text='\n",
    "    for i, atmi in log_progress(list(atm.iterrows())[start:]):\n",
    "        urli = url + ' '.join([atmi.address, atmi.city]).replace(' ', '%20')\n",
    "        driver.get(urli)\n",
    "        try: \n",
    "            element = driver.find_element_by_xpath(\"//div[@class='card-title-view']\")\n",
    "            atm.loc[i, column] = element.text\n",
    "        except:\n",
    "            pass\n",
    "        sleep(0.2)\n",
    "    return atm.copy()"
   ]
  },
  {
   "cell_type": "code",
   "execution_count": 86,
   "metadata": {},
   "outputs": [
    {
     "name": "stdout",
     "output_type": "stream",
     "text": [
      "0\n"
     ]
    }
   ],
   "source": [
    "atm_new = parsing(atm[4:7])"
   ]
  },
  {
   "cell_type": "code",
   "execution_count": 87,
   "metadata": {},
   "outputs": [
    {
     "data": {
      "text/html": [
       "<div>\n",
       "<style scoped>\n",
       "    .dataframe tbody tr th:only-of-type {\n",
       "        vertical-align: middle;\n",
       "    }\n",
       "\n",
       "    .dataframe tbody tr th {\n",
       "        vertical-align: top;\n",
       "    }\n",
       "\n",
       "    .dataframe thead th {\n",
       "        text-align: right;\n",
       "    }\n",
       "</style>\n",
       "<table border=\"1\" class=\"dataframe\">\n",
       "  <thead>\n",
       "    <tr style=\"text-align: right;\">\n",
       "      <th></th>\n",
       "      <th>id</th>\n",
       "      <th>atm_group</th>\n",
       "      <th>address</th>\n",
       "      <th>address_rus</th>\n",
       "      <th>lat</th>\n",
       "      <th>long</th>\n",
       "      <th>target</th>\n",
       "      <th>street</th>\n",
       "      <th>city</th>\n",
       "      <th>info</th>\n",
       "    </tr>\n",
       "  </thead>\n",
       "  <tbody>\n",
       "    <tr>\n",
       "      <th>4</th>\n",
       "      <td>37.0</td>\n",
       "      <td>32.0</td>\n",
       "      <td>GVARDEYSKAYA PL., 2    NORILSK</td>\n",
       "      <td>Гвардейская площадь, 2, Норильск, Красноярский...</td>\n",
       "      <td>69.343541</td>\n",
       "      <td>88.211228</td>\n",
       "      <td>0.079277</td>\n",
       "      <td>GVARDEYSKAYA PL. ,  2</td>\n",
       "      <td>NORILSK</td>\n",
       "      <td>Гвардейская площадь, 2\\nНорильск, Красноярский...</td>\n",
       "    </tr>\n",
       "    <tr>\n",
       "      <th>5</th>\n",
       "      <td>313.0</td>\n",
       "      <td>32.0</td>\n",
       "      <td>RUSSKAYA, 16           VLADIVOSTOK</td>\n",
       "      <td>Русская улица, 16, Владивосток, Приморский кра...</td>\n",
       "      <td>43.165860</td>\n",
       "      <td>131.908212</td>\n",
       "      <td>-0.145001</td>\n",
       "      <td>RUSSKAYA,  16</td>\n",
       "      <td>VLADIVOSTOK</td>\n",
       "      <td>Русская улица, 16\\nВладивосток, Приморский кра...</td>\n",
       "    </tr>\n",
       "    <tr>\n",
       "      <th>6</th>\n",
       "      <td>335.0</td>\n",
       "      <td>32.0</td>\n",
       "      <td>SHUKHOVA, 14           MOSCOW</td>\n",
       "      <td>улица Шухова, 14, Москва, Россия, 115162</td>\n",
       "      <td>55.716859</td>\n",
       "      <td>37.613063</td>\n",
       "      <td>-0.024682</td>\n",
       "      <td>SHUKHOVA,  14</td>\n",
       "      <td>MOSCOW</td>\n",
       "      <td>улица Шухова, 14\\nМосква, Россия, 115162\\n55.7...</td>\n",
       "    </tr>\n",
       "  </tbody>\n",
       "</table>\n",
       "</div>"
      ],
      "text/plain": [
       "      id  atm_group                                 address  \\\n",
       "4   37.0       32.0  GVARDEYSKAYA PL., 2    NORILSK           \n",
       "5  313.0       32.0  RUSSKAYA, 16           VLADIVOSTOK       \n",
       "6  335.0       32.0  SHUKHOVA, 14           MOSCOW            \n",
       "\n",
       "                                         address_rus        lat        long  \\\n",
       "4  Гвардейская площадь, 2, Норильск, Красноярский...  69.343541   88.211228   \n",
       "5  Русская улица, 16, Владивосток, Приморский кра...  43.165860  131.908212   \n",
       "6           улица Шухова, 14, Москва, Россия, 115162  55.716859   37.613063   \n",
       "\n",
       "     target                 street         city  \\\n",
       "4  0.079277  GVARDEYSKAYA PL. ,  2      NORILSK   \n",
       "5 -0.145001          RUSSKAYA,  16  VLADIVOSTOK   \n",
       "6 -0.024682          SHUKHOVA,  14       MOSCOW   \n",
       "\n",
       "                                                info  \n",
       "4  Гвардейская площадь, 2\\nНорильск, Красноярский...  \n",
       "5  Русская улица, 16\\nВладивосток, Приморский кра...  \n",
       "6  улица Шухова, 14\\nМосква, Россия, 115162\\n55.7...  "
      ]
     },
     "execution_count": 87,
     "metadata": {},
     "output_type": "execute_result"
    }
   ],
   "source": [
    "atm_new"
   ]
  }
 ],
 "metadata": {
  "kernelspec": {
   "display_name": "Python 3",
   "language": "python",
   "name": "python3"
  },
  "language_info": {
   "codemirror_mode": {
    "name": "ipython",
    "version": 3
   },
   "file_extension": ".py",
   "mimetype": "text/x-python",
   "name": "python",
   "nbconvert_exporter": "python",
   "pygments_lexer": "ipython3",
   "version": "3.6.5"
  }
 },
 "nbformat": 4,
 "nbformat_minor": 2
}
