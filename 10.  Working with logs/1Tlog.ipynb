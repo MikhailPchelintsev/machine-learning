{
 "cells": [
  {
   "cell_type": "markdown",
   "metadata": {},
   "source": [
    "__1. Какая стратегия поведения в листьях решающего дерева приводит к меньшей вероятности ошибки: выдавать в ответе тот класс, который преобладает в листе, или отвечать случайно с тем же распределением классов, что и в листе? Считайте, что рассматривается задача многоклассовой классификации.__\n",
    "\n",
    "Допустим мы имеем три класса с долями a,b,c (a>b>c, a+b+c =1).\n",
    "Частота ошибок классификации для объектов в листе в случае выдачи решающим правилом преобладающего в листе класса вычисляется как 1 — a. \n",
    "Математическое ожидание частоты ошибок классификации в случае выдачи решающим правилом случайного класса из распределения классов в листе  равно индексу Джинни:  $1 — (a^2+b^2+c^2)$.\n",
    "\n",
    " Докажем, что $a  >  a^2 + b^2 + c^2$:\n",
    "\t\t      $$1  >  a+ b^2/a + c^2/a$$\n",
    "\t\t       $$b^2 < ab,  c^2 < ac$$\n",
    "\t\t       $$b^2/a < b,  c^2/a < c$$\n",
    "\t\t     $$ a+b+c = 1 >  a  +  b^2/a  +  c^2/a.$$\n",
    "Математическое ожидание частоты ошибок классификации при выдаче случайного ответа из распределения классов выше, чем частота ошибок при выдачи класса с преобладающей долей.  \n",
    "\n",
    "__2. При обучении SVM с линейным ядром на наборе данных с очень большим числом разреженных признаков точность многоклассовой классификации на тестовой выборке получилась равной 95%, а при обучении SVM с радиальным ядром — 34%. Почему SVM с более сложным ядром показал менее высокое качество? Когда можно ожидать от радиального ядра улучшения качества по сравнению с линейным?__\n",
    "\t\t       \n",
    "\n",
    "Радиальное ядро выражается через евклидово расстояние, а значит наследует все проблемы метрических алгоритмов, в том числе подвержено «проклятью размерности».\n",
    "Разреженность признаков, видимо, говорит об относительной «легкости» решения задачи максимизации ширины разделяющей полосы для линейного ядра. \n",
    "Таким образом для улучшения качества классификации алгоритма с радиальным ядром признаков должно быть меньше и они должны быть «плотнее».\n",
    "\n",
    "\n",
    "\n",
    "__3. В одном проекте заказчик очень хотел, чтобы исследователь решал не поставленную задачу классификации на классы 0 и 1, а задачу регрессии на тех же метках с модулем отклонения в качестве функции потерь. Замысел заказчика был в том, что оцененные числа получатся дробными, и это будет приближением для вероятности класса 1. Считая, что алгоритм старается минимизировать математическое ожидание потерь при условии известного объекта x, выясните, какими будут получаться прогнозы при такой функции потерь и насколько они будут соответствовать замыслу заказчика.__\n",
    "\n",
    "Минимизация функционала ошибки с модулем отклонения мы получаем оценку медианы med(y|x). Кроме того на некоторых объектах значения $y = <w,x>$  будут выходить за границы интервала (0,1).\n",
    "\n",
    "Для оценки мат. ожидания E(y|x) должна применятся квадратичная функция потерь. Для оценки квантилей X_t(y|x) несимметричный модуль отклонения. \n",
    "\n",
    "__4. Какой должна быть функция потерь в предыдущей задаче, чтобы действительно оценивались вероятности? Покажите, что это так?__\n",
    "\n",
    "Т.к. на некоторых объектах значения $y = <w,x>$  будут выходить за границы интервала (0,1) для построения функции потерь нужно использовать функцию f отображающую множество действительных чисел R на интервал (0,1)  например сигмоиду $f(x)  =  1 / (1 + e^{- <w,x>})$, значения которой уже можно рассматривать вероятность принадлежности объекта x к классу +1  P(y = 1|x). \n",
    "Функция потерь построенная на основе сигмоиды называется log-loss или кросс-энтропия. \n",
    "\n",
    "\n",
    "__5. Когда в задаче бинарной классификации предпочтительней использовать ROC-AUC, а не accuracy? Как изменится ROC-AUC решения задачи бинарной классификации, если умножить все прогнозы на 2?__\n",
    "\n",
    "В задачах с дисбалансом классов.\n",
    "ROC-AUC не изменится. \n",
    "\n",
    "\n",
    "\n",
    "\n"
   ]
  },
  {
   "cell_type": "code",
   "execution_count": 17,
   "metadata": {
    "scrolled": true
   },
   "outputs": [
    {
     "name": "stdout",
     "output_type": "stream",
     "text": [
      "Populating the interactive namespace from numpy and matplotlib\n",
      "\n"
     ]
    }
   ],
   "source": [
    "import pandas as pd\n",
    "import numpy as np\n",
    "import warnings\n",
    "warnings.simplefilter('ignore')\n",
    "from scipy import stats\n",
    "import statsmodels.stats.proportion as proportion\n",
    "from statsmodels.stats.weightstats import _tconfint_generic\n",
    "import matplotlib.pyplot as plt\n",
    "from scipy.stats import powerlognorm, probplot, ttest_ind, norm\n",
    "import os\n",
    "%pylab inline"
   ]
  },
  {
   "cell_type": "markdown",
   "metadata": {},
   "source": [
    "##  Задача"
   ]
  },
  {
   "cell_type": "markdown",
   "metadata": {},
   "source": [
    "    Имеется файл log.txt размером 1Tb, содержащий лог в следующем формате: номер записи, тип запроса, время отклика. Пример начала лога:\n",
    "    1,/index,0.06\n",
    "    2,/test,0.03\n",
    "    3,/home,0.561\n",
    "    4,/home,0.87\n",
    "    5,/index,1.02\n",
    "    Напишите на Python программу, которая для каждого типа запроса подсчитывает среднее время отклика и 95% доверительный интервал для этой величины. Реализуйте также проверку гипотезы о равенстве средних времен отклика для типов запроса /index и /test на уровне значимости 5%."
   ]
  },
  {
   "cell_type": "code",
   "execution_count": 3,
   "metadata": {
    "collapsed": true
   },
   "outputs": [],
   "source": [
    "def log_progress(sequence, every=10):\n",
    "    for index, item in enumerate(sequence):\n",
    "        if index % every == 0:\n",
    "            print >>sys.stderr, index,\n",
    "        yield item"
   ]
  },
  {
   "cell_type": "code",
   "execution_count": 30,
   "metadata": {
    "collapsed": true
   },
   "outputs": [],
   "source": [
    "def get_test_data(universe_path,count):\n",
    "    block_size = 100000\n",
    "    \n",
    "    # дискретное распределение для генерации меток {0:'/index', 1:'/home', 2: '/test'}\n",
    "    xk = np.arange(3)\n",
    "    pk = (0.6, 0.3, 0.1)\n",
    "    custm = stats.rv_discrete(name='custm', values=(xk, pk))\n",
    "        \n",
    "    for i in log_progress(xrange(0,count/block_size)):\n",
    "        data = pd.DataFrame(columns = ['group', 'response'])\n",
    "        group = custm.rvs(size=block_size) \n",
    "        data['group'] = pd.Series(group).replace({0:'/index', 1:'/home', 2: '/test'})\n",
    "\n",
    "        # генерация значений откликов из powerlognorm распределений\n",
    "        index_mask = (data.group=='/index')\n",
    "        home_mask =  (data.group=='/home')\n",
    "        test_mask =  (data.group=='/test')\n",
    "\n",
    "        data.iloc[index_mask.values,1] = powerlognorm.rvs(6, 1.3,0,1.4,size=sum(index_mask))\n",
    "        data.iloc[home_mask.values,1] =  powerlognorm.rvs(7, 1.3,0,2.0,size=sum(home_mask))\n",
    "        data.iloc[test_mask.values,1] =  powerlognorm.rvs(4, 1.3,0,1.9,size=sum(test_mask))\n",
    "        data.index = xrange(i*block_size,i*block_size+block_size)\n",
    "        data.to_csv(universe_path, header=False, mode='a+')\n",
    "        del data\n",
    "        del group"
   ]
  },
  {
   "cell_type": "code",
   "execution_count": 31,
   "metadata": {
    "scrolled": false
   },
   "outputs": [
    {
     "name": "stderr",
     "output_type": "stream",
     "text": [
      " 0 10 20 30 40 50 60 70 80 90"
     ]
    },
    {
     "name": "stdout",
     "output_type": "stream",
     "text": [
      "CPU times: user 2min 40s, sys: 4.16 s, total: 2min 44s\n",
      "Wall time: 2min 51s\n"
     ]
    }
   ],
   "source": [
    "%time get_test_data('universe.csv',10000000)"
   ]
  },
  {
   "cell_type": "code",
   "execution_count": 32,
   "metadata": {
    "collapsed": true
   },
   "outputs": [],
   "source": [
    "'''\n",
    "Генеральную  совокупность (терабайтный файл) будет предствалять выборка из этой генеральной совокупности,\n",
    "на основе которой и будут расcчитаны доверительные интервалы и проверены гипотезы.\n",
    "\n",
    "Я полагаю, что нельзя просто брать первые n записей из лога, ведь они, наверняка, пишутся по мере поступления,\n",
    "следовательно первые записи могут приходиться на промежуток времени, когда сервер был недогружен или перегружен\n",
    "и выборка получится не представительной.\n",
    "'''\n",
    "\n",
    "def get_selection(universe_path,selection_path, count):\n",
    "    \"\"\"\n",
    "    Функция принимает:\n",
    "        путь к терабайтному файлу,\n",
    "        путь к формируемому файлу выборки,\n",
    "        количество элементов в выборке. \n",
    "    \"\"\"\n",
    "    size = os.path.getsize(universe_path)-100\n",
    "    positions = sort(np.random.random_integers(0,size,count)) \n",
    "    #positions = np.random.random_integers(0,size,count)\n",
    "    # np.random.random_integers - дискретное равномерное распределение. \n",
    "    f = open(universe_path, 'r')\n",
    "    d = open(selection_path,'w')\n",
    "    for i in positions:\n",
    "        f.seek(i)  \n",
    "        f.readline()\n",
    "        d.write(f.readline())\n",
    "    f.close()\n",
    "    d.close()"
   ]
  },
  {
   "cell_type": "code",
   "execution_count": 33,
   "metadata": {},
   "outputs": [
    {
     "name": "stdout",
     "output_type": "stream",
     "text": [
      "CPU times: user 4.08 s, sys: 8.37 s, total: 12.5 s\n",
      "Wall time: 51.2 s\n"
     ]
    }
   ],
   "source": [
    "%time get_selection('universe.csv','new.csv', 200000)\n",
    "df_selection = pd.read_csv('new.csv',header=-1,index_col='index', names =['index','group','response'] )"
   ]
  },
  {
   "cell_type": "code",
   "execution_count": 34,
   "metadata": {},
   "outputs": [
    {
     "name": "stdout",
     "output_type": "stream",
     "text": [
      "95% доверительный интервал для доли группы /index : (0.59814632473285867, 0.60243982255001738)\n",
      "95% доверительный интервал для доли группы /test : (0.099319203842911, 0.10195613749651557)\n",
      "95% доверительный интервал для доли группы /home : (0.29707228341482433, 0.30108543488806333)\n"
     ]
    }
   ],
   "source": [
    "\"\"\"\n",
    "По полученной выборке можно рассчитать доверительные интервалы для долей групп /index', '/home', '/test' \n",
    "если полагать их неизветсными и оценнить количество элементов каждой из групп в терабайтном файле. \n",
    "'wilson' - на случай доли одной из групп близкой к 1 или 0.\n",
    "\"\"\"\n",
    "print '95% доверительный интервал для доли группы /index :', \\\n",
    "proportion.proportion_confint( len(df_selection[df_selection.group =='/index']),\\\n",
    "                               len(df_selection), method = 'wilson')\n",
    "print '95% доверительный интервал для доли группы /test :', \\\n",
    "proportion.proportion_confint( len(df_selection[df_selection.group =='/test']),\\\n",
    "                               len(df_selection), method = 'wilson')\n",
    "print '95% доверительный интервал для доли группы /home :', \\\n",
    "proportion.proportion_confint( len(df_selection[df_selection.group =='/home']),\\\n",
    "                               len(df_selection), method = 'wilson')"
   ]
  },
  {
   "cell_type": "code",
   "execution_count": 35,
   "metadata": {
    "collapsed": true
   },
   "outputs": [],
   "source": [
    "index_data = np.array(df_selection[df_selection.group =='/index']['response'])\n",
    "test_data  = np.array(df_selection[df_selection.group =='/test'] ['response'])\n",
    "home_data  = np.array(df_selection[df_selection.group =='/home'] ['response'])"
   ]
  },
  {
   "cell_type": "code",
   "execution_count": null,
   "metadata": {
    "collapsed": true
   },
   "outputs": [],
   "source": [
    "\"\"\"\n",
    "Для проверки полученных выборок на нормальность воспольземся критерием Шапиро-Уилка.\n",
    "\"\"\""
   ]
  },
  {
   "cell_type": "markdown",
   "metadata": {},
   "source": [
    "Критерий Шапиро-Уилка:\n",
    "\n",
    " $H_0\\colon$ случайная величина \"время отклика\" распределена нормально\n",
    " \n",
    " $H_1\\colon$ не нормально"
   ]
  },
  {
   "cell_type": "code",
   "execution_count": 36,
   "metadata": {},
   "outputs": [
    {
     "name": "stdout",
     "output_type": "stream",
     "text": [
      "Shapiro-Wilk normality test, W-statistic: 0.787652, p-value: 0.000000\n"
     ]
    }
   ],
   "source": [
    "print \"Shapiro-Wilk normality test, W-statistic: %f, p-value: %f\" % stats.shapiro(index_data)"
   ]
  },
  {
   "cell_type": "code",
   "execution_count": 37,
   "metadata": {},
   "outputs": [
    {
     "data": {
      "image/png": "[encoded data removed]",
      "text/plain": [
       "<matplotlib.figure.Figure at 0x7f1fb230f750>"
      ]
     },
     "metadata": {},
     "output_type": "display_data"
    }
   ],
   "source": [
    "probplot(index_data,plot=plt,rvalue=True)\n",
    "plt.show()"
   ]
  },
  {
   "cell_type": "code",
   "execution_count": null,
   "metadata": {
    "collapsed": true
   },
   "outputs": [],
   "source": [
    "\"\"\"\n",
    "Cгенерированная из лог-нормального распределения тестовая выборка естесвенно не проходит тест на нормальность.\n",
    "\"\"\""
   ]
  },
  {
   "cell_type": "markdown",
   "metadata": {},
   "source": [
    "# В случае нормальности распределений:"
   ]
  },
  {
   "cell_type": "code",
   "execution_count": null,
   "metadata": {
    "collapsed": true
   },
   "outputs": [],
   "source": [
    "\"\"\"\n",
    "Если бы гипотеза о нормальности НЕ была отвегнута, мы могли бы сказать что выборки \n",
    "index_data, test_data, home_data взяты из бесконечных нормально распределенных генеральных \n",
    "совокупностей и для построения доверительного интервала можно использовать t-интервал,\n",
    "а для проверки гипотезы о равенсве средних двух независимых выборок -  критерий Стьюдента.\n",
    "\"\"\""
   ]
  },
  {
   "cell_type": "code",
   "execution_count": 38,
   "metadata": {},
   "outputs": [
    {
     "name": "stdout",
     "output_type": "stream",
     "text": [
      "Точечная оценка среднего времени отклика для группы /index : 0.372843220763\n",
      "Точечная оценка среднего времени отклика для группы /test : 0.731692822779\n",
      "Точечная оценка среднего времени отклика для группы /home : 0.470535587238\n"
     ]
    }
   ],
   "source": [
    "# Точечные оценки среднего времени отклика.\n",
    "index_mean =  index_data.mean()\n",
    "test_mean =   test_data.mean()\n",
    "home_mean =   home_data.mean()\n",
    "\n",
    "print 'Точечная оценка среднего времени отклика для группы /index :', index_mean\n",
    "print 'Точечная оценка среднего времени отклика для группы /test :', test_mean\n",
    "print 'Точечная оценка среднего времени отклика для группы /home :', home_mean"
   ]
  },
  {
   "cell_type": "code",
   "execution_count": 39,
   "metadata": {
    "collapsed": true
   },
   "outputs": [],
   "source": [
    "index_mean_std = index_data.std(ddof=1)/sqrt(len(index_data))\n",
    "test_mean_std = test_data.std(ddof=1)/sqrt(len(test_data))\n",
    "home_mean_std = home_data.std(ddof=1)/sqrt(len(home_data))"
   ]
  },
  {
   "cell_type": "code",
   "execution_count": 40,
   "metadata": {},
   "outputs": [
    {
     "name": "stdout",
     "output_type": "stream",
     "text": [
      "95% доверительный интервал для среднего времени отклика /index (0.37100968794883987, 0.37467675357620106)\n",
      "95% доверительный интервал для среднего времени отклика /test (0.72169583563752215, 0.74168980991982403)\n",
      "95% доверительный интервал для среднего времени отклика /home (0.46740280983565474, 0.47366836463991258)\n"
     ]
    }
   ],
   "source": [
    "print \"95% доверительный интервал для среднего времени отклика /index\", _tconfint_generic(index_mean, index_mean_std,\n",
    "                                                                       len(index_data) - 1,\n",
    "                                                                       0.05, 'two-sided')\n",
    "print \"95% доверительный интервал для среднего времени отклика /test\", _tconfint_generic(test_mean, test_mean_std,\n",
    "                                                                       len(test_data) - 1,\n",
    "                                                                       0.05, 'two-sided')\n",
    "print \"95% доверительный интервал для среднего времени отклика /home\", _tconfint_generic(home_mean, home_mean_std,\n",
    "                                                                       len(home_data) - 1,\n",
    "                                                                       0.05, 'two-sided')"
   ]
  },
  {
   "cell_type": "code",
   "execution_count": 41,
   "metadata": {},
   "outputs": [
    {
     "name": "stdout",
     "output_type": "stream",
     "text": [
      "/index  0.372407494704\n",
      "/test   0.733484073233\n",
      "/home   0.467067092671\n"
     ]
    }
   ],
   "source": [
    "print \"/index \",  powerlognorm.mean(6, 1.3,0,1.4)\n",
    "print \"/test  \",  powerlognorm.mean(4, 1.3,0,1.9)\n",
    "print \"/home  \",  powerlognorm.mean(7, 1.3,0,2.0)"
   ]
  },
  {
   "cell_type": "code",
   "execution_count": null,
   "metadata": {
    "collapsed": true
   },
   "outputs": [],
   "source": [
    "\"\"\"\n",
    "Заметим, что такая оценка границ доверительного интервала базируется на предположении о малой\n",
    "выборке из бесконечной генеральной совокупности. \n",
    "Естественно желание иметь выражение для доверительного интервала, которое использовало бы\n",
    "информацию о конечном объеме генеральной совокупности с тем, чтобы сближение объемов выборки n \n",
    "и генсовокупности N приводило бы к сужению границ доверительного интервала.\n",
    "Объем генсовокупности для каждого из классов может быть вычислен с использованием общего количества\n",
    "логов в терабайтном файле и доли каждого из классов в файле. \n",
    "\"\"\""
   ]
  },
  {
   "cell_type": "code",
   "execution_count": 45,
   "metadata": {
    "collapsed": true
   },
   "outputs": [],
   "source": [
    "def get_N(universe_path):\n",
    "    f = open(universe_path, 'r')\n",
    "    f.seek(-100,2)  \n",
    "    size = os.path.getsize(universe_path)\n",
    "    \n",
    "    while f.tell()<size:\n",
    "        s = f.readline()\n",
    "    return int(s.split(',')[0])"
   ]
  },
  {
   "cell_type": "code",
   "execution_count": 46,
   "metadata": {
    "collapsed": true
   },
   "outputs": [],
   "source": [
    "N = get_N('universe.csv')"
   ]
  },
  {
   "cell_type": "code",
   "execution_count": 47,
   "metadata": {},
   "outputs": [
    {
     "name": "stdout",
     "output_type": "stream",
     "text": [
      "9999999\n"
     ]
    }
   ],
   "source": [
    "print N"
   ]
  },
  {
   "cell_type": "code",
   "execution_count": 48,
   "metadata": {
    "collapsed": true
   },
   "outputs": [],
   "source": [
    "\"\"\"\n",
    "Для расчета N_index, N_test, N_home воспользуемся  оценками долей (произвольное число из доверительного интервала).\n",
    "\"\"\"\n",
    "N_index, N_test, N_home = int(N*0.6),int(N*0.1),int(N*0.3)"
   ]
  },
  {
   "cell_type": "code",
   "execution_count": 49,
   "metadata": {
    "collapsed": true
   },
   "outputs": [],
   "source": [
    "# см. Л.Закс \"Статистическое оценивание\", стр. 230, формула 3.2a. Корень - поправка на конечность.\n",
    "index_mean_std = index_data.std(ddof=1)/sqrt(len(index_data)) * (1-len(index_data)/N_index)*0.5\n",
    "test_mean_std = test_data.std(ddof=1)/sqrt(len(test_data)) * (1-len(test_data)/N_test)*0.5\n",
    "home_mean_std = home_data.std(ddof=1)/sqrt(len(home_data)) * (1-len(home_data)/N_home)*0.5"
   ]
  },
  {
   "cell_type": "code",
   "execution_count": 50,
   "metadata": {},
   "outputs": [
    {
     "name": "stdout",
     "output_type": "stream",
     "text": [
      "95% доверительный интервал для среднего времени отклика /index (0.37192645435568017, 0.37375998716936076)\n",
      "95% доверительный интервал для среднего времени отклика /test (0.72669432920809762, 0.73669131634924856)\n",
      "95% доверительный интервал для среднего времени отклика /home (0.4689691985367192, 0.47210197593884812)\n"
     ]
    }
   ],
   "source": [
    "print \"95% доверительный интервал для среднего времени отклика /index\", _tconfint_generic(index_mean, index_mean_std,\n",
    "                                                                       len(index_data) - 1,\n",
    "                                                                       0.05, 'two-sided')\n",
    "print \"95% доверительный интервал для среднего времени отклика /test\", _tconfint_generic(test_mean, test_mean_std,\n",
    "                                                                       len(test_data) - 1,\n",
    "                                                                       0.05, 'two-sided')\n",
    "print \"95% доверительный интервал для среднего времени отклика /home\", _tconfint_generic(home_mean, home_mean_std,\n",
    "                                                                       len(home_data) - 1,\n",
    "                                                                       0.05, 'two-sided')"
   ]
  },
  {
   "cell_type": "code",
   "execution_count": null,
   "metadata": {
    "collapsed": true
   },
   "outputs": [],
   "source": [
    "\"\"\"\n",
    "Доверительные интервалы плучились достаточно узкие:\n",
    "интерквантильный размах на уровне точности измерения самой величины отклика,\n",
    "увеличивать размер выборок для снижения дисперсии не имеет смысла. \n",
    "\"\"\""
   ]
  },
  {
   "cell_type": "code",
   "execution_count": null,
   "metadata": {
    "collapsed": true
   },
   "outputs": [],
   "source": [
    "\"\"\"\n",
    "Минимальные объемы выборки при заданной точности (d) и заданной статистической надежности, необходимые для оценки \n",
    "среднего значения, определяются следующими формулами (приближения основаны на нормальном распределении):\n",
    "\"\"\"    "
   ]
  },
  {
   "cell_type": "code",
   "execution_count": null,
   "metadata": {
    "collapsed": true
   },
   "outputs": [],
   "source": [
    "print \"/index \",  powerlognorm.std(6, 1.3,0,1.4)\n",
    "print \"/test  \",  powerlognorm.std(4, 1.3,0,1.9)\n",
    "print \"/home  \",  powerlognorm.std(7, 1.3,0,2.0)"
   ]
  },
  {
   "cell_type": "code",
   "execution_count": 52,
   "metadata": {},
   "outputs": [
    {
     "name": "stdout",
     "output_type": "stream",
     "text": [
      "403611\n"
     ]
    }
   ],
   "source": [
    "d=0.001\n",
    "n_min_index = (stats.norm.ppf(0.975, loc=0, scale=1)/d)**2*index_data.std(ddof=1)**2\n",
    "print int(n_min_index+0.5)"
   ]
  },
  {
   "cell_type": "code",
   "execution_count": 53,
   "metadata": {},
   "outputs": [
    {
     "name": "stdout",
     "output_type": "stream",
     "text": [
      "2011146\n"
     ]
    }
   ],
   "source": [
    "d=0.001\n",
    "n_min_test = (stats.norm.ppf(0.975, loc=0, scale=1)/d)**2*test_data.std(ddof=1)**2\n",
    "print int(n_min_test+0.5)"
   ]
  },
  {
   "cell_type": "code",
   "execution_count": 54,
   "metadata": {},
   "outputs": [
    {
     "name": "stdout",
     "output_type": "stream",
     "text": [
      "587018\n"
     ]
    }
   ],
   "source": [
    "d=0.001\n",
    "n_min_home = (stats.norm.ppf(0.975, loc=0, scale=1)/d)**2*home_data.std(ddof=1)**2\n",
    "print int(n_min_home+0.5)"
   ]
  },
  {
   "cell_type": "markdown",
   "metadata": {},
   "source": [
    "С помощью критерия Стьюдента проверим гипотезу о развенстве средних двух выборок.\n",
    "\n",
    "Критерий Стьюдента:\n",
    "\n",
    "$H_0\\colon$ средние времена отклика для типов запроса /index и /test  равны.\n",
    "\n",
    "$H_0\\colon$ не одинаковы."
   ]
  },
  {
   "cell_type": "code",
   "execution_count": 55,
   "metadata": {},
   "outputs": [
    {
     "data": {
      "text/plain": [
       "Ttest_indResult(statistic=-69.204201197461444, pvalue=0.0)"
      ]
     },
     "execution_count": 55,
     "metadata": {},
     "output_type": "execute_result"
    }
   ],
   "source": [
    "ttest_ind(index_data, test_data, equal_var = False)"
   ]
  },
  {
   "cell_type": "markdown",
   "metadata": {},
   "source": [
    "# В случае распределения статистически значимо отличного от нормального:"
   ]
  },
  {
   "cell_type": "code",
   "execution_count": 56,
   "metadata": {
    "collapsed": true
   },
   "outputs": [],
   "source": [
    "\"\"\"\n",
    "В случае отвержения гипотезы о нормальности построим доверительные интервалы на основе бутстрепа.\n",
    "В данном случае мы не используем никаких предположений о виде распределения.\n",
    "\"\"\"\n",
    "def get_bootstrap_samples(data, n_samples):\n",
    "    indices = np.random.randint(0, len(data), (n_samples, len(data)))\n",
    "    samples = data[indices]\n",
    "    return samples"
   ]
  },
  {
   "cell_type": "code",
   "execution_count": 57,
   "metadata": {
    "collapsed": true
   },
   "outputs": [],
   "source": [
    "def stat_intervals(stat, alpha):\n",
    "    boundaries = np.percentile(stat, [100 * alpha / 2., 100 * (1 - alpha / 2.)])\n",
    "    return boundaries"
   ]
  },
  {
   "cell_type": "code",
   "execution_count": 58,
   "metadata": {
    "collapsed": true
   },
   "outputs": [],
   "source": [
    "index_mean_scores = map(np.mean, get_bootstrap_samples(index_data[:10000], 4000))\n",
    "test_mean_scores = map(np.mean, get_bootstrap_samples(test_data[:10000], 4000))\n",
    "home_mean_scores = map(np.mean, get_bootstrap_samples(home_data[:10000], 4000))"
   ]
  },
  {
   "cell_type": "code",
   "execution_count": 59,
   "metadata": {},
   "outputs": [
    {
     "name": "stdout",
     "output_type": "stream",
     "text": [
      "95% доверительный интервал для среднего времени отклика группы /index : [ 0.36254419  0.37531068]\n",
      "95% доверительный интервал для среднего времени отклика группы /test : [ 0.71578976  0.74469677]\n",
      "95% доверительный интервал для среднего времени отклика группы /home : [ 0.45749851  0.47279881]\n"
     ]
    }
   ],
   "source": [
    "print '95% доверительный интервал для среднего времени отклика группы /index :', \\\n",
    "       stat_intervals(index_mean_scores, 0.05)\n",
    "print '95% доверительный интервал для среднего времени отклика группы /test :', \\\n",
    "       stat_intervals(test_mean_scores, 0.05)\n",
    "print '95% доверительный интервал для среднего времени отклика группы /home :', \\\n",
    "       stat_intervals(home_mean_scores, 0.05)"
   ]
  },
  {
   "cell_type": "code",
   "execution_count": null,
   "metadata": {
    "collapsed": true
   },
   "outputs": [],
   "source": [
    "\"\"\"\n",
    "Перейдем к проверке гипотез о равернстве средних.\n",
    "Воспользуемся ранговым критерием Манна-Уитни.\n",
    "\"\"\""
   ]
  },
  {
   "cell_type": "markdown",
   "metadata": {},
   "source": [
    "$H_0\\colon F_{X_1}(x) = F_{X_2}(x)$\n",
    "\n",
    "$H_1\\colon F_{X_1}(x) = F_{X_2}(x + \\Delta), \\Delta\\neq 0$"
   ]
  },
  {
   "cell_type": "code",
   "execution_count": null,
   "metadata": {
    "collapsed": true
   },
   "outputs": [],
   "source": [
    "'''\n",
    "Если справедлива альтернативная гипотеза и между распределениями действительно есть сдвиг, то средние\n",
    "значения признаков в выборках будут различаться.\n",
    "'''"
   ]
  },
  {
   "cell_type": "code",
   "execution_count": 60,
   "metadata": {},
   "outputs": [
    {
     "data": {
      "text/plain": [
       "MannwhitneyuResult(statistic=742437192.0, pvalue=0.0)"
      ]
     },
     "execution_count": 60,
     "metadata": {},
     "output_type": "execute_result"
    }
   ],
   "source": [
    "stats.mannwhitneyu(index_data, test_data, alternative='two-sided')"
   ]
  },
  {
   "cell_type": "code",
   "execution_count": null,
   "metadata": {
    "collapsed": true
   },
   "outputs": [],
   "source": [
    "'''\n",
    "Нулевая гипотеза отвергается. \n",
    "'''"
   ]
  }
 ],
 "metadata": {
  "kernelspec": {
   "display_name": "Python 2",
   "language": "python",
   "name": "python2"
  },
  "language_info": {
   "codemirror_mode": {
    "name": "ipython",
    "version": 2
   },
   "file_extension": ".py",
   "mimetype": "text/x-python",
   "name": "python",
   "nbconvert_exporter": "python",
   "pygments_lexer": "ipython2",
   "version": "2.7.12"
  }
 },
 "nbformat": 4,
 "nbformat_minor": 2
}
