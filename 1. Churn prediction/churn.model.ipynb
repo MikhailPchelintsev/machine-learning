{
 "cells": [
  {
   "cell_type": "code",
   "execution_count": 30,
   "metadata": {
    "collapsed": false,
    "scrolled": true
   },
   "outputs": [
    {
     "name": "stdout",
     "output_type": "stream",
     "text": [
      "Populating the interactive namespace from numpy and matplotlib\n"
     ]
    }
   ],
   "source": [
    "import pandas as pd\n",
    "import numpy as np\n",
    "import matplotlib.pyplot as plt\n",
    "import sklearn\n",
    "from sklearn import ensemble,pipeline,preprocessing, cross_validation,model_selection,linear_model,metrics,grid_search \n",
    "from sklearn.linear_model import Lasso\n",
    "from sklearn.ensemble import GradientBoostingClassifier\n",
    "from scipy.stats import chi2_contingency\n",
    "from sklearn.ensemble import VotingClassifier\n",
    "import warnings\n",
    "%pylab inline\n",
    "warnings.simplefilter('ignore')"
   ]
  },
  {
   "cell_type": "markdown",
   "metadata": {},
   "source": [
    "### Чтение данных"
   ]
  },
  {
   "cell_type": "code",
   "execution_count": 4,
   "metadata": {
    "collapsed": true
   },
   "outputs": [],
   "source": [
    "X = pd.read_csv('orange_small_churn_train_data.csv',index_col='ID')\n",
    "Y = X['labels']\n",
    "X.drop(['labels'],inplace=True,axis=1)"
   ]
  },
  {
   "cell_type": "code",
   "execution_count": 5,
   "metadata": {
    "collapsed": false
   },
   "outputs": [
    {
     "data": {
      "text/html": [
       "<div>\n",
       "<table border=\"1\" class=\"dataframe\">\n",
       "  <thead>\n",
       "    <tr style=\"text-align: right;\">\n",
       "      <th></th>\n",
       "      <th>Var1</th>\n",
       "      <th>Var2</th>\n",
       "      <th>Var3</th>\n",
       "      <th>Var4</th>\n",
       "      <th>Var5</th>\n",
       "      <th>Var6</th>\n",
       "      <th>Var7</th>\n",
       "      <th>Var8</th>\n",
       "      <th>Var9</th>\n",
       "      <th>Var10</th>\n",
       "      <th>...</th>\n",
       "      <th>Var221</th>\n",
       "      <th>Var222</th>\n",
       "      <th>Var223</th>\n",
       "      <th>Var224</th>\n",
       "      <th>Var225</th>\n",
       "      <th>Var226</th>\n",
       "      <th>Var227</th>\n",
       "      <th>Var228</th>\n",
       "      <th>Var229</th>\n",
       "      <th>Var230</th>\n",
       "    </tr>\n",
       "    <tr>\n",
       "      <th>ID</th>\n",
       "      <th></th>\n",
       "      <th></th>\n",
       "      <th></th>\n",
       "      <th></th>\n",
       "      <th></th>\n",
       "      <th></th>\n",
       "      <th></th>\n",
       "      <th></th>\n",
       "      <th></th>\n",
       "      <th></th>\n",
       "      <th></th>\n",
       "      <th></th>\n",
       "      <th></th>\n",
       "      <th></th>\n",
       "      <th></th>\n",
       "      <th></th>\n",
       "      <th></th>\n",
       "      <th></th>\n",
       "      <th></th>\n",
       "      <th></th>\n",
       "      <th></th>\n",
       "    </tr>\n",
       "  </thead>\n",
       "  <tbody>\n",
       "    <tr>\n",
       "      <th>0</th>\n",
       "      <td>NaN</td>\n",
       "      <td>NaN</td>\n",
       "      <td>NaN</td>\n",
       "      <td>NaN</td>\n",
       "      <td>NaN</td>\n",
       "      <td>3052.0</td>\n",
       "      <td>NaN</td>\n",
       "      <td>NaN</td>\n",
       "      <td>NaN</td>\n",
       "      <td>NaN</td>\n",
       "      <td>...</td>\n",
       "      <td>Al6ZaUT</td>\n",
       "      <td>vr93T2a</td>\n",
       "      <td>LM8l689qOp</td>\n",
       "      <td>NaN</td>\n",
       "      <td>NaN</td>\n",
       "      <td>fKCe</td>\n",
       "      <td>02N6s8f</td>\n",
       "      <td>xwM2aC7IdeMC0</td>\n",
       "      <td>NaN</td>\n",
       "      <td>NaN</td>\n",
       "    </tr>\n",
       "    <tr>\n",
       "      <th>1</th>\n",
       "      <td>NaN</td>\n",
       "      <td>NaN</td>\n",
       "      <td>NaN</td>\n",
       "      <td>NaN</td>\n",
       "      <td>NaN</td>\n",
       "      <td>1813.0</td>\n",
       "      <td>7.0</td>\n",
       "      <td>NaN</td>\n",
       "      <td>NaN</td>\n",
       "      <td>NaN</td>\n",
       "      <td>...</td>\n",
       "      <td>oslk</td>\n",
       "      <td>6hQ9lNX</td>\n",
       "      <td>LM8l689qOp</td>\n",
       "      <td>NaN</td>\n",
       "      <td>ELof</td>\n",
       "      <td>xb3V</td>\n",
       "      <td>RAYp</td>\n",
       "      <td>55YFVY9</td>\n",
       "      <td>mj86</td>\n",
       "      <td>NaN</td>\n",
       "    </tr>\n",
       "    <tr>\n",
       "      <th>2</th>\n",
       "      <td>NaN</td>\n",
       "      <td>NaN</td>\n",
       "      <td>NaN</td>\n",
       "      <td>NaN</td>\n",
       "      <td>NaN</td>\n",
       "      <td>1953.0</td>\n",
       "      <td>7.0</td>\n",
       "      <td>NaN</td>\n",
       "      <td>NaN</td>\n",
       "      <td>NaN</td>\n",
       "      <td>...</td>\n",
       "      <td>zCkv</td>\n",
       "      <td>catzS2D</td>\n",
       "      <td>LM8l689qOp</td>\n",
       "      <td>NaN</td>\n",
       "      <td>NaN</td>\n",
       "      <td>FSa2</td>\n",
       "      <td>ZI9m</td>\n",
       "      <td>ib5G6X1eUxUn6</td>\n",
       "      <td>mj86</td>\n",
       "      <td>NaN</td>\n",
       "    </tr>\n",
       "    <tr>\n",
       "      <th>3</th>\n",
       "      <td>NaN</td>\n",
       "      <td>NaN</td>\n",
       "      <td>NaN</td>\n",
       "      <td>NaN</td>\n",
       "      <td>NaN</td>\n",
       "      <td>1533.0</td>\n",
       "      <td>7.0</td>\n",
       "      <td>NaN</td>\n",
       "      <td>NaN</td>\n",
       "      <td>NaN</td>\n",
       "      <td>...</td>\n",
       "      <td>oslk</td>\n",
       "      <td>e4lqvY0</td>\n",
       "      <td>LM8l689qOp</td>\n",
       "      <td>NaN</td>\n",
       "      <td>NaN</td>\n",
       "      <td>xb3V</td>\n",
       "      <td>RAYp</td>\n",
       "      <td>F2FyR07IdsN7I</td>\n",
       "      <td>NaN</td>\n",
       "      <td>NaN</td>\n",
       "    </tr>\n",
       "    <tr>\n",
       "      <th>4</th>\n",
       "      <td>NaN</td>\n",
       "      <td>NaN</td>\n",
       "      <td>NaN</td>\n",
       "      <td>NaN</td>\n",
       "      <td>NaN</td>\n",
       "      <td>686.0</td>\n",
       "      <td>7.0</td>\n",
       "      <td>NaN</td>\n",
       "      <td>NaN</td>\n",
       "      <td>NaN</td>\n",
       "      <td>...</td>\n",
       "      <td>oslk</td>\n",
       "      <td>MAz3HNj</td>\n",
       "      <td>LM8l689qOp</td>\n",
       "      <td>NaN</td>\n",
       "      <td>NaN</td>\n",
       "      <td>WqMG</td>\n",
       "      <td>RAYp</td>\n",
       "      <td>F2FyR07IdsN7I</td>\n",
       "      <td>NaN</td>\n",
       "      <td>NaN</td>\n",
       "    </tr>\n",
       "  </tbody>\n",
       "</table>\n",
       "<p>5 rows × 230 columns</p>\n",
       "</div>"
      ],
      "text/plain": [
       "    Var1  Var2  Var3  Var4  Var5    Var6  Var7  Var8  Var9  Var10   ...    \\\n",
       "ID                                                                  ...     \n",
       "0    NaN   NaN   NaN   NaN   NaN  3052.0   NaN   NaN   NaN    NaN   ...     \n",
       "1    NaN   NaN   NaN   NaN   NaN  1813.0   7.0   NaN   NaN    NaN   ...     \n",
       "2    NaN   NaN   NaN   NaN   NaN  1953.0   7.0   NaN   NaN    NaN   ...     \n",
       "3    NaN   NaN   NaN   NaN   NaN  1533.0   7.0   NaN   NaN    NaN   ...     \n",
       "4    NaN   NaN   NaN   NaN   NaN   686.0   7.0   NaN   NaN    NaN   ...     \n",
       "\n",
       "     Var221   Var222      Var223  Var224  Var225  Var226   Var227  \\\n",
       "ID                                                                  \n",
       "0   Al6ZaUT  vr93T2a  LM8l689qOp     NaN     NaN    fKCe  02N6s8f   \n",
       "1      oslk  6hQ9lNX  LM8l689qOp     NaN    ELof    xb3V     RAYp   \n",
       "2      zCkv  catzS2D  LM8l689qOp     NaN     NaN    FSa2     ZI9m   \n",
       "3      oslk  e4lqvY0  LM8l689qOp     NaN     NaN    xb3V     RAYp   \n",
       "4      oslk  MAz3HNj  LM8l689qOp     NaN     NaN    WqMG     RAYp   \n",
       "\n",
       "           Var228  Var229  Var230  \n",
       "ID                                 \n",
       "0   xwM2aC7IdeMC0     NaN     NaN  \n",
       "1         55YFVY9    mj86     NaN  \n",
       "2   ib5G6X1eUxUn6    mj86     NaN  \n",
       "3   F2FyR07IdsN7I     NaN     NaN  \n",
       "4   F2FyR07IdsN7I     NaN     NaN  \n",
       "\n",
       "[5 rows x 230 columns]"
      ]
     },
     "execution_count": 5,
     "metadata": {},
     "output_type": "execute_result"
    }
   ],
   "source": [
    "X.head()"
   ]
  },
  {
   "cell_type": "code",
   "execution_count": 7,
   "metadata": {
    "collapsed": false
   },
   "outputs": [
    {
     "data": {
      "text/html": [
       "<div>\n",
       "<table border=\"1\" class=\"dataframe\">\n",
       "  <thead>\n",
       "    <tr style=\"text-align: right;\">\n",
       "      <th></th>\n",
       "      <th>Var1</th>\n",
       "      <th>Var2</th>\n",
       "      <th>Var3</th>\n",
       "      <th>Var4</th>\n",
       "      <th>Var5</th>\n",
       "      <th>Var6</th>\n",
       "      <th>Var7</th>\n",
       "      <th>Var8</th>\n",
       "      <th>Var9</th>\n",
       "      <th>Var10</th>\n",
       "      <th>...</th>\n",
       "      <th>Var183</th>\n",
       "      <th>Var184</th>\n",
       "      <th>Var185</th>\n",
       "      <th>Var186</th>\n",
       "      <th>Var187</th>\n",
       "      <th>Var188</th>\n",
       "      <th>Var189</th>\n",
       "      <th>Var190</th>\n",
       "      <th>Var209</th>\n",
       "      <th>Var230</th>\n",
       "    </tr>\n",
       "  </thead>\n",
       "  <tbody>\n",
       "    <tr>\n",
       "      <th>count</th>\n",
       "      <td>570.000000</td>\n",
       "      <td>1006.000000</td>\n",
       "      <td>1005.000000</td>\n",
       "      <td>1275.000000</td>\n",
       "      <td>1.165000e+03</td>\n",
       "      <td>35565.000000</td>\n",
       "      <td>35560.000000</td>\n",
       "      <td>0.0</td>\n",
       "      <td>570.000000</td>\n",
       "      <td>1.165000e+03</td>\n",
       "      <td>...</td>\n",
       "      <td>1.006000e+03</td>\n",
       "      <td>1006.000000</td>\n",
       "      <td>0.0</td>\n",
       "      <td>570.000000</td>\n",
       "      <td>570.00000</td>\n",
       "      <td>1006.000000</td>\n",
       "      <td>16785.000000</td>\n",
       "      <td>266.000000</td>\n",
       "      <td>0.0</td>\n",
       "      <td>0.0</td>\n",
       "    </tr>\n",
       "    <tr>\n",
       "      <th>mean</th>\n",
       "      <td>11.003509</td>\n",
       "      <td>0.004970</td>\n",
       "      <td>429.328358</td>\n",
       "      <td>0.148235</td>\n",
       "      <td>2.490555e+05</td>\n",
       "      <td>1319.915394</td>\n",
       "      <td>6.792126</td>\n",
       "      <td>NaN</td>\n",
       "      <td>47.487719</td>\n",
       "      <td>3.813466e+05</td>\n",
       "      <td>...</td>\n",
       "      <td>8.067657e+04</td>\n",
       "      <td>7.419483</td>\n",
       "      <td>NaN</td>\n",
       "      <td>3.515789</td>\n",
       "      <td>16.05614</td>\n",
       "      <td>165.108310</td>\n",
       "      <td>270.585523</td>\n",
       "      <td>22637.159019</td>\n",
       "      <td>NaN</td>\n",
       "      <td>NaN</td>\n",
       "    </tr>\n",
       "    <tr>\n",
       "      <th>std</th>\n",
       "      <td>34.952792</td>\n",
       "      <td>0.157642</td>\n",
       "      <td>4470.405915</td>\n",
       "      <td>1.396054</td>\n",
       "      <td>6.762021e+05</td>\n",
       "      <td>2609.955770</td>\n",
       "      <td>6.287285</td>\n",
       "      <td>NaN</td>\n",
       "      <td>147.137816</td>\n",
       "      <td>9.353348e+05</td>\n",
       "      <td>...</td>\n",
       "      <td>2.141650e+05</td>\n",
       "      <td>34.642351</td>\n",
       "      <td>NaN</td>\n",
       "      <td>9.412473</td>\n",
       "      <td>54.96505</td>\n",
       "      <td>113.400173</td>\n",
       "      <td>86.723561</td>\n",
       "      <td>30843.320634</td>\n",
       "      <td>NaN</td>\n",
       "      <td>NaN</td>\n",
       "    </tr>\n",
       "    <tr>\n",
       "      <th>min</th>\n",
       "      <td>0.000000</td>\n",
       "      <td>0.000000</td>\n",
       "      <td>0.000000</td>\n",
       "      <td>0.000000</td>\n",
       "      <td>0.000000e+00</td>\n",
       "      <td>0.000000</td>\n",
       "      <td>0.000000</td>\n",
       "      <td>NaN</td>\n",
       "      <td>0.000000</td>\n",
       "      <td>0.000000e+00</td>\n",
       "      <td>...</td>\n",
       "      <td>0.000000e+00</td>\n",
       "      <td>0.000000</td>\n",
       "      <td>NaN</td>\n",
       "      <td>0.000000</td>\n",
       "      <td>0.00000</td>\n",
       "      <td>-6.420000</td>\n",
       "      <td>6.000000</td>\n",
       "      <td>0.000000</td>\n",
       "      <td>NaN</td>\n",
       "      <td>NaN</td>\n",
       "    </tr>\n",
       "    <tr>\n",
       "      <th>25%</th>\n",
       "      <td>0.000000</td>\n",
       "      <td>0.000000</td>\n",
       "      <td>0.000000</td>\n",
       "      <td>0.000000</td>\n",
       "      <td>0.000000e+00</td>\n",
       "      <td>518.000000</td>\n",
       "      <td>0.000000</td>\n",
       "      <td>NaN</td>\n",
       "      <td>4.000000</td>\n",
       "      <td>0.000000e+00</td>\n",
       "      <td>...</td>\n",
       "      <td>0.000000e+00</td>\n",
       "      <td>0.000000</td>\n",
       "      <td>NaN</td>\n",
       "      <td>0.000000</td>\n",
       "      <td>0.00000</td>\n",
       "      <td>19.380000</td>\n",
       "      <td>204.000000</td>\n",
       "      <td>2419.965000</td>\n",
       "      <td>NaN</td>\n",
       "      <td>NaN</td>\n",
       "    </tr>\n",
       "    <tr>\n",
       "      <th>50%</th>\n",
       "      <td>0.000000</td>\n",
       "      <td>0.000000</td>\n",
       "      <td>0.000000</td>\n",
       "      <td>0.000000</td>\n",
       "      <td>0.000000e+00</td>\n",
       "      <td>854.000000</td>\n",
       "      <td>7.000000</td>\n",
       "      <td>NaN</td>\n",
       "      <td>20.000000</td>\n",
       "      <td>0.000000e+00</td>\n",
       "      <td>...</td>\n",
       "      <td>0.000000e+00</td>\n",
       "      <td>0.000000</td>\n",
       "      <td>NaN</td>\n",
       "      <td>0.000000</td>\n",
       "      <td>4.00000</td>\n",
       "      <td>196.410000</td>\n",
       "      <td>270.000000</td>\n",
       "      <td>12612.240000</td>\n",
       "      <td>NaN</td>\n",
       "      <td>NaN</td>\n",
       "    </tr>\n",
       "    <tr>\n",
       "      <th>75%</th>\n",
       "      <td>16.000000</td>\n",
       "      <td>0.000000</td>\n",
       "      <td>0.000000</td>\n",
       "      <td>0.000000</td>\n",
       "      <td>1.172150e+05</td>\n",
       "      <td>1435.000000</td>\n",
       "      <td>7.000000</td>\n",
       "      <td>NaN</td>\n",
       "      <td>46.000000</td>\n",
       "      <td>2.419740e+05</td>\n",
       "      <td>...</td>\n",
       "      <td>4.260950e+04</td>\n",
       "      <td>8.000000</td>\n",
       "      <td>NaN</td>\n",
       "      <td>6.000000</td>\n",
       "      <td>14.00000</td>\n",
       "      <td>250.980000</td>\n",
       "      <td>330.000000</td>\n",
       "      <td>32209.560000</td>\n",
       "      <td>NaN</td>\n",
       "      <td>NaN</td>\n",
       "    </tr>\n",
       "    <tr>\n",
       "      <th>max</th>\n",
       "      <td>536.000000</td>\n",
       "      <td>5.000000</td>\n",
       "      <td>130668.000000</td>\n",
       "      <td>27.000000</td>\n",
       "      <td>6.048550e+06</td>\n",
       "      <td>131761.000000</td>\n",
       "      <td>35.000000</td>\n",
       "      <td>NaN</td>\n",
       "      <td>2300.000000</td>\n",
       "      <td>1.232559e+07</td>\n",
       "      <td>...</td>\n",
       "      <td>3.048400e+06</td>\n",
       "      <td>1000.000000</td>\n",
       "      <td>NaN</td>\n",
       "      <td>102.000000</td>\n",
       "      <td>910.00000</td>\n",
       "      <td>628.620000</td>\n",
       "      <td>642.000000</td>\n",
       "      <td>230427.000000</td>\n",
       "      <td>NaN</td>\n",
       "      <td>NaN</td>\n",
       "    </tr>\n",
       "  </tbody>\n",
       "</table>\n",
       "<p>8 rows × 192 columns</p>\n",
       "</div>"
      ],
      "text/plain": [
       "             Var1         Var2           Var3         Var4          Var5  \\\n",
       "count  570.000000  1006.000000    1005.000000  1275.000000  1.165000e+03   \n",
       "mean    11.003509     0.004970     429.328358     0.148235  2.490555e+05   \n",
       "std     34.952792     0.157642    4470.405915     1.396054  6.762021e+05   \n",
       "min      0.000000     0.000000       0.000000     0.000000  0.000000e+00   \n",
       "25%      0.000000     0.000000       0.000000     0.000000  0.000000e+00   \n",
       "50%      0.000000     0.000000       0.000000     0.000000  0.000000e+00   \n",
       "75%     16.000000     0.000000       0.000000     0.000000  1.172150e+05   \n",
       "max    536.000000     5.000000  130668.000000    27.000000  6.048550e+06   \n",
       "\n",
       "                Var6          Var7  Var8         Var9         Var10   ...    \\\n",
       "count   35565.000000  35560.000000   0.0   570.000000  1.165000e+03   ...     \n",
       "mean     1319.915394      6.792126   NaN    47.487719  3.813466e+05   ...     \n",
       "std      2609.955770      6.287285   NaN   147.137816  9.353348e+05   ...     \n",
       "min         0.000000      0.000000   NaN     0.000000  0.000000e+00   ...     \n",
       "25%       518.000000      0.000000   NaN     4.000000  0.000000e+00   ...     \n",
       "50%       854.000000      7.000000   NaN    20.000000  0.000000e+00   ...     \n",
       "75%      1435.000000      7.000000   NaN    46.000000  2.419740e+05   ...     \n",
       "max    131761.000000     35.000000   NaN  2300.000000  1.232559e+07   ...     \n",
       "\n",
       "             Var183       Var184  Var185      Var186     Var187       Var188  \\\n",
       "count  1.006000e+03  1006.000000     0.0  570.000000  570.00000  1006.000000   \n",
       "mean   8.067657e+04     7.419483     NaN    3.515789   16.05614   165.108310   \n",
       "std    2.141650e+05    34.642351     NaN    9.412473   54.96505   113.400173   \n",
       "min    0.000000e+00     0.000000     NaN    0.000000    0.00000    -6.420000   \n",
       "25%    0.000000e+00     0.000000     NaN    0.000000    0.00000    19.380000   \n",
       "50%    0.000000e+00     0.000000     NaN    0.000000    4.00000   196.410000   \n",
       "75%    4.260950e+04     8.000000     NaN    6.000000   14.00000   250.980000   \n",
       "max    3.048400e+06  1000.000000     NaN  102.000000  910.00000   628.620000   \n",
       "\n",
       "             Var189         Var190  Var209  Var230  \n",
       "count  16785.000000     266.000000     0.0     0.0  \n",
       "mean     270.585523   22637.159019     NaN     NaN  \n",
       "std       86.723561   30843.320634     NaN     NaN  \n",
       "min        6.000000       0.000000     NaN     NaN  \n",
       "25%      204.000000    2419.965000     NaN     NaN  \n",
       "50%      270.000000   12612.240000     NaN     NaN  \n",
       "75%      330.000000   32209.560000     NaN     NaN  \n",
       "max      642.000000  230427.000000     NaN     NaN  \n",
       "\n",
       "[8 rows x 192 columns]"
      ]
     },
     "execution_count": 7,
     "metadata": {},
     "output_type": "execute_result"
    }
   ],
   "source": [
    "X.describe()"
   ]
  },
  {
   "cell_type": "code",
   "execution_count": 19,
   "metadata": {
    "collapsed": false
   },
   "outputs": [],
   "source": [
    "def get_info(X):\n",
    "    '''\n",
    "    X - pd.DataFrame.\n",
    "    DF_var - pd.DataFrame contains info about each columns of X: count unique values and percent of missing values. \n",
    "    '''\n",
    "    DF_var = pd.DataFrame(columns = ['n_values', 'NaN'])\n",
    "    for var in X.columns:\n",
    "        NaN_count = round(sum(X[var].isnull())*100/len(X),1)\n",
    "        DF_var.at[var]=[len(X[var].dropna().unique()),NaN_count]\n",
    "    return DF_var"
   ]
  },
  {
   "cell_type": "code",
   "execution_count": 28,
   "metadata": {
    "collapsed": true
   },
   "outputs": [],
   "source": [
    "DF_var = get_info(X)"
   ]
  },
  {
   "cell_type": "code",
   "execution_count": 29,
   "metadata": {
    "collapsed": false
   },
   "outputs": [
    {
     "data": {
      "text/html": [
       "<div>\n",
       "<table border=\"1\" class=\"dataframe\">\n",
       "  <thead>\n",
       "    <tr style=\"text-align: right;\">\n",
       "      <th></th>\n",
       "      <th>n_values</th>\n",
       "      <th>NaN</th>\n",
       "    </tr>\n",
       "  </thead>\n",
       "  <tbody>\n",
       "    <tr>\n",
       "      <th>Var1</th>\n",
       "      <td>17</td>\n",
       "      <td>98</td>\n",
       "    </tr>\n",
       "    <tr>\n",
       "      <th>Var2</th>\n",
       "      <td>2</td>\n",
       "      <td>97</td>\n",
       "    </tr>\n",
       "    <tr>\n",
       "      <th>Var3</th>\n",
       "      <td>129</td>\n",
       "      <td>97</td>\n",
       "    </tr>\n",
       "    <tr>\n",
       "      <th>Var4</th>\n",
       "      <td>4</td>\n",
       "      <td>96</td>\n",
       "    </tr>\n",
       "    <tr>\n",
       "      <th>Var5</th>\n",
       "      <td>444</td>\n",
       "      <td>97</td>\n",
       "    </tr>\n",
       "  </tbody>\n",
       "</table>\n",
       "</div>"
      ],
      "text/plain": [
       "     n_values NaN\n",
       "Var1       17  98\n",
       "Var2        2  97\n",
       "Var3      129  97\n",
       "Var4        4  96\n",
       "Var5      444  97"
      ]
     },
     "execution_count": 29,
     "metadata": {},
     "output_type": "execute_result"
    }
   ],
   "source": [
    "get_info(X).head()"
   ]
  },
  {
   "cell_type": "markdown",
   "metadata": {},
   "source": [
    "Списки категориальных и вещественных переменнх:"
   ]
  },
  {
   "cell_type": "code",
   "execution_count": 37,
   "metadata": {
    "collapsed": true
   },
   "outputs": [],
   "source": [
    "Float_var =  list(set(X.columns[:190])- set(DF_var[(DF_var.n_values<100)].index))\n",
    "Categorical_var = list(set(DF_var[(DF_var.n_values<100)&(DF_var.n_values>0)].index))"
   ]
  },
  {
   "cell_type": "markdown",
   "metadata": {},
   "source": [
    "Удалены пустые переменные и категориальные переменные с более чем $100$ уникальными занчениями."
   ]
  },
  {
   "cell_type": "code",
   "execution_count": 8,
   "metadata": {
    "collapsed": false
   },
   "outputs": [],
   "source": [
    "X = X[Categorical_var+Float_var]"
   ]
  },
  {
   "cell_type": "markdown",
   "metadata": {},
   "source": [
    "Итого $-30$ признаков."
   ]
  },
  {
   "cell_type": "code",
   "execution_count": 9,
   "metadata": {
    "collapsed": false,
    "scrolled": true
   },
   "outputs": [
    {
     "data": {
      "text/plain": [
       "(40000, 200)"
      ]
     },
     "execution_count": 9,
     "metadata": {},
     "output_type": "execute_result"
    }
   ],
   "source": [
    "X.shape"
   ]
  },
  {
   "cell_type": "markdown",
   "metadata": {},
   "source": [
    "####  Обработка вещественнх признаков "
   ]
  },
  {
   "cell_type": "markdown",
   "metadata": {},
   "source": [
    "Заменить 0.5% экстремальных значений их разумными аналогами "
   ]
  },
  {
   "cell_type": "code",
   "execution_count": 10,
   "metadata": {
    "collapsed": true
   },
   "outputs": [],
   "source": [
    "def clear_outliers(df,Float_var,thr=0.5):\n",
    "    \"\"\"\n",
    "    df -- pd.DataFrame;\n",
    "    Float_var - list of float variables;\n",
    "    thr - threshold of replacement rare variables, by persent;\n",
    "    \"\"\"\n",
    "    X=df.copy()       \n",
    "    for var in Float_var:\n",
    "            mean = X[var].mean()\n",
    "            arr_p= np.percentile(X[~X[var].isnull()][var],[thr/2, 100-thr/2]) \n",
    "            X.at[X[var]<arr_p[0],var]=mean\n",
    "            X.at[X[var]>arr_p[1],var]=mean\n",
    "    return X"
   ]
  },
  {
   "cell_type": "code",
   "execution_count": 11,
   "metadata": {
    "collapsed": true
   },
   "outputs": [],
   "source": [
    "X = clear_outliers(X, Float_var)"
   ]
  },
  {
   "cell_type": "markdown",
   "metadata": {},
   "source": [
    "Заполнение средними "
   ]
  },
  {
   "cell_type": "code",
   "execution_count": 12,
   "metadata": {
    "collapsed": true
   },
   "outputs": [],
   "source": [
    "def calculate_means(float_data):  \n",
    "    means = [] \n",
    "    for col in float_data.columns:\n",
    "        means.append(float_data[col].mean())\n",
    "    return pd.Series(means, float_data.columns)"
   ]
  },
  {
   "cell_type": "code",
   "execution_count": 13,
   "metadata": {
    "collapsed": true
   },
   "outputs": [],
   "source": [
    "X[Float_var] = X[Float_var].fillna(calculate_means(X[Float_var])) "
   ]
  },
  {
   "cell_type": "markdown",
   "metadata": {},
   "source": [
    "Заполение нулями "
   ]
  },
  {
   "cell_type": "code",
   "execution_count": 236,
   "metadata": {
    "collapsed": false
   },
   "outputs": [],
   "source": [
    "X[Float_var] = X[Float_var].fillna(0) "
   ]
  },
  {
   "cell_type": "markdown",
   "metadata": {},
   "source": [
    "####  1.3 Обработка категориальных признаков "
   ]
  },
  {
   "cell_type": "markdown",
   "metadata": {},
   "source": [
    "Преобразование стобцов к типу $str$ приводит к тому что все значения признаков $np.NaN$ преобразуются в строки $'nan'$,\n",
    "Кроме того редкие хэши заменяются $'Rare'$ чтобы не увеличивать размерность данных при dummy кодировании:"
   ]
  },
  {
   "cell_type": "code",
   "execution_count": 16,
   "metadata": {
    "collapsed": true
   },
   "outputs": [],
   "source": [
    "def clear_categorical(df,Categorical_var,thr=0.005): \n",
    "    X = df.copy()\n",
    "    X[Categorical_var]= X[Categorical_var].astype(str)\n",
    "    for col in Categorical_var:\n",
    "        d = dict(X[col].value_counts(dropna=True)/ len(X)) \n",
    "        X[col] = X[col].apply(lambda x: 'Rare' if d[x] <= thr else x)\n",
    "    return X"
   ]
  },
  {
   "cell_type": "code",
   "execution_count": 17,
   "metadata": {
    "collapsed": false
   },
   "outputs": [],
   "source": [
    "X = clear_categorical(X,Categorical_var)"
   ]
  },
  {
   "cell_type": "markdown",
   "metadata": {},
   "source": [
    "#### Labelling"
   ]
  },
  {
   "cell_type": "code",
   "execution_count": 18,
   "metadata": {
    "collapsed": true
   },
   "outputs": [],
   "source": [
    "le = preprocessing.LabelEncoder()"
   ]
  },
  {
   "cell_type": "code",
   "execution_count": 19,
   "metadata": {
    "collapsed": true
   },
   "outputs": [],
   "source": [
    "for column in Categorical_var:\n",
    "    X[column]=le.fit_transform(X[column])"
   ]
  },
  {
   "cell_type": "markdown",
   "metadata": {},
   "source": [
    "#### Нормализация вещественных переменных и one-hot-encoding остальных"
   ]
  },
  {
   "cell_type": "code",
   "execution_count": 20,
   "metadata": {
    "collapsed": true
   },
   "outputs": [],
   "source": [
    "Float_data_indices = np.array([(column in Float_var) for column in X.columns], dtype = bool)\n",
    "Cat_data_indices = np.array([(column in Categorical_var) for column in X.columns], dtype = bool)"
   ]
  },
  {
   "cell_type": "code",
   "execution_count": 21,
   "metadata": {
    "collapsed": false
   },
   "outputs": [],
   "source": [
    "Transformer = pipeline.FeatureUnion(transformer_list = [        \n",
    "            #numeric\n",
    "            ('numeric_variables_processing', pipeline.Pipeline(steps = [\n",
    "                ('selecting', preprocessing.FunctionTransformer(lambda X: X[:, Float_data_indices])),\n",
    "                ('scaling', preprocessing.StandardScaler(with_mean = 0))            \n",
    "                        ])),\n",
    "        \n",
    "            #categorical\n",
    "            ('categorical_variables_processing', pipeline.Pipeline(steps = [\n",
    "                ('selecting', preprocessing.FunctionTransformer(lambda X: X[:, Cat_data_indices])),\n",
    "                ('hot_encoding', preprocessing.OneHotEncoder(handle_unknown = 'ignore'))            \n",
    "                        ])),\n",
    "        ])"
   ]
  },
  {
   "cell_type": "code",
   "execution_count": 22,
   "metadata": {
    "collapsed": true
   },
   "outputs": [],
   "source": [
    "X_transform = Transformer.fit_transform(X) "
   ]
  },
  {
   "cell_type": "code",
   "execution_count": 23,
   "metadata": {
    "collapsed": false
   },
   "outputs": [
    {
     "data": {
      "text/plain": [
       "(40000, 650)"
      ]
     },
     "execution_count": 23,
     "metadata": {},
     "output_type": "execute_result"
    }
   ],
   "source": [
    "X_transform.shape"
   ]
  },
  {
   "cell_type": "markdown",
   "metadata": {},
   "source": [
    "Преобразуем sparce матрицу обратно в DataFrame восстанавливая названия столбов, в том числе и для категориальных переменных."
   ]
  },
  {
   "cell_type": "code",
   "execution_count": 24,
   "metadata": {
    "collapsed": true
   },
   "outputs": [],
   "source": [
    "array_cat = []\n",
    "first = 0\n",
    "for var, i  in zip(Categorical_var, Transformer.transformer_list[1][1].steps[1][1].feature_indices_[1:]):\n",
    "    array_cat[first:i]= [var]*(i-first)\n",
    "    first = i\n",
    "array_cat =np.array(array_cat) "
   ]
  },
  {
   "cell_type": "code",
   "execution_count": 25,
   "metadata": {
    "collapsed": false
   },
   "outputs": [],
   "source": [
    "X_transform= pd.DataFrame( data= X_transform.toarray(), columns= list(Float_var)+list(array_cat))"
   ]
  },
  {
   "cell_type": "code",
   "execution_count": 26,
   "metadata": {
    "collapsed": false,
    "scrolled": true
   },
   "outputs": [
    {
     "data": {
      "text/plain": [
       "(40000, 650)"
      ]
     },
     "execution_count": 26,
     "metadata": {},
     "output_type": "execute_result"
    }
   ],
   "source": [
    "X_transform.shape"
   ]
  },
  {
   "cell_type": "code",
   "execution_count": 27,
   "metadata": {
    "collapsed": false,
    "scrolled": true
   },
   "outputs": [
    {
     "data": {
      "text/html": [
       "<div>\n",
       "<table border=\"1\" class=\"dataframe\">\n",
       "  <thead>\n",
       "    <tr style=\"text-align: right;\">\n",
       "      <th></th>\n",
       "      <th>Var114</th>\n",
       "      <th>Var117</th>\n",
       "      <th>Var111</th>\n",
       "      <th>Var113</th>\n",
       "      <th>Var112</th>\n",
       "      <th>Var86</th>\n",
       "      <th>Var150</th>\n",
       "      <th>Var135</th>\n",
       "      <th>Var134</th>\n",
       "      <th>Var119</th>\n",
       "      <th>...</th>\n",
       "      <th>Var176</th>\n",
       "      <th>Var176</th>\n",
       "      <th>Var174</th>\n",
       "      <th>Var174</th>\n",
       "      <th>Var174</th>\n",
       "      <th>Var179</th>\n",
       "      <th>Var179</th>\n",
       "      <th>Var179</th>\n",
       "      <th>Var178</th>\n",
       "      <th>Var178</th>\n",
       "    </tr>\n",
       "  </thead>\n",
       "  <tbody>\n",
       "    <tr>\n",
       "      <th>0</th>\n",
       "      <td>4.147306</td>\n",
       "      <td>2.539851</td>\n",
       "      <td>3.85506</td>\n",
       "      <td>-1.804387</td>\n",
       "      <td>1.728743</td>\n",
       "      <td>5.396889</td>\n",
       "      <td>2.401708</td>\n",
       "      <td>8.466828</td>\n",
       "      <td>1.083075</td>\n",
       "      <td>1.694178</td>\n",
       "      <td>...</td>\n",
       "      <td>0.0</td>\n",
       "      <td>1.0</td>\n",
       "      <td>0.0</td>\n",
       "      <td>0.0</td>\n",
       "      <td>1.0</td>\n",
       "      <td>0.0</td>\n",
       "      <td>0.0</td>\n",
       "      <td>1.0</td>\n",
       "      <td>0.0</td>\n",
       "      <td>1.0</td>\n",
       "    </tr>\n",
       "    <tr>\n",
       "      <th>1</th>\n",
       "      <td>4.147306</td>\n",
       "      <td>2.539851</td>\n",
       "      <td>3.85506</td>\n",
       "      <td>0.623253</td>\n",
       "      <td>0.864371</td>\n",
       "      <td>5.396889</td>\n",
       "      <td>2.401708</td>\n",
       "      <td>8.466828</td>\n",
       "      <td>0.626548</td>\n",
       "      <td>1.046104</td>\n",
       "      <td>...</td>\n",
       "      <td>0.0</td>\n",
       "      <td>1.0</td>\n",
       "      <td>0.0</td>\n",
       "      <td>0.0</td>\n",
       "      <td>1.0</td>\n",
       "      <td>0.0</td>\n",
       "      <td>0.0</td>\n",
       "      <td>1.0</td>\n",
       "      <td>0.0</td>\n",
       "      <td>1.0</td>\n",
       "    </tr>\n",
       "    <tr>\n",
       "      <th>2</th>\n",
       "      <td>4.147306</td>\n",
       "      <td>2.539851</td>\n",
       "      <td>3.85506</td>\n",
       "      <td>-0.185896</td>\n",
       "      <td>0.576248</td>\n",
       "      <td>5.396889</td>\n",
       "      <td>2.401708</td>\n",
       "      <td>8.466828</td>\n",
       "      <td>1.946869</td>\n",
       "      <td>0.602148</td>\n",
       "      <td>...</td>\n",
       "      <td>0.0</td>\n",
       "      <td>1.0</td>\n",
       "      <td>0.0</td>\n",
       "      <td>0.0</td>\n",
       "      <td>1.0</td>\n",
       "      <td>0.0</td>\n",
       "      <td>0.0</td>\n",
       "      <td>1.0</td>\n",
       "      <td>0.0</td>\n",
       "      <td>1.0</td>\n",
       "    </tr>\n",
       "    <tr>\n",
       "      <th>3</th>\n",
       "      <td>4.147306</td>\n",
       "      <td>2.539851</td>\n",
       "      <td>3.85506</td>\n",
       "      <td>0.564410</td>\n",
       "      <td>0.384165</td>\n",
       "      <td>5.396889</td>\n",
       "      <td>2.401708</td>\n",
       "      <td>8.466828</td>\n",
       "      <td>1.165727</td>\n",
       "      <td>1.464546</td>\n",
       "      <td>...</td>\n",
       "      <td>0.0</td>\n",
       "      <td>1.0</td>\n",
       "      <td>0.0</td>\n",
       "      <td>0.0</td>\n",
       "      <td>1.0</td>\n",
       "      <td>0.0</td>\n",
       "      <td>0.0</td>\n",
       "      <td>1.0</td>\n",
       "      <td>0.0</td>\n",
       "      <td>1.0</td>\n",
       "    </tr>\n",
       "    <tr>\n",
       "      <th>4</th>\n",
       "      <td>4.147306</td>\n",
       "      <td>2.539851</td>\n",
       "      <td>3.85506</td>\n",
       "      <td>0.212660</td>\n",
       "      <td>0.096041</td>\n",
       "      <td>5.396889</td>\n",
       "      <td>2.401708</td>\n",
       "      <td>8.466828</td>\n",
       "      <td>1.152152</td>\n",
       "      <td>0.500089</td>\n",
       "      <td>...</td>\n",
       "      <td>0.0</td>\n",
       "      <td>1.0</td>\n",
       "      <td>0.0</td>\n",
       "      <td>0.0</td>\n",
       "      <td>1.0</td>\n",
       "      <td>0.0</td>\n",
       "      <td>0.0</td>\n",
       "      <td>1.0</td>\n",
       "      <td>0.0</td>\n",
       "      <td>1.0</td>\n",
       "    </tr>\n",
       "  </tbody>\n",
       "</table>\n",
       "<p>5 rows × 650 columns</p>\n",
       "</div>"
      ],
      "text/plain": [
       "     Var114    Var117   Var111    Var113    Var112     Var86    Var150  \\\n",
       "0  4.147306  2.539851  3.85506 -1.804387  1.728743  5.396889  2.401708   \n",
       "1  4.147306  2.539851  3.85506  0.623253  0.864371  5.396889  2.401708   \n",
       "2  4.147306  2.539851  3.85506 -0.185896  0.576248  5.396889  2.401708   \n",
       "3  4.147306  2.539851  3.85506  0.564410  0.384165  5.396889  2.401708   \n",
       "4  4.147306  2.539851  3.85506  0.212660  0.096041  5.396889  2.401708   \n",
       "\n",
       "     Var135    Var134    Var119   ...    Var176  Var176  Var174  Var174  \\\n",
       "0  8.466828  1.083075  1.694178   ...       0.0     1.0     0.0     0.0   \n",
       "1  8.466828  0.626548  1.046104   ...       0.0     1.0     0.0     0.0   \n",
       "2  8.466828  1.946869  0.602148   ...       0.0     1.0     0.0     0.0   \n",
       "3  8.466828  1.165727  1.464546   ...       0.0     1.0     0.0     0.0   \n",
       "4  8.466828  1.152152  0.500089   ...       0.0     1.0     0.0     0.0   \n",
       "\n",
       "   Var174  Var179  Var179  Var179  Var178  Var178  \n",
       "0     1.0     0.0     0.0     1.0     0.0     1.0  \n",
       "1     1.0     0.0     0.0     1.0     0.0     1.0  \n",
       "2     1.0     0.0     0.0     1.0     0.0     1.0  \n",
       "3     1.0     0.0     0.0     1.0     0.0     1.0  \n",
       "4     1.0     0.0     0.0     1.0     0.0     1.0  \n",
       "\n",
       "[5 rows x 650 columns]"
      ]
     },
     "execution_count": 27,
     "metadata": {},
     "output_type": "execute_result"
    }
   ],
   "source": [
    "X_transform.head()"
   ]
  },
  {
   "cell_type": "markdown",
   "metadata": {},
   "source": [
    "Общая корявенькая функция препроцессинга "
   ]
  },
  {
   "cell_type": "code",
   "execution_count": 23,
   "metadata": {
    "collapsed": true
   },
   "outputs": [],
   "source": [
    "def data_preprocessing(X, Categorical_var, Float_var, thr_float=0.005, thr_cat=0.005, fill = 'mean'):\n",
    "    X_p = X.copy()\n",
    "    X_p = X_p[Categorical_var+Float_var]\n",
    "    X_p = clear_outliers(X_p, Float_var, thr_float*100)\n",
    "    \n",
    "    if fill == 'mean':\n",
    "        X_p[Float_var] = X_p[Float_var].fillna(calculate_means(X_p[Float_var]))\n",
    "    else: \n",
    "        X_p[Float_var] = X_p[Float_var].fillna(0) \n",
    "        \n",
    "    X_p = clear_categorical(X_p,Categorical_var,thr_cat)\n",
    "    \n",
    "    le = preprocessing.LabelEncoder()\n",
    "    \n",
    "    for column in Categorical_var:\n",
    "        X_p[column]=le.fit_transform(X_p[column])\n",
    "    \n",
    "    Float_data_indices = np.array([(column in Float_var) for column in X_p.columns], dtype = bool)\n",
    "    Cat_data_indices = np.array([(column in Categorical_var) for column in X_p.columns], dtype = bool)\n",
    "    \n",
    "    Transformer = pipeline.FeatureUnion(transformer_list = [        \n",
    "            #numeric\n",
    "            ('numeric_variables_processing', pipeline.Pipeline(steps = [\n",
    "                ('selecting', preprocessing.FunctionTransformer(lambda X_p: X_p[:, Float_data_indices])),\n",
    "                ('scaling', preprocessing.StandardScaler(with_mean = 0))            \n",
    "                        ])),\n",
    "        \n",
    "            #categorical\n",
    "            ('categorical_variables_processing', pipeline.Pipeline(steps = [\n",
    "                ('selecting', preprocessing.FunctionTransformer(lambda X_p: X_p[:, Cat_data_indices])),\n",
    "                ('hot_encoding', preprocessing.OneHotEncoder(handle_unknown = 'ignore'))            \n",
    "                        ])),\n",
    "        ])\n",
    "    X_p_transform = Transformer.fit_transform(X_p)  \n",
    "    \n",
    "    array_cat = []\n",
    "    first = 0\n",
    "    for var, i  in zip(Categorical_var, Transformer.transformer_list[1][1].steps[1][1].feature_indices_[1:]):\n",
    "        array_cat[first:i]= [var]*(i-first)\n",
    "        first = i\n",
    "    array_cat = np.array(array_cat) \n",
    "        \n",
    "       \n",
    "    X_p_transform = pd.DataFrame( data = X_p_transform.toarray(), columns= list(Float_var)+list(array_cat))\n",
    "        \n",
    "    return X_p_transform    "
   ]
  },
  {
   "cell_type": "markdown",
   "metadata": {},
   "source": [
    "## Построение модели"
   ]
  },
  {
   "cell_type": "markdown",
   "metadata": {},
   "source": [
    "#### cv_strategy"
   ]
  },
  {
   "cell_type": "code",
   "execution_count": 29,
   "metadata": {
    "collapsed": false
   },
   "outputs": [],
   "source": [
    "cv_strategy = cross_validation.StratifiedKFold(Y, n_folds = 5, random_state = 0)"
   ]
  },
  {
   "cell_type": "markdown",
   "metadata": {},
   "source": [
    "#### SVM"
   ]
  },
  {
   "cell_type": "markdown",
   "metadata": {},
   "source": [
    "Просто попробовал"
   ]
  },
  {
   "cell_type": "code",
   "execution_count": 26,
   "metadata": {
    "collapsed": false
   },
   "outputs": [],
   "source": [
    "from sklearn import svm "
   ]
  },
  {
   "cell_type": "code",
   "execution_count": 30,
   "metadata": {
    "collapsed": true
   },
   "outputs": [],
   "source": [
    "SVC = svm.SVC(class_weight='balanced', C=0.05,)"
   ]
  },
  {
   "cell_type": "code",
   "execution_count": 32,
   "metadata": {
    "collapsed": false,
    "scrolled": true
   },
   "outputs": [
    {
     "name": "stdout",
     "output_type": "stream",
     "text": [
      "Wall time: 1h 10min 16s\n",
      "mean: 0.660843071969, std: 0.00611730782823\n"
     ]
    }
   ],
   "source": [
    "%time scoring = cross_validation.cross_val_score(SVC, X_transform, Y, scoring = 'roc_auc', cv = cv_strategy)\n",
    "print 'mean: {}, std: {}'.format(scoring.mean(), scoring.std())"
   ]
  },
  {
   "cell_type": "markdown",
   "metadata": {},
   "source": [
    "#### GradientBoostingClassifier"
   ]
  },
  {
   "cell_type": "code",
   "execution_count": 31,
   "metadata": {
    "collapsed": true
   },
   "outputs": [],
   "source": [
    "GBC = ensemble.GradientBoostingClassifier(max_depth=3,n_estimators=100,learning_rate=0.1,subsample=0.66)"
   ]
  },
  {
   "cell_type": "code",
   "execution_count": 32,
   "metadata": {
    "collapsed": false
   },
   "outputs": [
    {
     "name": "stdout",
     "output_type": "stream",
     "text": [
      "Wall time: 6min 45s\n",
      "mean: 0.729354903493, std: 0.00626670714704\n"
     ]
    }
   ],
   "source": [
    "%time scoring = cross_validation.cross_val_score(GBC, X_transform, Y, scoring = 'roc_auc', cv = cv_strategy)\n",
    "\n",
    "print 'mean: {}, std: {}'.format(scoring.mean(), scoring.std())"
   ]
  },
  {
   "cell_type": "code",
   "execution_count": 37,
   "metadata": {
    "collapsed": false
   },
   "outputs": [
    {
     "name": "stdout",
     "output_type": "stream",
     "text": [
      "Wall time: 6min 55s\n",
      "             precision    recall  f1-score   support\n",
      "\n",
      "         -1       0.93      1.00      0.96     37024\n",
      "          1       0.57      0.03      0.05      2976\n",
      "\n",
      "avg / total       0.90      0.93      0.89     40000\n",
      "\n"
     ]
    }
   ],
   "source": [
    "%time predict = cross_validation.cross_val_predict(GBC, X_transform, Y, cv = cv_strategy)\n",
    "\n",
    "print metrics.classification_report(Y, predict)"
   ]
  },
  {
   "cell_type": "code",
   "execution_count": 117,
   "metadata": {
    "collapsed": true
   },
   "outputs": [],
   "source": [
    "train_data, hold_out_data, train_labels, hold_out_labels = cross_validation.train_test_split(X_transform, Y, stratify = Y, test_size = 0.2)"
   ]
  },
  {
   "cell_type": "markdown",
   "metadata": {},
   "source": [
    "Найдем наиболее важные признаки для градиентного бустинга"
   ]
  },
  {
   "cell_type": "code",
   "execution_count": 120,
   "metadata": {
    "collapsed": false
   },
   "outputs": [],
   "source": [
    "GBC.fit(train_data, train_labels)\n",
    "y_score = GBC.predict(hold_out_data)"
   ]
  },
  {
   "cell_type": "markdown",
   "metadata": {},
   "source": [
    "Значения feature_importances для всех переменных производных от одной категориальной складывались"
   ]
  },
  {
   "cell_type": "code",
   "execution_count": 121,
   "metadata": {
    "collapsed": false
   },
   "outputs": [],
   "source": [
    "Feature_importance = sorted(zip(map(lambda x: int(x[3:]),X_transform.columns), GBC.feature_importances_),key = lambda x: x[1], reverse = True)\n",
    "Feature_importance = pd.DataFrame(Feature_importance, columns = ['Var', 'Imp']).groupby('Var').sum()\n",
    "Feature_importance.sort_values('Imp',ascending=False,inplace=True)\n",
    "Importance_categorical = Feature_importance[Feature_importance.index>190]\n",
    "Importance_float =Feature_importance[Feature_importance.index<190]"
   ]
  },
  {
   "cell_type": "code",
   "execution_count": 332,
   "metadata": {
    "collapsed": false
   },
   "outputs": [
    {
     "data": {
      "text/html": [
       "<div>\n",
       "<table border=\"1\" class=\"dataframe\">\n",
       "  <thead>\n",
       "    <tr style=\"text-align: right;\">\n",
       "      <th></th>\n",
       "      <th>Imp</th>\n",
       "    </tr>\n",
       "    <tr>\n",
       "      <th>Var</th>\n",
       "      <th></th>\n",
       "    </tr>\n",
       "  </thead>\n",
       "  <tbody>\n",
       "    <tr>\n",
       "      <th>126</th>\n",
       "      <td>0.158840</td>\n",
       "    </tr>\n",
       "    <tr>\n",
       "      <th>113</th>\n",
       "      <td>0.064165</td>\n",
       "    </tr>\n",
       "    <tr>\n",
       "      <th>189</th>\n",
       "      <td>0.055437</td>\n",
       "    </tr>\n",
       "    <tr>\n",
       "      <th>57</th>\n",
       "      <td>0.048102</td>\n",
       "    </tr>\n",
       "    <tr>\n",
       "      <th>73</th>\n",
       "      <td>0.036536</td>\n",
       "    </tr>\n",
       "  </tbody>\n",
       "</table>\n",
       "</div>"
      ],
      "text/plain": [
       "          Imp\n",
       "Var          \n",
       "126  0.158840\n",
       "113  0.064165\n",
       "189  0.055437\n",
       "57   0.048102\n",
       "73   0.036536"
      ]
     },
     "execution_count": 332,
     "metadata": {},
     "output_type": "execute_result"
    }
   ],
   "source": [
    "Importance_float.head()"
   ]
  },
  {
   "cell_type": "code",
   "execution_count": 120,
   "metadata": {
    "collapsed": false
   },
   "outputs": [
    {
     "data": {
      "text/plain": [
       "<matplotlib.axes._subplots.AxesSubplot at 0x427dcb00>"
      ]
     },
     "execution_count": 120,
     "metadata": {},
     "output_type": "execute_result"
    },
    {
     "data": {
      "image/png": "[encoded data removed]",
      "text/plain": [
       "<matplotlib.figure.Figure at 0x3fdb0e10>"
      ]
     },
     "metadata": {},
     "output_type": "display_data"
    }
   ],
   "source": [
    "Importance_float[:40].plot(x='var', y='Imp', kind='bar',figsize=(20,10),fontsize=20,legend=False) "
   ]
  },
  {
   "cell_type": "code",
   "execution_count": 148,
   "metadata": {
    "collapsed": true
   },
   "outputs": [],
   "source": [
    "def confusions_matrix(XSeries,YSeries):\n",
    "    confusions = []\n",
    "    XFactors = XSeries.value_counts().axes[0]\n",
    "    YFactors = YSeries.value_counts().axes[0]\n",
    "    matrix = pd.DataFrame(columns=YFactors, index=XFactors )\n",
    "    for XFactor in XFactors:\n",
    "        for YFactor in YFactors :\n",
    "            a = (XSeries == XFactor) \n",
    "            b = (YSeries == YFactor)\n",
    "            matrix.at[XFactor, YFactor] = sum(((a==1) & (b==1)).values)\n",
    "    \n",
    "    return np.array(matrix)"
   ]
  },
  {
   "cell_type": "markdown",
   "metadata": {},
   "source": [
    "Расчет корреляции V Крамера"
   ]
  },
  {
   "cell_type": "code",
   "execution_count": 149,
   "metadata": {
    "collapsed": true
   },
   "outputs": [],
   "source": [
    "def v_cramer(confusion_matrix):\n",
    "    n = confusion_matrix.sum()\n",
    "    if n > 40 and (len(confusion_matrix[confusion_matrix<5])/float(confusion_matrix.shape[0]*confusion_matrix.shape[1])<0.2):      \n",
    "        chi2 = chi2_contingency(confusion_matrix)[0]\n",
    "        n = confusion_matrix.sum()\n",
    "        output = np.sqrt(chi2 / (n*(min(confusion_matrix.shape)-1)))\n",
    "    else:\n",
    "        output=0\n",
    "    return output"
   ]
  },
  {
   "cell_type": "code",
   "execution_count": 155,
   "metadata": {
    "collapsed": false,
    "scrolled": false
   },
   "outputs": [],
   "source": [
    "VC_array = []\n",
    "for var in  Categorical_var:  \n",
    "    conf_matrix = confusions_matrix(X[var],Y)\n",
    "    V = v_cramer(conf_matrix)\n",
    "    VC_array.append((var,V))"
   ]
  },
  {
   "cell_type": "code",
   "execution_count": null,
   "metadata": {
    "collapsed": false
   },
   "outputs": [],
   "source": [
    "sorted(VC_array,key = lambda x:x[1],reverse=True)"
   ]
  },
  {
   "cell_type": "markdown",
   "metadata": {},
   "source": [
    "## Варианты градиентного бустинга"
   ]
  },
  {
   "cell_type": "code",
   "execution_count": 134,
   "metadata": {
    "collapsed": false
   },
   "outputs": [],
   "source": [
    "cv_strategy = cross_validation.StratifiedKFold(Y, n_folds = 10, random_state = 0)"
   ]
  },
  {
   "cell_type": "code",
   "execution_count": 135,
   "metadata": {
    "collapsed": false
   },
   "outputs": [],
   "source": [
    "GBC = ensemble.GradientBoostingClassifier(max_depth=3 ,n_estimators=300,learning_rate=0.1,min_samples_split=5, subsample=0.66)\n",
    "predict = sklearn.model_selection.cross_val_predict(GBC, X_transform, Y, method= 'predict_proba', cv = cv_strategy)"
   ]
  },
  {
   "cell_type": "code",
   "execution_count": 136,
   "metadata": {
    "collapsed": true
   },
   "outputs": [
    {
     "data": {
      "image/png": "[encoded data removed]",
      "text/plain": [
       "<matplotlib.figure.Figure at 0x42d0c160>"
      ]
     },
     "metadata": {},
     "output_type": "display_data"
    }
   ],
   "source": [
    "plot_precision_recall_curve(Y,predict[:,1])"
   ]
  },
  {
   "cell_type": "code",
   "execution_count": 137,
   "metadata": {
    "collapsed": false
   },
   "outputs": [
    {
     "name": "stdout",
     "output_type": "stream",
     "text": [
      "Wall time: 2h 52min 12s\n"
     ]
    }
   ],
   "source": [
    "GBC = ensemble.GradientBoostingClassifier(max_depth=4 ,n_estimators=800,learning_rate=0.01, subsample=0.66)\n",
    "% time predict_2 = sklearn.model_selection.cross_val_predict(GBC, X_transform, Y, method= 'predict_proba', cv = cv_strategy)"
   ]
  },
  {
   "cell_type": "code",
   "execution_count": 275,
   "metadata": {
    "collapsed": false
   },
   "outputs": [],
   "source": [
    "precision, recall, thresholds  = metrics.precision_recall_curve(Y, predict_2[:,1])"
   ]
  },
  {
   "cell_type": "code",
   "execution_count": 333,
   "metadata": {
    "collapsed": false
   },
   "outputs": [],
   "source": [
    "DDF =  pd.DataFrame(precision,recall,columns=['precision'])\n",
    "DDF['thresholds'] = [0]+list(thresholds)"
   ]
  },
  {
   "cell_type": "code",
   "execution_count": 303,
   "metadata": {
    "collapsed": true
   },
   "outputs": [
    {
     "data": {
      "image/png": "[encoded data removed]",
      "text/plain": [
       "<matplotlib.figure.Figure at 0x42c26d68>"
      ]
     },
     "metadata": {},
     "output_type": "display_data"
    }
   ],
   "source": [
    "plot_precision_recall_curve(Y,predict_2[:,1])"
   ]
  },
  {
   "cell_type": "code",
   "execution_count": 351,
   "metadata": {
    "collapsed": false,
    "scrolled": true
   },
   "outputs": [
    {
     "name": "stdout",
     "output_type": "stream",
     "text": [
      "Доля минорного класса: 0.3\n",
      "             precision    recall  f1-score   support\n",
      "\n",
      "         -1       0.93      0.99      0.96      7384\n",
      "          1       0.44      0.05      0.09       616\n",
      "\n",
      "avg / total       0.89      0.92      0.89      8000\n",
      "\n",
      "0.741667663323\n"
     ]
    }
   ],
   "source": [
    "seed = 7\n",
    "hold_out_size = 0.2\n",
    "X_train, X_hold_out, y_train, y_hold_out = cross_validation.train_test_split(X_transform, Y, test_size=hold_out_size, \\\n",
    "                                                                             random_state=seed)\n",
    "GBC_l = ensemble.GradientBoostingClassifier(max_depth=5 ,n_estimators=1000,learning_rate=0.01,subsample=0.3)\n",
    "\n",
    "X_balanced,Y_balanced = random_undersampling(X_train, y_train, 0.1)\n",
    "GBC_l.fit(X_balanced,Y_balanced)\n",
    "print 'Доля минорного класса: {}'.format(0.1)\n",
    "print metrics.classification_report(y_hold_out, GBC_l.predict(X_hold_out))\n",
    "print metrics.roc_auc_score(y_hold_out,GBC_l.predict_proba(X_hold_out)[:,1])"
   ]
  },
  {
   "cell_type": "markdown",
   "metadata": {},
   "source": [
    "## Cтекинг алгоритмов"
   ]
  },
  {
   "cell_type": "code",
   "execution_count": 173,
   "metadata": {
    "collapsed": true
   },
   "outputs": [],
   "source": [
    "def Stack_v2(n_levels, k_folds, X, Y, Z, a, M):\n",
    "    \"\"\"\n",
    "    X,Y - данные и метки для обучения\n",
    "    Z - выбока для получения значений целевой метки\n",
    "    a - базвый алгорит \n",
    "    M - метаалгоритм \n",
    "    \n",
    "    Подробнее в записке \n",
    "    \"\"\" \n",
    "    X_train = X.copy()\n",
    "    X_train.index = range(0,len(X_train))\n",
    "    \n",
    "    X_MF = pd.DataFrame(index=range(0,len(X_train)))\n",
    "   \n",
    "    Y_train = Y.copy()\n",
    "    Y_train.index = range(0,len(Y_train))\n",
    "    \n",
    "    Z_predict = Z.copy()\n",
    "    Z_predict.index = range(0,len(Z_predict))\n",
    "    \n",
    "    Z_MF = pd.DataFrame(index=range(0,len(Z_predict)))\n",
    "    \n",
    "    column = X_train.shape[1]\n",
    "\n",
    "    \n",
    "    for i in xrange(1,n_levels+1):\n",
    "        print i\n",
    "        skf = StratifiedKFold(Y_train.values, n_folds=k_folds)\n",
    "        \n",
    "\n",
    "        MF  = pd.Series()\n",
    "        MF_Z = np.array([0.]*len(Z_predict))\n",
    "        \n",
    "        for train_index, test_index in skf:\n",
    "            a.fit(X_train.iloc[train_index], Y_train.iloc[train_index])\n",
    "            prediction = a.predict_proba(X_train.iloc[test_index])[:,1]\n",
    "            MF = pd.concat([MF,pd.Series(data=prediction, index=test_index)],axis=0, join='inner')\n",
    "\n",
    "            MF_Z+=np.array(a.predict_proba(Z_predict)[:,1])\n",
    "\n",
    "\n",
    "        X_MF['col'+str(i)]=MF.values\n",
    "        Z_MF['col'+str(i)]=MF_Z/k_folds\n",
    "\n",
    "    X_train['new']=X_MF.apply(sum,axis=1)/n_levels \n",
    "\n",
    "    Z_predict['new']=Z_MF.apply(sum,axis=1)/n_levels \n",
    "    \n",
    "    \n",
    "    M.fit(X_train,Y_train)\n",
    "    P = M.predict_proba(Z_predict)\n",
    "    return P"
   ]
  },
  {
   "cell_type": "code",
   "execution_count": 171,
   "metadata": {
    "collapsed": false
   },
   "outputs": [],
   "source": [
    "from sklearn.cross_validation import StratifiedKFold"
   ]
  },
  {
   "cell_type": "code",
   "execution_count": 176,
   "metadata": {
    "collapsed": false
   },
   "outputs": [
    {
     "name": "stdout",
     "output_type": "stream",
     "text": [
      "1\n",
      "2\n",
      "3\n",
      "4\n",
      "5\n"
     ]
    }
   ],
   "source": [
    "train_data, hold_out_data, train_labels, hold_out_labels = cross_validation.train_test_split(X_transform, Y, stratify =Y, test_size = 0.2)\n",
    "GBC_b = ensemble.GradientBoostingClassifier(max_depth=4 ,n_estimators=800,learning_rate=0.01, subsample=0.66)\n",
    "LR_a = linear_model.LogisticRegression(C=0.05,penalty='l1', max_iter=100,n_jobs=-1, class_weight={1: 5, -1: 1})\n",
    "p = Stack_v2(5, 25, train_data,train_labels,hold_out_data, LR_a , GBC_b)"
   ]
  },
  {
   "cell_type": "code",
   "execution_count": 175,
   "metadata": {
    "collapsed": false
   },
   "outputs": [
    {
     "data": {
      "text/plain": [
       "0.72970954215582251"
      ]
     },
     "execution_count": 175,
     "metadata": {},
     "output_type": "execute_result"
    }
   ],
   "source": [
    "metrics.roc_auc_score(hold_out_labels, p[:,1]) # 1,10"
   ]
  },
  {
   "cell_type": "code",
   "execution_count": 335,
   "metadata": {
    "collapsed": true
   },
   "outputs": [
    {
     "data": {
      "image/png": "[encoded data removed]",
      "text/plain": [
       "<matplotlib.figure.Figure at 0x42c379e8>"
      ]
     },
     "metadata": {},
     "output_type": "display_data"
    }
   ],
   "source": [
    "plot_precision_recall_curve(hold_out_labels, p[:,1])"
   ]
  },
  {
   "cell_type": "markdown",
   "metadata": {},
   "source": [
    "### Построение кривых обучения "
   ]
  },
  {
   "cell_type": "code",
   "execution_count": 80,
   "metadata": {
    "collapsed": false
   },
   "outputs": [],
   "source": [
    "train_sizes_abs, train_scores, test_scores = model_selection.learning_curve(GBC, X_transform, Y, scoring = 'roc_auc',\\\n",
    "                                            train_sizes=np.linspace(0.1, 1, 10), n_jobs=-1, cv=cv_strategy)"
   ]
  },
  {
   "cell_type": "code",
   "execution_count": 93,
   "metadata": {
    "collapsed": true
   },
   "outputs": [],
   "source": [
    "def plot_learning_curve(train_sizes, train_scores, test_scores):\n",
    "    plt.figure(figsize=(15,10))\n",
    "    plt.xlabel(u\"Размер обучающей выборки\",fontsize = 25)\n",
    "    plt.ylabel(\"AUC ROC\",fontsize = 25)\n",
    "    plt.xticks(fontsize = 25)\n",
    "    plt.yticks(fontsize = 25)\n",
    "    train_scores_mean = np.mean(train_scores, axis=1)\n",
    "    train_scores_std = np.std(train_scores, axis=1)\n",
    "    test_scores_mean = np.mean(test_scores, axis=1)\n",
    "    test_scores_std = np.std(test_scores, axis=1)\n",
    "    plt.grid()\n",
    "\n",
    "    plt.fill_between(train_sizes, train_scores_mean - 2.*train_scores_std,\n",
    "                     train_scores_mean + 2.*train_scores_std, alpha=0.1,\n",
    "                     color=\"r\")\n",
    "    plt.fill_between(train_sizes, test_scores_mean - 2.*test_scores_std,\n",
    "                     test_scores_mean + 2.*test_scores_std, alpha=0.1, color=\"g\")\n",
    "    plt.plot(train_sizes, train_scores_mean, 'o-', color=\"r\",\n",
    "             label=u\"AUC на обучающей выборке\")\n",
    "    plt.plot(train_sizes, test_scores_mean, 'o-', color=\"g\",\n",
    "             label=u\"AUC на кросс-валидации\")\n",
    "\n",
    "    plt.legend(loc=\"best\",fontsize = 25)\n",
    "    plt.show()"
   ]
  },
  {
   "cell_type": "code",
   "execution_count": 94,
   "metadata": {
    "collapsed": true
   },
   "outputs": [
    {
     "data": {
      "image/png": "[encoded data removed]",
      "text/plain": [
       "<matplotlib.figure.Figure at 0x13a355c0>"
      ]
     },
     "metadata": {},
     "output_type": "display_data"
    }
   ],
   "source": [
    "plot_learning_curve(train_sizes_abs, train_scores, test_scores)"
   ]
  },
  {
   "cell_type": "code",
   "execution_count": 95,
   "metadata": {
    "collapsed": true
   },
   "outputs": [],
   "source": [
    "train_sizes_abs, train_scores, test_scores = model_selection.learning_curve(LR, X_transform, Y, scoring = 'roc_auc',\\\n",
    "                                            train_sizes=np.linspace(0.1, 1, 10), n_jobs=-1, cv=cv_strategy)"
   ]
  },
  {
   "cell_type": "code",
   "execution_count": 96,
   "metadata": {
    "collapsed": true
   },
   "outputs": [
    {
     "data": {
      "image/png": "[encoded data removed]",
      "text/plain": [
       "<matplotlib.figure.Figure at 0x23f82ba8>"
      ]
     },
     "metadata": {},
     "output_type": "display_data"
    }
   ],
   "source": [
    "plot_learning_curve(train_sizes_abs, train_scores, test_scores)"
   ]
  },
  {
   "cell_type": "markdown",
   "metadata": {},
   "source": [
    "## Балансировка весов для логистической регрессии"
   ]
  },
  {
   "cell_type": "code",
   "execution_count": 152,
   "metadata": {
    "collapsed": false
   },
   "outputs": [
    {
     "name": "stdout",
     "output_type": "stream",
     "text": [
      "Вес оттока: 1, mean: 0.721822429345, std: 0.00984475698499\n",
      "Вес оттока: 5, mean: 0.730431956343, std: 0.0097625965448\n",
      "Вес оттока: 10, mean: 0.730351074774, std: 0.00947463846693\n",
      "Вес оттока: 15, mean: 0.729326979617, std: 0.00934393612717\n",
      "Вес оттока: 20, mean: 0.728283197842, std: 0.00934342376312\n",
      "Вес оттока: 25, mean: 0.727360926794, std: 0.00939989604381\n"
     ]
    }
   ],
   "source": [
    "scoring_array = []\n",
    "for weight_ch in [1,5,10,15,20,25]:\n",
    "    LR = linear_model.LogisticRegression(C=0.05,penalty='l1', max_iter=100,n_jobs=-1, class_weight={1: weight_ch, -1: 1})\n",
    "    scoring = cross_validation.cross_val_score(LR, X_transform, Y, scoring = 'roc_auc', cv = cv_strategy)\n",
    "    scoring_array.append(scoring)\n",
    "    print 'Вес оттока: {}, mean: {}, std: {}'.format(weight_ch, scoring.mean(), scoring.std())"
   ]
  },
  {
   "cell_type": "markdown",
   "metadata": {},
   "source": [
    "Логарифмирование вещественнх "
   ]
  },
  {
   "cell_type": "code",
   "execution_count": 37,
   "metadata": {
    "collapsed": true
   },
   "outputs": [],
   "source": [
    "def log_float(X,Float_var):\n",
    "    X_log = X.copy()\n",
    "    for var in Float_var:\n",
    "        mininmum = X_log[var].min()\n",
    "        if mininmum<=1:\n",
    "            X_log[var]= np.log(abs(mininmum)+1+X_log[var])\n",
    "        else:\n",
    "            X_log[var]= np.log(X_log[var])\n",
    "    return X_log"
   ]
  },
  {
   "cell_type": "markdown",
   "metadata": {},
   "source": [
    "Немного нарушена последовательность, логарифмирование делалось для данных не пропущенных через  StandartScaler"
   ]
  },
  {
   "cell_type": "code",
   "execution_count": 38,
   "metadata": {
    "collapsed": false
   },
   "outputs": [],
   "source": [
    "X_log=log_float(X_transform,Float_var)"
   ]
  },
  {
   "cell_type": "code",
   "execution_count": 159,
   "metadata": {
    "collapsed": false
   },
   "outputs": [
    {
     "name": "stdout",
     "output_type": "stream",
     "text": [
      "mean: 0.732076286623, std: 0.00820498298736\n"
     ]
    }
   ],
   "source": [
    "LR = linear_model.LogisticRegression(C=0.05,penalty='l1', max_iter=100,n_jobs=-1, class_weight={1: 10, -1: 1})\n",
    "scoring = cross_validation.cross_val_score(LR, X_log, Y, scoring = 'roc_auc', cv = cv_strategy)\n",
    "print 'mean: {}, std: {}'.format(scoring.mean(), scoring.std())"
   ]
  },
  {
   "cell_type": "markdown",
   "metadata": {},
   "source": [
    "## VotingClassifier"
   ]
  },
  {
   "cell_type": "code",
   "execution_count": 49,
   "metadata": {
    "collapsed": true
   },
   "outputs": [],
   "source": [
    "LR1 =linear_model.LogisticRegression(C=0.05,penalty='l1', max_iter=100,n_jobs=-1, class_weight={1: 15, 0: 1})\n",
    "LR2 = linear_model.LogisticRegression(C=0.05,penalty='l1', max_iter=100,n_jobs=-1, class_weight={1: 10, 0: 1})\n",
    "LR3 = linear_model.LogisticRegression(C=0.05,penalty='l1', max_iter=100,n_jobs=-1, class_weight={1: 5, 0: 1})\n",
    "GBC1 = GradientBoostingClassifier(max_depth=3,n_estimators=300,learning_rate=0.1,subsample=0.66)"
   ]
  },
  {
   "cell_type": "code",
   "execution_count": 50,
   "metadata": {
    "collapsed": false
   },
   "outputs": [
    {
     "name": "stdout",
     "output_type": "stream",
     "text": [
      "Wall time: 5min 18s\n",
      "mean: 0.732280269396, std: 0.0082012201954\n"
     ]
    }
   ],
   "source": [
    "VC = VotingClassifier([('LR1', LR1), ('LR2', LR2),('LR3', LR3),('GBC1', GBC1)], voting='soft')\n",
    "%time scoring = cross_validation.cross_val_score(VC, X_log.as_matrix(), Y.replace({-1:0}), scoring = 'roc_auc', cv = cv_strategy)\n",
    "print 'mean: {}, std: {}'.format( scoring.mean(), scoring.std())"
   ]
  },
  {
   "cell_type": "markdown",
   "metadata": {},
   "source": [
    "График AUC от весов"
   ]
  },
  {
   "cell_type": "code",
   "execution_count": 71,
   "metadata": {
    "collapsed": false
   },
   "outputs": [],
   "source": [
    "def plot_scoring_curve(scoring_array, weights_array):\n",
    "    plt.figure(figsize=(15,10))\n",
    "    \n",
    "    plt.xlabel(u\"Вес оттока\",fontsize = 25)\n",
    "    plt.ylabel(u\"AUC ROC\",fontsize = 25)\n",
    "    scores_mean =  np.array( [scoring.mean() for scoring in scoring_array] )\n",
    "    scores_std =  np.array( [scoring.std() for scoring in scoring_array] )\n",
    "    plt.grid()\n",
    "    plt.xticks(fontsize = 25)\n",
    "    plt.yticks(fontsize = 25)\n",
    "    plt.fill_between(weights_array, scores_mean - 2*scores_std,\\\n",
    "                     scores_mean + 2*scores_std, alpha=0.1,\\\n",
    "                     color=\"r\")\n",
    "\n",
    "    plt.plot(weights_array, scores_mean, 'o-', color=\"r\",)\n",
    "\n",
    "    plt.legend(loc=\"best\")\n",
    "    plt.show()"
   ]
  },
  {
   "cell_type": "code",
   "execution_count": 72,
   "metadata": {
    "collapsed": true
   },
   "outputs": [
    {
     "name": "stderr",
     "output_type": "stream",
     "text": [
      "G:\\Python\\Anaconda2\\lib\\site-packages\\matplotlib\\axes\\_axes.py:545: UserWarning: No labelled objects found. Use label='...' kwarg on individual plots.\n",
      "  warnings.warn(\"No labelled objects found. \"\n"
     ]
    },
    {
     "data": {
      "image/png": "[encoded data removed]",
      "text/plain": [
       "<matplotlib.figure.Figure at 0x11f27630>"
      ]
     },
     "metadata": {},
     "output_type": "display_data"
    }
   ],
   "source": [
    "plot_scoring_curve(scoring_array,[1,5,10,15,20,25])"
   ]
  },
  {
   "cell_type": "code",
   "execution_count": 73,
   "metadata": {
    "collapsed": false,
    "scrolled": true
   },
   "outputs": [
    {
     "name": "stdout",
     "output_type": "stream",
     "text": [
      "             precision    recall  f1-score   support\n",
      "\n",
      "         -1       0.93      1.00      0.96     37024\n",
      "          1       0.33      0.00      0.00      2976\n",
      "\n",
      "avg / total       0.88      0.93      0.89     40000\n",
      "\n",
      "             precision    recall  f1-score   support\n",
      "\n",
      "         -1       0.94      0.96      0.95     37024\n",
      "          1       0.28      0.19      0.22      2976\n",
      "\n",
      "avg / total       0.89      0.90      0.89     40000\n",
      "\n",
      "             precision    recall  f1-score   support\n",
      "\n",
      "         -1       0.95      0.77      0.85     37024\n",
      "          1       0.16      0.54      0.25      2976\n",
      "\n",
      "avg / total       0.90      0.75      0.81     40000\n",
      "\n",
      "             precision    recall  f1-score   support\n",
      "\n",
      "         -1       0.97      0.55      0.70     37024\n",
      "          1       0.12      0.76      0.21      2976\n",
      "\n",
      "avg / total       0.90      0.57      0.67     40000\n",
      "\n",
      "             precision    recall  f1-score   support\n",
      "\n",
      "         -1       0.97      0.41      0.58     37024\n",
      "          1       0.10      0.85      0.19      2976\n",
      "\n",
      "avg / total       0.91      0.45      0.55     40000\n",
      "\n",
      "             precision    recall  f1-score   support\n",
      "\n",
      "         -1       0.98      0.33      0.49     37024\n",
      "          1       0.10      0.90      0.18      2976\n",
      "\n",
      "avg / total       0.91      0.37      0.47     40000\n",
      "\n"
     ]
    }
   ],
   "source": [
    "array_pr = []\n",
    "array_rc = []\n",
    "for weight_ch in [1,5,10,15,20,25]:\n",
    "    LR = linear_model.LogisticRegression(C=0.02,penalty='l1', max_iter=100,n_jobs=-1, class_weight={1: weight_ch, -1: 1})\n",
    "    predict = cross_validation.cross_val_predict(LR, X_transform, Y, cv = cv_strategy)\n",
    "    array_pr.append(metrics.precision_score(Y, predict))\n",
    "    array_rc.append(metrics.recall_score(Y, predict))\n",
    "    print metrics.classification_report(Y, predict)"
   ]
  },
  {
   "cell_type": "markdown",
   "metadata": {},
   "source": [
    "График precision-recall "
   ]
  },
  {
   "cell_type": "code",
   "execution_count": 128,
   "metadata": {
    "collapsed": true
   },
   "outputs": [],
   "source": [
    "def plot_precision_recall_curve(y_real, y_score):\n",
    "    \n",
    "    plt.figure(figsize=(15,10))\n",
    "    plt.grid()\n",
    "    precision, recall, thresholds  = metrics.precision_recall_curve(y_real, y_score)\n",
    "    plt.xticks(fontsize = 25)\n",
    "    plt.yticks(fontsize = 25)\n",
    "    plt.plot(recall, precision, color='navy',\n",
    "             label=u'Кривая Precision-Recall')\n",
    "    plt.xlabel('Recall',fontsize = 25)\n",
    "    plt.ylabel('Precision',fontsize = 25)\n",
    "    plt.ylim([0.0, 1.1])\n",
    "    plt.xlim([0.0, 1])\n",
    "    plt.legend(loc=\"lower left\",fontsize = 25)\n",
    "    plt.show()"
   ]
  },
  {
   "cell_type": "markdown",
   "metadata": {},
   "source": [
    "### Неглубокий случайный лес"
   ]
  },
  {
   "cell_type": "code",
   "execution_count": 148,
   "metadata": {
    "collapsed": false
   },
   "outputs": [
    {
     "data": {
      "text/plain": [
       "RandomForestClassifier(bootstrap=True, class_weight='balanced',\n",
       "            criterion='gini', max_depth=9, max_features='auto',\n",
       "            max_leaf_nodes=None, min_impurity_split=1e-07,\n",
       "            min_samples_leaf=1, min_samples_split=2,\n",
       "            min_weight_fraction_leaf=0.0, n_estimators=400, n_jobs=-1,\n",
       "            oob_score=False, random_state=None, verbose=0,\n",
       "            warm_start=False)"
      ]
     },
     "execution_count": 148,
     "metadata": {},
     "output_type": "execute_result"
    }
   ],
   "source": [
    "RF = ensemble.RandomForestClassifier(n_estimators=400,max_depth=9,n_jobs=-1,class_weight='balanced')\n",
    "RF.fit(train_data, train_labels)"
   ]
  },
  {
   "cell_type": "code",
   "execution_count": 149,
   "metadata": {
    "collapsed": false
   },
   "outputs": [],
   "source": [
    "y_score = RF.predict_proba(hold_out_data)"
   ]
  },
  {
   "cell_type": "code",
   "execution_count": 150,
   "metadata": {
    "collapsed": false,
    "scrolled": true
   },
   "outputs": [
    {
     "data": {
      "image/png": "[encoded data removed]",
      "text/plain": [
       "<matplotlib.figure.Figure at 0x2bdd3be0>"
      ]
     },
     "metadata": {},
     "output_type": "display_data"
    }
   ],
   "source": [
    "plot_precision_recall_curve(hold_out_labels,y_score[:,1])"
   ]
  },
  {
   "cell_type": "markdown",
   "metadata": {},
   "source": [
    "### Undersumpling"
   ]
  },
  {
   "cell_type": "code",
   "execution_count": 338,
   "metadata": {
    "collapsed": true
   },
   "outputs": [],
   "source": [
    "def random_undersampling(X,Y,minor_percent=0.5):\n",
    "    #minor_percent - доля минорного класса\n",
    "    X_balanced = X.copy()\n",
    "    Y_balanced = Y.copy()\n",
    "    drop_count = X_balanced.shape[0] - int(len(X_balanced[Y==1])/minor_percent)\n",
    "    index = np.random.choice(X_balanced[Y==-1].index, drop_count, replace=False)\n",
    "    X_balanced.drop(index,inplace=True)\n",
    "    Y_balanced.drop(index,inplace=True)\n",
    "    return X_balanced,Y_balanced"
   ]
  },
  {
   "cell_type": "code",
   "execution_count": 76,
   "metadata": {
    "collapsed": false
   },
   "outputs": [],
   "source": [
    "seed = 7\n",
    "hold_out_size = 0.2\n",
    "X_train, X_hold_out, y_train, y_hold_out = cross_validation.train_test_split(X_transform, Y, test_size=hold_out_size, \\\n",
    "                                                                             random_state=seed)"
   ]
  },
  {
   "cell_type": "code",
   "execution_count": 77,
   "metadata": {
    "collapsed": true
   },
   "outputs": [],
   "source": [
    "GBC = ensemble.GradientBoostingClassifier(max_depth=3,n_estimators=100,learning_rate=0.1,subsample=0.66)"
   ]
  },
  {
   "cell_type": "code",
   "execution_count": 78,
   "metadata": {
    "collapsed": false,
    "scrolled": true
   },
   "outputs": [
    {
     "name": "stdout",
     "output_type": "stream",
     "text": [
      "Доля минорного класса: 0.1\n",
      "             precision    recall  f1-score   support\n",
      "\n",
      "         -1       0.93      1.00      0.96      7384\n",
      "          1       0.46      0.05      0.08       616\n",
      "\n",
      "avg / total       0.89      0.92      0.89      8000\n",
      "\n",
      "0.743527049535\n",
      "__________________________________________________________\n",
      "Доля минорного класса: 0.2\n",
      "             precision    recall  f1-score   support\n",
      "\n",
      "         -1       0.93      0.98      0.95      7384\n",
      "          1       0.35      0.14      0.20       616\n",
      "\n",
      "avg / total       0.89      0.91      0.90      8000\n",
      "\n",
      "0.736958683922\n",
      "__________________________________________________________\n",
      "Доля минорного класса: 0.3\n",
      "             precision    recall  f1-score   support\n",
      "\n",
      "         -1       0.94      0.93      0.94      7384\n",
      "          1       0.26      0.28      0.27       616\n",
      "\n",
      "avg / total       0.89      0.88      0.89      8000\n",
      "\n",
      "0.742843534107\n",
      "__________________________________________________________\n",
      "Доля минорного класса: 0.4\n",
      "             precision    recall  f1-score   support\n",
      "\n",
      "         -1       0.95      0.84      0.89      7384\n",
      "          1       0.20      0.47      0.28       616\n",
      "\n",
      "avg / total       0.89      0.81      0.84      8000\n",
      "\n",
      "0.7388722633\n",
      "__________________________________________________________\n",
      "Доля минорного класса: 0.5\n",
      "             precision    recall  f1-score   support\n",
      "\n",
      "         -1       0.96      0.65      0.78      7384\n",
      "          1       0.14      0.71      0.24       616\n",
      "\n",
      "avg / total       0.90      0.65      0.73      8000\n",
      "\n",
      "0.740975793573\n",
      "__________________________________________________________\n"
     ]
    }
   ],
   "source": [
    "for minor_percent in [0.1, 0.2, 0.3, 0.4, 0.5]:\n",
    "    X_balanced,Y_balanced = random_undersampling(X_train, y_train, minor_percent)\n",
    "    GBC.fit(X_balanced,Y_balanced)\n",
    "    print 'Доля минорного класса: {}'.format(minor_percent)\n",
    "    print metrics.classification_report(y_hold_out, GBC.predict(X_hold_out))\n",
    "    print metrics.roc_auc_score(y_hold_out,GBC.predict_proba(X_hold_out)[:,1])\n",
    "    print '__________________________________________________________'"
   ]
  },
  {
   "cell_type": "markdown",
   "metadata": {},
   "source": [
    "## Отбор переменных"
   ]
  },
  {
   "cell_type": "markdown",
   "metadata": {},
   "source": [
    "#### Категориальные переменные"
   ]
  },
  {
   "cell_type": "code",
   "execution_count": 172,
   "metadata": {
    "collapsed": true
   },
   "outputs": [],
   "source": [
    "# Удалим худшие по V_Крамеру\n",
    "Bottom_10_VCramer = ['Var194','Var201','Var213', 'Var203', 'Var191', 'Var196', 'Var208', 'Var223', 'Var224', 'Var215']\n",
    "Bottom_15_VCramer = ['Var206', 'Var201', 'Var203', 'Var215', 'Var191', 'Var193', 'Var218', 'Var219', 'Var195',\\\n",
    "                     'Var194', 'Var196', 'Var212', 'Var213', 'Var210', 'Var211']"
   ]
  },
  {
   "cell_type": "code",
   "execution_count": 204,
   "metadata": {
    "collapsed": true
   },
   "outputs": [],
   "source": [
    "Categorical_var = list( set(Categorical_var) - set(Bottom_10_VCramer))"
   ]
  },
  {
   "cell_type": "code",
   "execution_count": 205,
   "metadata": {
    "collapsed": true
   },
   "outputs": [],
   "source": [
    "X = data_preprocessing(X, Categorical_var, Float_var, thr_float=0.005, thr_cat=0.005, fill = 'mean')"
   ]
  },
  {
   "cell_type": "code",
   "execution_count": null,
   "metadata": {
    "collapsed": false
   },
   "outputs": [],
   "source": [
    "GradientBoostingClassifier(max_depth=3,n_estimators=800,learning_rate=0.01,subsample=0.3)\n",
    "\n",
    "%time scoring = cross_validation.cross_val_score(GBC, X, Y, scoring = 'roc_auc', cv = cv_strategy)\n",
    "\n",
    "print 'mean: {}, std: {}'.format(scoring.mean(), scoring.std())"
   ]
  },
  {
   "cell_type": "markdown",
   "metadata": {
    "collapsed": true
   },
   "source": [
    "Wall time: 34min 23s\n",
    "mean: 0.741024226561, std: 0.00362293872035"
   ]
  },
  {
   "cell_type": "markdown",
   "metadata": {
    "collapsed": true
   },
   "source": [
    "    Удаление 10 худших по V Крамеру вероятно немного поднимает качетво. Хотя  интервалы в 2*std пересекаются с моделью без удаления. Хорошо бы увеличить количество фолдов до 10 для уменьшения дисперии и определенной оценки, но уж больно долго считает. "
   ]
  },
  {
   "cell_type": "code",
   "execution_count": 41,
   "metadata": {
    "collapsed": false
   },
   "outputs": [],
   "source": [
    "Categorical_var = list( set(Categorical_var) - set(Bottom_15_VCramer))"
   ]
  },
  {
   "cell_type": "code",
   "execution_count": 42,
   "metadata": {
    "collapsed": true
   },
   "outputs": [],
   "source": [
    "X = data_preprocessing(X, Categorical_var, Float_var, thr_float=0.005, thr_cat=0.005, fill = 'mean')"
   ]
  },
  {
   "cell_type": "code",
   "execution_count": 44,
   "metadata": {
    "collapsed": false
   },
   "outputs": [
    {
     "name": "stdout",
     "output_type": "stream",
     "text": [
      "Wall time: 23min 7s\n",
      "mean: 0.726618868344, std: 0.0018039824612\n"
     ]
    }
   ],
   "source": [
    "GBC = GradientBoostingClassifier(max_depth=3,n_estimators=800,learning_rate=0.01,subsample=0.3)\n",
    "\n",
    "%time scoring = cross_validation.cross_val_score(GBC, X, Y, scoring = 'roc_auc', cv = cv_strategy)\n",
    "\n",
    "print 'mean: {}, std: {}'.format(scoring.mean(), scoring.std())"
   ]
  },
  {
   "cell_type": "markdown",
   "metadata": {
    "collapsed": true
   },
   "source": [
    "      А вот тут качетсво определенно просело."
   ]
  },
  {
   "cell_type": "markdown",
   "metadata": {},
   "source": [
    "### LASSO"
   ]
  },
  {
   "cell_type": "code",
   "execution_count": null,
   "metadata": {
    "collapsed": true
   },
   "outputs": [],
   "source": [
    "train_data, hold_out_data, train_labels, hold_out_labels = cross_validation.train_test_split(X_transform, Y, stratify = Y, test_size = 0.2)"
   ]
  },
  {
   "cell_type": "code",
   "execution_count": 74,
   "metadata": {
    "collapsed": false
   },
   "outputs": [],
   "source": [
    "alphas = np.arange(0.0002, 0.01, 0.001)\n",
    "coefs_lasso=[]\n",
    "for alpha in alphas:\n",
    "    lasso_regressor = Lasso(alpha)\n",
    "    lasso_regressor.fit(X_log,  Y)\n",
    "    coefs_lasso.append(lasso_regressor.coef_)\n",
    "\n",
    "coefs_lasso =np.asarray(coefs_lasso)"
   ]
  },
  {
   "cell_type": "code",
   "execution_count": null,
   "metadata": {
    "collapsed": true
   },
   "outputs": [],
   "source": [
    "%time scoring = cross_validation.cross_val_score(Lasso(0.0002), X_log, Y, scoring = 'roc_auc', cv = cv_strategy)\n",
    "print 'mean: {}, std: {}'.format(scoring.mean(), scoring.std())"
   ]
  },
  {
   "cell_type": "code",
   "execution_count": 108,
   "metadata": {
    "collapsed": false
   },
   "outputs": [
    {
     "data": {
      "text/plain": [
       "(40000, 650)"
      ]
     },
     "execution_count": 108,
     "metadata": {},
     "output_type": "execute_result"
    }
   ],
   "source": [
    "X_log.shape"
   ]
  },
  {
   "cell_type": "code",
   "execution_count": 107,
   "metadata": {
    "collapsed": true
   },
   "outputs": [
    {
     "data": {
      "text/html": [
       "<div>\n",
       "<table border=\"1\" class=\"dataframe\">\n",
       "  <thead>\n",
       "    <tr style=\"text-align: right;\">\n",
       "      <th></th>\n",
       "      <th>0</th>\n",
       "    </tr>\n",
       "    <tr>\n",
       "      <th>1</th>\n",
       "      <th></th>\n",
       "    </tr>\n",
       "  </thead>\n",
       "  <tbody>\n",
       "    <tr>\n",
       "      <th>Var126</th>\n",
       "      <td>1.321241</td>\n",
       "    </tr>\n",
       "    <tr>\n",
       "      <th>Var189</th>\n",
       "      <td>0.827889</td>\n",
       "    </tr>\n",
       "    <tr>\n",
       "      <th>Var226</th>\n",
       "      <td>0.531673</td>\n",
       "    </tr>\n",
       "    <tr>\n",
       "      <th>Var210</th>\n",
       "      <td>0.426528</td>\n",
       "    </tr>\n",
       "    <tr>\n",
       "      <th>Var218</th>\n",
       "      <td>0.391977</td>\n",
       "    </tr>\n",
       "    <tr>\n",
       "      <th>Var206</th>\n",
       "      <td>0.119127</td>\n",
       "    </tr>\n",
       "    <tr>\n",
       "      <th>Var205</th>\n",
       "      <td>0.084792</td>\n",
       "    </tr>\n",
       "    <tr>\n",
       "      <th>Var73</th>\n",
       "      <td>0.083380</td>\n",
       "    </tr>\n",
       "    <tr>\n",
       "      <th>Var24</th>\n",
       "      <td>0.082144</td>\n",
       "    </tr>\n",
       "    <tr>\n",
       "      <th>Var212</th>\n",
       "      <td>0.067319</td>\n",
       "    </tr>\n",
       "    <tr>\n",
       "      <th>Var144</th>\n",
       "      <td>0.066026</td>\n",
       "    </tr>\n",
       "    <tr>\n",
       "      <th>Var221</th>\n",
       "      <td>0.064229</td>\n",
       "    </tr>\n",
       "    <tr>\n",
       "      <th>Var78</th>\n",
       "      <td>0.063141</td>\n",
       "    </tr>\n",
       "    <tr>\n",
       "      <th>Var113</th>\n",
       "      <td>0.062473</td>\n",
       "    </tr>\n",
       "    <tr>\n",
       "      <th>Var168</th>\n",
       "      <td>0.056493</td>\n",
       "    </tr>\n",
       "    <tr>\n",
       "      <th>Var35</th>\n",
       "      <td>0.055106</td>\n",
       "    </tr>\n",
       "    <tr>\n",
       "      <th>Var110</th>\n",
       "      <td>0.048875</td>\n",
       "    </tr>\n",
       "    <tr>\n",
       "      <th>Var193</th>\n",
       "      <td>0.046179</td>\n",
       "    </tr>\n",
       "    <tr>\n",
       "      <th>Var203</th>\n",
       "      <td>0.043625</td>\n",
       "    </tr>\n",
       "    <tr>\n",
       "      <th>Var74</th>\n",
       "      <td>0.040150</td>\n",
       "    </tr>\n",
       "    <tr>\n",
       "      <th>Var53</th>\n",
       "      <td>0.039261</td>\n",
       "    </tr>\n",
       "    <tr>\n",
       "      <th>Var228</th>\n",
       "      <td>0.037320</td>\n",
       "    </tr>\n",
       "    <tr>\n",
       "      <th>Var44</th>\n",
       "      <td>0.034829</td>\n",
       "    </tr>\n",
       "    <tr>\n",
       "      <th>Var65</th>\n",
       "      <td>0.034320</td>\n",
       "    </tr>\n",
       "    <tr>\n",
       "      <th>Var229</th>\n",
       "      <td>0.033997</td>\n",
       "    </tr>\n",
       "    <tr>\n",
       "      <th>Var153</th>\n",
       "      <td>0.030172</td>\n",
       "    </tr>\n",
       "    <tr>\n",
       "      <th>Var132</th>\n",
       "      <td>0.027817</td>\n",
       "    </tr>\n",
       "    <tr>\n",
       "      <th>Var87</th>\n",
       "      <td>0.027680</td>\n",
       "    </tr>\n",
       "    <tr>\n",
       "      <th>Var72</th>\n",
       "      <td>0.027443</td>\n",
       "    </tr>\n",
       "    <tr>\n",
       "      <th>Var207</th>\n",
       "      <td>0.027009</td>\n",
       "    </tr>\n",
       "  </tbody>\n",
       "</table>\n",
       "</div>"
      ],
      "text/plain": [
       "               0\n",
       "1               \n",
       "Var126  1.321241\n",
       "Var189  0.827889\n",
       "Var226  0.531673\n",
       "Var210  0.426528\n",
       "Var218  0.391977\n",
       "Var206  0.119127\n",
       "Var205  0.084792\n",
       "Var73   0.083380\n",
       "Var24   0.082144\n",
       "Var212  0.067319\n",
       "Var144  0.066026\n",
       "Var221  0.064229\n",
       "Var78   0.063141\n",
       "Var113  0.062473\n",
       "Var168  0.056493\n",
       "Var35   0.055106\n",
       "Var110  0.048875\n",
       "Var193  0.046179\n",
       "Var203  0.043625\n",
       "Var74   0.040150\n",
       "Var53   0.039261\n",
       "Var228  0.037320\n",
       "Var44   0.034829\n",
       "Var65   0.034320\n",
       "Var229  0.033997\n",
       "Var153  0.030172\n",
       "Var132  0.027817\n",
       "Var87   0.027680\n",
       "Var72   0.027443\n",
       "Var207  0.027009"
      ]
     },
     "execution_count": 107,
     "metadata": {},
     "output_type": "execute_result"
    }
   ],
   "source": [
    "dataframe[dataframe.iloc[:,0]!=0].sort_values(by=0, axis=0,ascending=False)[:30]"
   ]
  },
  {
   "cell_type": "code",
   "execution_count": 126,
   "metadata": {
    "collapsed": false
   },
   "outputs": [],
   "source": [
    "dataframe = pd.DataFrame(zip(abs(coefs_lasso.T[:,0]),  X_log.columns)).groupby(by=1).sum()"
   ]
  },
  {
   "cell_type": "code",
   "execution_count": null,
   "metadata": {
    "collapsed": false,
    "scrolled": true
   },
   "outputs": [],
   "source": [
    "plt.figure(figsize=(10, 6))\n",
    "for coef, feature in zip(coefs_lasso.T,  X_log.columns):\n",
    "    plt.plot(alphas, coef, label=feature, color=np.random.rand(3))\n",
    "plt.legend(loc=\"upper right\", bbox_to_anchor=(1.4, 0.95))\n",
    "plt.grid()\n",
    "plt.xlabel(\"alpha\")\n",
    "plt.ylabel(u\"Веса\")\n",
    "plt.title(\"Lasso\")"
   ]
  },
  {
   "cell_type": "markdown",
   "metadata": {},
   "source": [
    "Топ-50 Lasso"
   ]
  },
  {
   "cell_type": "code",
   "execution_count": 77,
   "metadata": {
    "collapsed": false
   },
   "outputs": [
    {
     "data": {
      "text/plain": [
       "array(['Var126', 'Var218', 'Var126', 'Var205', 'Var212', 'Var229',\n",
       "       'Var211', 'Var7', 'Var65', 'Var226', 'Var193', 'Var219', 'Var44',\n",
       "       'Var113', 'Var81', 'Var24', 'Var149', 'Var134', 'Var114', 'Var117',\n",
       "       'Var111', 'Var112', 'Var86', 'Var150', 'Var135', 'Var119', 'Var154',\n",
       "       'Var131', 'Var94', 'Var123', 'Var28', 'Var25', 'Var153', 'Var38',\n",
       "       'Var21', 'Var22', 'Var45', 'Var71', 'Var6', 'Var139', 'Var3',\n",
       "       'Var80', 'Var83', 'Var5', 'Var165', 'Var160', 'Var102', 'Var188',\n",
       "       'Var136', 'Var108'], dtype=object)"
      ]
     },
     "execution_count": 77,
     "metadata": {},
     "output_type": "execute_result"
    }
   ],
   "source": [
    "lasso_regressor = Lasso(0.002)\n",
    "lasso_regressor.fit(X_log, Y)\n",
    "arr = sorted( zip(lasso_regressor.coef_, X_log.columns),key=lambda x: x[0], reverse=True)\n",
    "arr = pd.DataFrame(arr)[:50]\n",
    "arr.iloc[:,1].values"
   ]
  },
  {
   "cell_type": "markdown",
   "metadata": {},
   "source": [
    "#### Вещественные переменные"
   ]
  },
  {
   "cell_type": "markdown",
   "metadata": {},
   "source": [
    "Раньше убирали категориальные теперь попробуем извавиться от лишних вещественных переменнх"
   ]
  },
  {
   "cell_type": "code",
   "execution_count": 59,
   "metadata": {
    "collapsed": false,
    "scrolled": true
   },
   "outputs": [
    {
     "name": "stdout",
     "output_type": "stream",
     "text": [
      "50\n",
      "Wall time: 4min 14s\n",
      "mean: 0.738716687419, std: 0.00534078824141\n",
      "Wall time: 4min 10s\n",
      "             precision    recall  f1-score   support\n",
      "\n",
      "         -1       0.93      1.00      0.96     37024\n",
      "          1       0.46      0.02      0.04      2976\n",
      "\n",
      "avg / total       0.89      0.93      0.89     40000\n",
      "\n",
      "__________________________________________________\n",
      "75\n",
      "Wall time: 4min 10s\n",
      "mean: 0.739794034915, std: 0.00457344641299\n",
      "Wall time: 4min 12s\n",
      "             precision    recall  f1-score   support\n",
      "\n",
      "         -1       0.93      1.00      0.96     37024\n",
      "          1       0.48      0.02      0.03      2976\n",
      "\n",
      "avg / total       0.89      0.93      0.89     40000\n",
      "\n",
      "__________________________________________________\n",
      "100\n",
      "Wall time: 4min 11s\n",
      "mean: 0.738692854772, std: 0.00396937563024\n",
      "Wall time: 4min 11s\n",
      "             precision    recall  f1-score   support\n",
      "\n",
      "         -1       0.93      1.00      0.96     37024\n",
      "          1       0.39      0.02      0.03      2976\n",
      "\n",
      "avg / total       0.89      0.92      0.89     40000\n",
      "\n",
      "__________________________________________________\n",
      "125\n",
      "Wall time: 4min 13s\n",
      "mean: 0.740756743114, std: 0.00342478414075\n",
      "Wall time: 4min 11s\n",
      "             precision    recall  f1-score   support\n",
      "\n",
      "         -1       0.93      1.00      0.96     37024\n",
      "          1       0.48      0.02      0.04      2976\n",
      "\n",
      "avg / total       0.89      0.93      0.89     40000\n",
      "\n",
      "__________________________________________________\n",
      "150\n",
      "Wall time: 4min 12s\n",
      "mean: 0.739329570674, std: 0.00402803539358\n",
      "Wall time: 4min 13s\n",
      "             precision    recall  f1-score   support\n",
      "\n",
      "         -1       0.93      1.00      0.96     37024\n",
      "          1       0.45      0.02      0.03      2976\n",
      "\n",
      "avg / total       0.89      0.93      0.89     40000\n",
      "\n",
      "__________________________________________________\n"
     ]
    }
   ],
   "source": [
    "for count in [50,75,100,125,150]:\n",
    "    \n",
    "    X = pd.read_csv('orange_small_churn_train_data.csv',index_col='ID')\n",
    "    Y = X['labels']\n",
    "    X.drop(['labels'],inplace=True,axis=1)\n",
    "    Float_var = [ 'Var'+str(name) for name in Importance_float.index[:count]]\n",
    "    print count\n",
    "    X = data_preprocessing(X, Categorical_var, Float_var, thr_float=0.005, thr_cat=0.005, fill = 'mean')\n",
    "    GBC = ensemble.GradientBoostingClassifier(max_depth=3,n_estimators=100,learning_rate=0.1,subsample=0.66)\n",
    "    %time scoring = cross_validation.cross_val_score(GBC, X_transform, Y, scoring = 'roc_auc', cv = cv_strategy)\n",
    "    print 'mean: {}, std: {}'.format(scoring.mean(), scoring.std())\n",
    "    %time predict = cross_validation.cross_val_predict(GBC, X_transform, Y, cv = cv_strategy)\n",
    "    print metrics.classification_report(Y, predict)\n",
    "    print '__________________________________________________'"
   ]
  },
  {
   "cell_type": "markdown",
   "metadata": {},
   "source": [
    "# Оптимальные параметры модели."
   ]
  },
  {
   "cell_type": "code",
   "execution_count": 66,
   "metadata": {
    "collapsed": false
   },
   "outputs": [],
   "source": [
    "X = pd.read_csv('orange_small_churn_train_data.csv',index_col='ID')\n",
    "Y = X['labels']\n",
    "X.drop(['labels'],inplace=True,axis=1)\n",
    "Float_var = [ 'Var'+str(name) for name in Importance_float.index[:50]]\n",
    "Categorical_var = list( set(Categorical_var) - set(Bottom_10_VCramer))\n",
    "X = data_preprocessing(X, Categorical_var, Float_var, thr_float=0.005, thr_cat=0.005, fill = 'mean')"
   ]
  },
  {
   "cell_type": "code",
   "execution_count": 75,
   "metadata": {
    "collapsed": true
   },
   "outputs": [],
   "source": [
    "parameters_grid = {\n",
    "    'max_depth' : [3,4,6],\n",
    "    'subsample' : [0.3, 0.5, 0.66],\n",
    "    'learning_rate' : [0.1, 0.01],\n",
    "    'n_estimators' : [100,200,300,400,800],\n",
    "}"
   ]
  },
  {
   "cell_type": "code",
   "execution_count": 76,
   "metadata": {
    "collapsed": false
   },
   "outputs": [],
   "source": [
    "randomized_grid_cv = grid_search.RandomizedSearchCV(ensemble.GradientBoostingClassifier(), parameters_grid, scoring = 'roc_auc', cv = cv_strategy, n_iter = 15, \n",
    "                                                   random_state = 0)"
   ]
  },
  {
   "cell_type": "code",
   "execution_count": 77,
   "metadata": {
    "collapsed": false
   },
   "outputs": [
    {
     "name": "stdout",
     "output_type": "stream",
     "text": [
      "Wall time: 3h 47min 24s\n"
     ]
    },
    {
     "data": {
      "text/plain": [
       "RandomizedSearchCV(cv=sklearn.cross_validation.StratifiedKFold(labels=[-1 -1 ..., -1 -1], n_folds=5, shuffle=False, random_state=0),\n",
       "          error_score='raise',\n",
       "          estimator=GradientBoostingClassifier(criterion='friedman_mse', init=None,\n",
       "              learning_rate=0.1, loss='deviance', max_depth=3,\n",
       "              max_features=None, max_leaf_nodes=None,\n",
       "              min_impurity_split=1e-07, min_samples_leaf=1,\n",
       "              min_samples_split=2, min_weight_fraction_leaf=0.0,\n",
       "              n_estimators=100, presort='auto', random_state=None,\n",
       "              subsample=1.0, verbose=0, warm_start=False),\n",
       "          fit_params={}, iid=True, n_iter=15, n_jobs=1,\n",
       "          param_distributions={'n_estimators': [100, 200, 300, 400, 800], 'subsample': [0.3, 0.5, 0.66], 'learning_rate': [0.1, 0.01], 'max_depth': [3, 4, 6]},\n",
       "          pre_dispatch='2*n_jobs', random_state=0, refit=True,\n",
       "          scoring='roc_auc', verbose=0)"
      ]
     },
     "execution_count": 77,
     "metadata": {},
     "output_type": "execute_result"
    }
   ],
   "source": [
    "%%time\n",
    "randomized_grid_cv.fit(X, Y)"
   ]
  },
  {
   "cell_type": "code",
   "execution_count": 78,
   "metadata": {
    "collapsed": false,
    "scrolled": true
   },
   "outputs": [
    {
     "data": {
      "text/plain": [
       "GradientBoostingClassifier(criterion='friedman_mse', init=None,\n",
       "              learning_rate=0.01, loss='deviance', max_depth=6,\n",
       "              max_features=None, max_leaf_nodes=None,\n",
       "              min_impurity_split=1e-07, min_samples_leaf=1,\n",
       "              min_samples_split=2, min_weight_fraction_leaf=0.0,\n",
       "              n_estimators=800, presort='auto', random_state=None,\n",
       "              subsample=0.66, verbose=0, warm_start=False)"
      ]
     },
     "execution_count": 78,
     "metadata": {},
     "output_type": "execute_result"
    }
   ],
   "source": [
    "randomized_grid_cv.best_estimator_"
   ]
  },
  {
   "cell_type": "code",
   "execution_count": 79,
   "metadata": {
    "collapsed": false,
    "scrolled": true
   },
   "outputs": [
    {
     "name": "stdout",
     "output_type": "stream",
     "text": [
      "0.742628415981\n",
      "{'n_estimators': 800, 'subsample': 0.66, 'learning_rate': 0.01, 'max_depth': 6}\n"
     ]
    }
   ],
   "source": [
    "print randomized_grid_cv.best_score_\n",
    "print randomized_grid_cv.best_params_"
   ]
  },
  {
   "cell_type": "markdown",
   "metadata": {},
   "source": [
    "## Замечания"
   ]
  },
  {
   "cell_type": "markdown",
   "metadata": {
    "collapsed": true
   },
   "source": [
    "1. Можно проверить еще несколько вариантов стэкинга, с помощью реализованной модели получить практически значимых результатов не удалось. \n",
    "2. Попытки поискать структуру DBScan, KNN методами и добвить их предсказания в качестве новых признаков в дата сет ни к чему не приводили. Перед использованием размерность данных понижалась sklearn.docomposition.PCA методом главных компонент до 50, 75 и 100. \n",
    "3. Удалось получить AUC логистической регресии всего на 0.01 отличающийся от AUC градиентного бустинга, качество регресси удалось сильно поднять за счет преобразования вещественных по типу переменных с небольшим колличеством значений в категориальные."
   ]
  },
  {
   "cell_type": "code",
   "execution_count": null,
   "metadata": {
    "collapsed": true
   },
   "outputs": [],
   "source": []
  }
 ],
 "metadata": {
  "kernelspec": {
   "display_name": "Python 2",
   "language": "python",
   "name": "python2"
  },
  "language_info": {
   "codemirror_mode": {
    "name": "ipython",
    "version": 2
   },
   "file_extension": ".py",
   "mimetype": "text/x-python",
   "name": "python",
   "nbconvert_exporter": "python",
   "pygments_lexer": "ipython2",
   "version": "2.7.13"
  }
 },
 "nbformat": 4,
 "nbformat_minor": 1
}
