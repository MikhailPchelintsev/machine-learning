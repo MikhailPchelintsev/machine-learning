{
 "cells": [
  {
   "cell_type": "code",
   "execution_count": 1,
   "metadata": {},
   "outputs": [],
   "source": [
    "import pandas as pd\n",
    "import numpy as np\n",
    "from combiner import Combiner"
   ]
  },
  {
   "cell_type": "code",
   "execution_count": 2,
   "metadata": {},
   "outputs": [
    {
     "data": {
      "text/html": [
       "<div>\n",
       "<style>\n",
       "    .dataframe thead tr:only-child th {\n",
       "        text-align: right;\n",
       "    }\n",
       "\n",
       "    .dataframe thead th {\n",
       "        text-align: left;\n",
       "    }\n",
       "\n",
       "    .dataframe tbody tr th {\n",
       "        vertical-align: top;\n",
       "    }\n",
       "</style>\n",
       "<table border=\"1\" class=\"dataframe\">\n",
       "  <thead>\n",
       "    <tr style=\"text-align: right;\">\n",
       "      <th></th>\n",
       "      <th>lifestyle_learning</th>\n",
       "      <th>Channel</th>\n",
       "      <th>Appeal_Topic</th>\n",
       "      <th>Appeal_Input_Channel</th>\n",
       "      <th>Earliar_Topic_nflag</th>\n",
       "      <th>Reg_Dt</th>\n",
       "    </tr>\n",
       "  </thead>\n",
       "  <tbody>\n",
       "    <tr>\n",
       "      <th>0</th>\n",
       "      <td>0.0</td>\n",
       "      <td>УС</td>\n",
       "      <td>Неуспешный взнос наличных</td>\n",
       "      <td>Входящий звонок</td>\n",
       "      <td>0</td>\n",
       "      <td>19NOV2017:07:38:32</td>\n",
       "    </tr>\n",
       "    <tr>\n",
       "      <th>1</th>\n",
       "      <td>0.0</td>\n",
       "      <td>УС</td>\n",
       "      <td>Неуспешный взнос наличных</td>\n",
       "      <td>Визит</td>\n",
       "      <td>0</td>\n",
       "      <td>18MAY2017:07:54:07</td>\n",
       "    </tr>\n",
       "    <tr>\n",
       "      <th>2</th>\n",
       "      <td>0.0</td>\n",
       "      <td>УС</td>\n",
       "      <td>Неуспешное снятие наличных</td>\n",
       "      <td>Визит</td>\n",
       "      <td>0</td>\n",
       "      <td>14JUL2017:03:29:30</td>\n",
       "    </tr>\n",
       "    <tr>\n",
       "      <th>3</th>\n",
       "      <td>NaN</td>\n",
       "      <td>УС</td>\n",
       "      <td>Неуспешный взнос наличных</td>\n",
       "      <td>Входящий звонок</td>\n",
       "      <td>0</td>\n",
       "      <td>31MAR2017:04:23:02</td>\n",
       "    </tr>\n",
       "    <tr>\n",
       "      <th>4</th>\n",
       "      <td>0.0</td>\n",
       "      <td>Не определено</td>\n",
       "      <td>Комиссии</td>\n",
       "      <td>Визит</td>\n",
       "      <td>0</td>\n",
       "      <td>06NOV2017:02:59:13</td>\n",
       "    </tr>\n",
       "  </tbody>\n",
       "</table>\n",
       "</div>"
      ],
      "text/plain": [
       "   lifestyle_learning        Channel                Appeal_Topic  \\\n",
       "0                 0.0             УС   Неуспешный взнос наличных   \n",
       "1                 0.0             УС   Неуспешный взнос наличных   \n",
       "2                 0.0             УС  Неуспешное снятие наличных   \n",
       "3                 NaN             УС   Неуспешный взнос наличных   \n",
       "4                 0.0  Не определено                    Комиссии   \n",
       "\n",
       "  Appeal_Input_Channel  Earliar_Topic_nflag              Reg_Dt  \n",
       "0      Входящий звонок                    0  19NOV2017:07:38:32  \n",
       "1                Визит                    0  18MAY2017:07:54:07  \n",
       "2                Визит                    0  14JUL2017:03:29:30  \n",
       "3      Входящий звонок                    0  31MAR2017:04:23:02  \n",
       "4                Визит                    0  06NOV2017:02:59:13  "
      ]
     },
     "execution_count": 2,
     "metadata": {},
     "output_type": "execute_result"
    }
   ],
   "source": [
    "X_test = pd.read_csv('X.csv',encoding='cp1251',index_col=0)\n",
    "Y  = X_test['Decision']\n",
    "del X_test['Decision']\n",
    "X_test.head()"
   ]
  },
  {
   "cell_type": "code",
   "execution_count": 3,
   "metadata": {},
   "outputs": [
    {
     "data": {
      "application/vnd.jupyter.widget-view+json": {
       "model_id": "043346c28d8647f28df8b1eb19bfc204"
      }
     },
     "metadata": {},
     "output_type": "display_data"
    }
   ],
   "source": [
    "combiner = Combiner()\n",
    "combiner.fit(X_test, Y) # Выполняет типизацию переменных и их группировку "
   ]
  },
  {
   "cell_type": "markdown",
   "metadata": {},
   "source": [
    "Представленный ниже метод <code>combiner.vfit() </code> реализует виджет позволяющий просмотреть автоматическую группировку и изменить её при необходимости. Окно виджета разбито на две части: \n",
    " *  левая, список переменных с их типами и information value, допускаяющий сортировку по нажатию на заголовок списка.\n",
    " *  правая, окно редактирования группировки, с интуитивным интерфейсом(выделяем группы через CTRL, определяем новую группу используя правую кнопку мыши."
   ]
  },
  {
   "cell_type": "code",
   "execution_count": 4,
   "metadata": {
    "collapsed": true
   },
   "outputs": [],
   "source": [
    "combiner.vfit()"
   ]
  },
  {
   "cell_type": "markdown",
   "metadata": {},
   "source": [
    "\"RARE\" - категория в которую объединяются редкие (менее 0.5% по частоте) значения категориальных переменных.\n",
    "\n",
    "\"UNKNOWN\" - категория содержащия новые значения, которые не присутсвовали в наборе данных поступившем на вход в метод fit, но появившиеся в наборке данных поданном на вход в метод transform.\n",
    "\n",
    "\"MISSING\" - категория содержащия значения np.nan. Создается для каждой категориальной переменной, даже если она не содержит пропуски. Если в новом наборе данных трансформируемых с помощью данной группировки появятся значения np.nan они будут отнесены к данной категории. "
   ]
  },
  {
   "cell_type": "code",
   "execution_count": 5,
   "metadata": {
    "collapsed": true
   },
   "outputs": [],
   "source": [
    "X_transform = combiner.transform(X_test, hand = True)"
   ]
  },
  {
   "cell_type": "markdown",
   "metadata": {},
   "source": [
    "Параметр hand по умолчанию True. Изменение занчения на False позволит использвоать для трансформации набора данных автоматическую группировку."
   ]
  },
  {
   "cell_type": "code",
   "execution_count": 6,
   "metadata": {},
   "outputs": [
    {
     "data": {
      "text/html": [
       "<div>\n",
       "<style>\n",
       "    .dataframe thead tr:only-child th {\n",
       "        text-align: right;\n",
       "    }\n",
       "\n",
       "    .dataframe thead th {\n",
       "        text-align: left;\n",
       "    }\n",
       "\n",
       "    .dataframe tbody tr th {\n",
       "        vertical-align: top;\n",
       "    }\n",
       "</style>\n",
       "<table border=\"1\" class=\"dataframe\">\n",
       "  <thead>\n",
       "    <tr style=\"text-align: right;\">\n",
       "      <th></th>\n",
       "      <th>lifestyle_learning</th>\n",
       "      <th>Channel</th>\n",
       "      <th>Appeal_Topic</th>\n",
       "      <th>Appeal_Input_Channel</th>\n",
       "      <th>Earliar_Topic_nflag</th>\n",
       "      <th>Reg_Dt</th>\n",
       "    </tr>\n",
       "  </thead>\n",
       "  <tbody>\n",
       "    <tr>\n",
       "      <th>0</th>\n",
       "      <td>2.0</td>\n",
       "      <td>1</td>\n",
       "      <td>1</td>\n",
       "      <td>1</td>\n",
       "      <td>1</td>\n",
       "      <td>19NOV2017:07:38:32</td>\n",
       "    </tr>\n",
       "    <tr>\n",
       "      <th>1</th>\n",
       "      <td>2.0</td>\n",
       "      <td>1</td>\n",
       "      <td>1</td>\n",
       "      <td>2</td>\n",
       "      <td>1</td>\n",
       "      <td>18MAY2017:07:54:07</td>\n",
       "    </tr>\n",
       "    <tr>\n",
       "      <th>2</th>\n",
       "      <td>2.0</td>\n",
       "      <td>1</td>\n",
       "      <td>3</td>\n",
       "      <td>2</td>\n",
       "      <td>1</td>\n",
       "      <td>14JUL2017:03:29:30</td>\n",
       "    </tr>\n",
       "    <tr>\n",
       "      <th>3</th>\n",
       "      <td>3.0</td>\n",
       "      <td>1</td>\n",
       "      <td>1</td>\n",
       "      <td>1</td>\n",
       "      <td>1</td>\n",
       "      <td>31MAR2017:04:23:02</td>\n",
       "    </tr>\n",
       "    <tr>\n",
       "      <th>4</th>\n",
       "      <td>2.0</td>\n",
       "      <td>2</td>\n",
       "      <td>2</td>\n",
       "      <td>2</td>\n",
       "      <td>1</td>\n",
       "      <td>06NOV2017:02:59:13</td>\n",
       "    </tr>\n",
       "  </tbody>\n",
       "</table>\n",
       "</div>"
      ],
      "text/plain": [
       "   lifestyle_learning Channel Appeal_Topic Appeal_Input_Channel  \\\n",
       "0                 2.0       1            1                    1   \n",
       "1                 2.0       1            1                    2   \n",
       "2                 2.0       1            3                    2   \n",
       "3                 3.0       1            1                    1   \n",
       "4                 2.0       2            2                    2   \n",
       "\n",
       "   Earliar_Topic_nflag              Reg_Dt  \n",
       "0                    1  19NOV2017:07:38:32  \n",
       "1                    1  18MAY2017:07:54:07  \n",
       "2                    1  14JUL2017:03:29:30  \n",
       "3                    1  31MAR2017:04:23:02  \n",
       "4                    1  06NOV2017:02:59:13  "
      ]
     },
     "execution_count": 6,
     "metadata": {},
     "output_type": "execute_result"
    }
   ],
   "source": [
    "X_transform.head()"
   ]
  }
 ],
 "metadata": {
  "kernelspec": {
   "display_name": "Python 3",
   "language": "python",
   "name": "python3"
  },
  "language_info": {
   "codemirror_mode": {
    "name": "ipython",
    "version": 3
   },
   "file_extension": ".py",
   "mimetype": "text/x-python",
   "name": "python",
   "nbconvert_exporter": "python",
   "pygments_lexer": "ipython3",
   "version": "3.6.1"
  }
 },
 "nbformat": 4,
 "nbformat_minor": 2
}
