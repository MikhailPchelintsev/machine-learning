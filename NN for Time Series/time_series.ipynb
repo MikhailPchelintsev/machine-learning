{
 "cells": [
  {
   "cell_type": "code",
   "execution_count": 2,
   "metadata": {},
   "outputs": [
    {
     "name": "stderr",
     "output_type": "stream",
     "text": [
      "Using TensorFlow backend.\n"
     ]
    }
   ],
   "source": [
    "from collections import namedtuple\n",
    "from multiprocessing import Pool\n",
    "import random\n",
    "import copy\n",
    "from sklearn import metrics\n",
    "import keras\n",
    "from keras import models, layers\n",
    "from collections import defaultdict\n",
    "import numpy as np \n",
    "import pandas as pd\n",
    "import pickle\n",
    "import datetime\n",
    "import scipy.stats\n",
    "import matplotlib.pyplot as plt\n",
    "from time import sleep"
   ]
  },
  {
   "cell_type": "markdown",
   "metadata": {},
   "source": [
    "#### 0. Вспомогательная функции и классы"
   ]
  },
  {
   "cell_type": "code",
   "execution_count": 4,
   "metadata": {
    "collapsed": true
   },
   "outputs": [],
   "source": [
    "def log_progress(sequence, every=1):\n",
    "        from ipywidgets import IntProgress\n",
    "        from IPython.display import display\n",
    "\n",
    "        progress = IntProgress(min=0, max=len(sequence), value=0)\n",
    "        display(progress)\n",
    "\n",
    "\n",
    "        for index, record in enumerate(sequence):\n",
    "            if index % every == 0:\n",
    "                if index == len(sequence):\n",
    "                     progress.value = len(sequence)\n",
    "                progress.value = index\n",
    "            yield record"
   ]
  },
  {
   "cell_type": "code",
   "execution_count": null,
   "metadata": {},
   "outputs": [],
   "source": [
    "for i in log_progress(range(400)):\n",
    "    sleep(0.01)"
   ]
  },
  {
   "cell_type": "code",
   "execution_count": 30,
   "metadata": {
    "collapsed": true
   },
   "outputs": [],
   "source": [
    "def mape(y_true, y_pred):\n",
    "    \"Функция вычисления mape\"\n",
    "    import warnings\n",
    "    warnings.simplefilter('ignore')\n",
    "    y_true = np.array(y_true)\n",
    "    y_pred = np.array(y_pred)\n",
    "    result = abs(y_true-y_pred)/y_true\n",
    "    result[np.where(np.isnan(result)| np.isinf(result))] = 0 \n",
    "    return np.mean(result)*100"
   ]
  },
  {
   "cell_type": "code",
   "execution_count": 55,
   "metadata": {
    "collapsed": true
   },
   "outputs": [],
   "source": [
    "def mae(y_true, y_pred):\n",
    "    \"Функция вычисления mape\"\n",
    "    import warnings\n",
    "    warnings.simplefilter('ignore')\n",
    "    y_true = np.array(y_true)\n",
    "    y_pred = np.array(y_pred)\n",
    "    result = abs(y_true-y_pred)\n",
    "    return np.mean(result)"
   ]
  },
  {
   "cell_type": "code",
   "execution_count": 5,
   "metadata": {
    "collapsed": true
   },
   "outputs": [],
   "source": [
    "class Normalizer:\n",
    "    def __init__(self, data: pd.DataFrame = None):\n",
    "        if data:\n",
    "            self.mean = data.mean(axis=0)\n",
    "            self.std = data.std(axis=0)\n",
    "            \n",
    "    def fit(self, data):\n",
    "        self.mean = data.mean(axis=0)\n",
    "        self.std = data.std(axis=0)\n",
    "        \n",
    "        self.std.loc[self.std == 0] = 1 \n",
    "        \n",
    "    def transform(self, data): \n",
    "        if hasattr(self, 'mean'):\n",
    "            data  -= self.mean \n",
    "            data /= self.std\n",
    "            return data\n",
    "        else:\n",
    "            raise AttributeError('Сначала вызовите метод fit(data: pd.DataFrame)')\n",
    "            \n",
    "    def reverse_transform(self, data):\n",
    "        data = data * self.std\n",
    "        data = data + self.mean\n",
    "        return data \n",
    "          \n",
    "    def fit_transform(self, data):\n",
    "        self.fit(data)\n",
    "        return self.transform(data)"
   ]
  },
  {
   "cell_type": "markdown",
   "metadata": {},
   "source": [
    "####  1. Определение структур данных"
   ]
  },
  {
   "cell_type": "code",
   "execution_count": 6,
   "metadata": {
    "collapsed": true
   },
   "outputs": [],
   "source": [
    "# Для моделирования используются две выборки: train и test\n",
    "# start - отмечает начало train'a\n",
    "# test - отмечает начало test'a\n",
    "Boundaries = namedtuple('Boundaries',['start', 'test'])\n",
    "\n",
    "start = datetime.datetime(2017, 2, 20, 0, 0)\n",
    "test = datetime.datetime(2018, 4, 2, 0, 0)\n",
    "\n",
    "bnd = Boundaries(start, test)"
   ]
  },
  {
   "cell_type": "code",
   "execution_count": 7,
   "metadata": {
    "scrolled": true
   },
   "outputs": [
    {
     "data": {
      "text/plain": [
       "datetime.datetime(2017, 2, 20, 0, 0)"
      ]
     },
     "execution_count": 7,
     "metadata": {},
     "output_type": "execute_result"
    }
   ],
   "source": [
    "# namedtuple - кортеж с именоваными полями\n",
    "bnd.start"
   ]
  },
  {
   "cell_type": "code",
   "execution_count": 8,
   "metadata": {
    "collapsed": true
   },
   "outputs": [],
   "source": [
    "class VSP:\n",
    "    \"Структура данных для хранения информации о ВСП\" \n",
    "    \n",
    "    def __init__(self, name):\n",
    "        self.name = name\n",
    "        # Значения временного ряда\n",
    "        self.y_train = self.y_test = None \n",
    "        # Признаковое описание ряда (экзогенные факторы)\n",
    "        self.x_train =  self.x_test = None "
   ]
  },
  {
   "cell_type": "code",
   "execution_count": null,
   "metadata": {},
   "outputs": [],
   "source": [
    "help(VSP)"
   ]
  },
  {
   "cell_type": "markdown",
   "metadata": {},
   "source": [
    "####  2. Преобразование данных из формата хранения"
   ]
  },
  {
   "cell_type": "code",
   "execution_count": null,
   "metadata": {
    "collapsed": true
   },
   "outputs": [],
   "source": [
    "# файл Николая с экзогенными признаками\n",
    "td_list = pickle.load(open('D:/td_list_all_ext_ext_f.pkl', 'rb')) "
   ]
  },
  {
   "cell_type": "code",
   "execution_count": null,
   "metadata": {
    "collapsed": true
   },
   "outputs": [],
   "source": [
    "# преобразование данных из формата в которм их хранил Николай в мой формат VSP\n",
    "data = list() # список из объектов типа VSP\n",
    "for name, train, validation, test in td_list:\n",
    "    vsp = VSP(name)\n",
    "    \n",
    "    # Значения временного ряда\n",
    "    vsp.y_train = train.trg.append(validation.trg)\n",
    "    vsp.y_test = test.trg\n",
    "\n",
    "    # Признаковое описание ряда (экзогенные факторы)\n",
    "    vsp.x_train = train.iloc[:,1:].append(validation.iloc[:,1:]) \n",
    "    vsp.x_test = test.iloc[:,1:]\n",
    "    data.append(vsp)"
   ]
  },
  {
   "cell_type": "markdown",
   "metadata": {},
   "source": [
    "#### 3. Фильтрация пустых рядов"
   ]
  },
  {
   "cell_type": "code",
   "execution_count": null,
   "metadata": {},
   "outputs": [],
   "source": [
    "# очистка от пустых \n",
    "clear_data = [vsp for vsp in data \n",
    "             if sum(vsp.y_train != 0) > 70  and \n",
    "             sum(vsp.y_test != 0) > 20]"
   ]
  },
  {
   "cell_type": "markdown",
   "metadata": {},
   "source": [
    "#### 4. Генерация дополнительных признаков"
   ]
  },
  {
   "cell_type": "code",
   "execution_count": null,
   "metadata": {
    "collapsed": true
   },
   "outputs": [],
   "source": [
    "td_list_series = pickle.load(open('D:/td_list_all_ext.pkl', 'rb'))"
   ]
  },
  {
   "cell_type": "code",
   "execution_count": null,
   "metadata": {},
   "outputs": [],
   "source": [
    "add_data = list()\n",
    "DATE_PATTERN = pd.Series(0, index=pd.to_datetime(range(762+89+31), unit= \"D\", origin=pd.Timestamp('2016-01-01')))\n",
    "name_set = {vsp.name for vsp in clear_data}\n",
    "\n",
    "for name, series in log_progress(td_list_series):\n",
    "    if name in name_set:\n",
    "        vsp = VSP(name)\n",
    "        \n",
    "        # Агрегация рядов по дням\n",
    "        # 24*4 = 96 пятнадцатиминуток в одном дне\n",
    "        vsp.y_all = pd.Series(data=series.trg,\n",
    "                              index=series.index).rolling('1d', min_periods=1).sum()[95::96] \n",
    "        \n",
    "        vsp.y_all.index = pd.to_datetime(vsp.y_all.index.date)\n",
    "\n",
    "        # Заполнение недостающих дней нулями\n",
    "        vsp.y_all = pd.Series(vsp.y_all)\n",
    "        \n",
    "        vsp.y_all, _ = vsp.y_all.align(DATE_PATTERN, join='right')\n",
    "        vsp.y_all.fillna(0, inplace = True)\n",
    "        \n",
    "        # Значения временного ряда\n",
    "        vsp.x_train = pd.DataFrame(index = vsp.y_all[bnd.start:bnd.test].index) \n",
    "        vsp.x_test = pd.DataFrame(index = vsp.y_all[bnd.test:].index) \n",
    "\n",
    "        for i in range(70,78):\n",
    "            a = vsp.y_all.shift(i)\n",
    "            vsp.x_train['trg_%d'%i] = a[bnd.start:bnd.test]\n",
    "            vsp.x_test['trg_%d'%i] = a[bnd.test:]\n",
    "            \n",
    "        for i in [84, 91, 98]:\n",
    "            a = vsp.y_all.shift(i)\n",
    "            vsp.x_train['trg_%d'%i] = a[bnd.start:bnd.test]\n",
    "            vsp.x_test['trg_%d'%i] = a[bnd.test:]\n",
    "\n",
    "        # Ряд  первых производных \n",
    "        vsp.y_all_d = vsp.y_all - vsp.y_all.shift(1)\n",
    "    \n",
    "        # Ряд  вторых производных \n",
    "        vsp.y_all_dd = vsp.y_all_d - vsp.y_all_d.shift(1)\n",
    "\n",
    "        # Производим признаки из производных \n",
    "        for i in range(1,15):\n",
    "            a = vsp.y_all_d.shift(62+i)\n",
    "            b = vsp.y_all_d.shift(52*7+i)\n",
    "            vsp.x_train['diff_%d'%i] = a[:bnd.test]\n",
    "            vsp.x_train['diff_year_%d'%i] = b[bnd.start:bnd.test]\n",
    "            vsp.x_test['diff_%d'%i] = a[bnd.test:]\n",
    "            vsp.x_test['diff_year_%d'%i] = b[bnd.test:]\n",
    "        \n",
    "        for i in range(22,37,7):\n",
    "            a = vsp.y_all_d.shift(62+i)\n",
    "            b = vsp.y_all_d.shift(52*7+i)\n",
    "            vsp.x_train['diff_%d'%i] = a[:bnd.test]\n",
    "            vsp.x_train['diff_year_%d'%i] = b[bnd.start:bnd.test]\n",
    "            vsp.x_test['diff_%d'%i] = a[bnd.test:]\n",
    "            vsp.x_test['diff_year_%d'%i] = b[bnd.test:]\n",
    "\n",
    "        for i in range(1,15):\n",
    "            vsp.x_test['double_diff_%d'%i] = vsp.y_all_dd.shift(62+i)[bnd.test:]\n",
    "            vsp.x_test['double_diff__year_%d'%i] = vsp.y_all_dd.shift(52*7+i)[bnd.test:]\n",
    "            vsp.x_train['double_diff_%d'%i] = vsp.y_all_dd.shift(62+i)[bnd.start:bnd.test]\n",
    "            vsp.x_train['double_diff__year_%d'%i] = vsp.y_all_dd.shift(52*7+i)[bnd.start:bnd.test]\n",
    "            \n",
    "        for i in range(22,37,7):\n",
    "            vsp.x_test['double_diff_%d'%i] = vsp.y_all_dd.shift(62+i)[bnd.test:]\n",
    "            vsp.x_test['double_diff__year_%d'%i] = vsp.y_all_dd.shift(52*7+i)[bnd.test:]\n",
    "            vsp.x_train['double_diff_%d'%i] = vsp.y_all_dd.shift(62+i)[bnd.start:bnd.test]\n",
    "            vsp.x_train['double_diff__year_%d'%i] = vsp.y_all_dd.shift(52*7+i)[bnd.start:bnd.test]\n",
    "            \n",
    "        # Месяцы как флаги\n",
    "        for i in range(1,13):\n",
    "            vsp.x_test.loc[vsp.x_test.index.month == i, 'month_%d'%i] = 1\n",
    "            vsp.x_test.loc[vsp.x_test.index.month != i, 'month_%d'%i] = 0\n",
    "            vsp.x_train.loc[vsp.x_train.index.month == i, 'month_%d'%i] = 1\n",
    "            vsp.x_train.loc[vsp.x_train.index.month != i, 'month_%d'%i] = 0\n",
    "\n",
    "        add_data.append(vsp)"
   ]
  },
  {
   "cell_type": "code",
   "execution_count": null,
   "metadata": {
    "collapsed": true
   },
   "outputs": [],
   "source": [
    "pickle.dump(add_data, open('D:/td_list_add_features.pkl', 'wb'))"
   ]
  },
  {
   "cell_type": "code",
   "execution_count": null,
   "metadata": {
    "collapsed": true
   },
   "outputs": [],
   "source": [
    "add_data = pickle.load(open('D:/td_list_add_features.pkl', 'rb'))"
   ]
  },
  {
   "cell_type": "markdown",
   "metadata": {},
   "source": [
    "#### 4. Присоединение  дополнительных признаков"
   ]
  },
  {
   "cell_type": "code",
   "execution_count": null,
   "metadata": {
    "collapsed": true
   },
   "outputs": [],
   "source": [
    "# В списке clear_data теперь хранятся vsp c дополнительными признаками\n",
    "for vsp_a in clear_data: \n",
    "    for vsp_b in add_data: \n",
    "        if vsp_a.name == vsp_b.name:\n",
    "            vsp_a.x_train = pd.concat([vsp_a.x_train,vsp_b.x_train.iloc[:-1,:]], axis=1)\n",
    "            vsp_a.x_test = pd.concat([vsp_a.x_test,vsp_b.x_test.iloc[:-1,:]], axis=1)"
   ]
  },
  {
   "cell_type": "code",
   "execution_count": null,
   "metadata": {
    "collapsed": true
   },
   "outputs": [],
   "source": [
    "pickle.dump(clear_data, open('D:/clear_data.pkl', 'wb'))"
   ]
  },
  {
   "cell_type": "code",
   "execution_count": 9,
   "metadata": {
    "scrolled": true
   },
   "outputs": [],
   "source": [
    "clear_data = pickle.load(open('D:/clear_data.pkl', 'rb'))"
   ]
  },
  {
   "cell_type": "markdown",
   "metadata": {},
   "source": [
    "#### 5. Формирование обучающей выборки "
   ]
  },
  {
   "cell_type": "code",
   "execution_count": 10,
   "metadata": {
    "collapsed": true
   },
   "outputs": [],
   "source": [
    "X_train = pd.concat([vsp.x_train for vsp in clear_data]) \n",
    "Y_train = pd.concat([vsp.y_train for vsp in clear_data]) \n",
    "X_test = pd.concat([vsp.x_test for vsp in clear_data]) \n",
    "Y_test = pd.concat([vsp.y_test for vsp in clear_data]) "
   ]
  },
  {
   "cell_type": "code",
   "execution_count": 11,
   "metadata": {},
   "outputs": [],
   "source": [
    "normalizer = Normalizer()\n",
    "X_train = normalizer.fit_transform(X_train)\n",
    "X_test = normalizer.transform(X_test)"
   ]
  },
  {
   "cell_type": "code",
   "execution_count": 12,
   "metadata": {
    "collapsed": true
   },
   "outputs": [],
   "source": [
    "X_test.fillna(0,inplace=True)\n",
    "X_train.fillna(0,inplace=True)"
   ]
  },
  {
   "cell_type": "code",
   "execution_count": 13,
   "metadata": {
    "collapsed": true
   },
   "outputs": [],
   "source": [
    "pickle.dump((X_train, Y_train, X_test, Y_test), open('D:/train_test.pkl', 'wb'))"
   ]
  },
  {
   "cell_type": "code",
   "execution_count": 14,
   "metadata": {
    "collapsed": true
   },
   "outputs": [],
   "source": [
    "X_train, Y_train, X_test, Y_test = pickle.load(open('D:/train_test.pkl', 'rb'))"
   ]
  },
  {
   "cell_type": "markdown",
   "metadata": {},
   "source": [
    "#### 6. Обучение нейросети"
   ]
  },
  {
   "cell_type": "code",
   "execution_count": 25,
   "metadata": {
    "collapsed": true
   },
   "outputs": [],
   "source": [
    "model = models.Sequential()\n",
    "model.add(layers.Dense(64, activation='relu', input_shape =(X_train.shape[1],)))\n",
    "model.add(layers.Dropout(0.15))\n",
    "model.add(layers.Dense(64, activation='tanh'))\n",
    "model.add(layers.Dropout(0.15))\n",
    "model.add(layers.Dense(64, activation='tanh'))\n",
    "model.add(layers.Dropout(0.15))\n",
    "model.add(layers.Dense(64, activation='tanh'))\n",
    "model.add(layers.Dropout(0.15))\n",
    "model.add(layers.Dense(1))\n",
    "model.compile(optimizer='rmsprop', loss='mse', metrics = ['mae'])"
   ]
  },
  {
   "cell_type": "code",
   "execution_count": 26,
   "metadata": {
    "scrolled": true
   },
   "outputs": [
    {
     "name": "stdout",
     "output_type": "stream",
     "text": [
      "Train on 2390528 samples, validate on 353280 samples\n",
      "Epoch 1/3\n",
      "2390528/2390528 [==============================] - 39s 16us/step - loss: 1763.1349 - mean_absolute_error: 24.7770 - val_loss: 812.8828 - val_mean_absolute_error: 16.7309\n",
      "Epoch 2/3\n",
      "2390528/2390528 [==============================] - 39s 16us/step - loss: 579.0387 - mean_absolute_error: 15.6670 - val_loss: 741.1106 - val_mean_absolute_error: 16.1211\n",
      "Epoch 3/3\n",
      "2390528/2390528 [==============================] - 39s 17us/step - loss: 558.4510 - mean_absolute_error: 15.6381 - val_loss: 745.2236 - val_mean_absolute_error: 15.9743\n"
     ]
    }
   ],
   "source": [
    "history = model.fit(np.array(X_train), np.array(Y_train), epochs = 3, batch_size = 1024,\n",
    "                        validation_data = (np.array(X_test), np.array(Y_test)))"
   ]
  },
  {
   "cell_type": "code",
   "execution_count": 27,
   "metadata": {
    "scrolled": true
   },
   "outputs": [
    {
     "name": "stdout",
     "output_type": "stream",
     "text": [
      "353280/353280 [==============================] - 6s 18us/step\n"
     ]
    },
    {
     "data": {
      "text/plain": [
       "[745.22356913538943, 15.974345071613788]"
      ]
     },
     "execution_count": 27,
     "metadata": {},
     "output_type": "execute_result"
    }
   ],
   "source": [
    "model.evaluate(np.array(X_test), np.array(Y_test))"
   ]
  },
  {
   "cell_type": "markdown",
   "metadata": {},
   "source": [
    "#### 7.  Предсказания для тестовой выборки "
   ]
  },
  {
   "cell_type": "code",
   "execution_count": 31,
   "metadata": {
    "collapsed": true
   },
   "outputs": [],
   "source": [
    "predictions = model.predict(np.array(X_test))\n",
    "# Все предсказания меньше 1 зануляем\n",
    "predictions = [i if i>1 else 0 for i in predictions.flatten()] "
   ]
  },
  {
   "cell_type": "code",
   "execution_count": 33,
   "metadata": {},
   "outputs": [],
   "source": [
    "# каждому vsp добавляем новый атрибут vsp.y_test_predict\n",
    "finish = 0\n",
    "for vsp in clear_data: \n",
    "    start, finish  = finish, finish + len(vsp.y_test)\n",
    "    vsp.y_test_predict = pd.Series(data = predictions[start:finish],\n",
    "                                   index = vsp.y_test.index)"
   ]
  },
  {
   "cell_type": "code",
   "execution_count": 36,
   "metadata": {
    "collapsed": true
   },
   "outputs": [],
   "source": [
    "test_mapes = pd.Series(mape(vsp.y_test,vsp.y_test_predict) for vsp in clear_data)"
   ]
  },
  {
   "cell_type": "code",
   "execution_count": 50,
   "metadata": {},
   "outputs": [
    {
     "name": "stdout",
     "output_type": "stream",
     "text": [
      "Медиана mape:  15.1625357679\n"
     ]
    },
    {
     "data": {
      "image/png": "[encoded data removed]",
      "text/plain": [
       "<matplotlib.figure.Figure at 0x59dba6d8>"
      ]
     },
     "metadata": {},
     "output_type": "display_data"
    }
   ],
   "source": [
    "test_mapes[test_mapes<30].plot(kind='hist')\n",
    "print('Медиана mape: ', np.median(test_mapes[test_mapes<30]))\n",
    "plt.show()"
   ]
  },
  {
   "cell_type": "code",
   "execution_count": 56,
   "metadata": {
    "collapsed": true
   },
   "outputs": [],
   "source": [
    "test_maes = pd.Series(mae(vsp.y_test,vsp.y_test_predict) for vsp in clear_data)"
   ]
  },
  {
   "cell_type": "code",
   "execution_count": 60,
   "metadata": {},
   "outputs": [
    {
     "name": "stdout",
     "output_type": "stream",
     "text": [
      "Медиана mae:  12.1639063716\n"
     ]
    },
    {
     "data": {
      "image/png": "[encoded data removed]",
      "text/plain": [
       "<matplotlib.figure.Figure at 0x5d02aba8>"
      ]
     },
     "metadata": {},
     "output_type": "display_data"
    }
   ],
   "source": [
    "test_maes[test_maes<30].plot(kind='hist')\n",
    "print('Медиана mae: ', np.median(test_maes[test_maes<30]))\n",
    "plt.show()"
   ]
  },
  {
   "cell_type": "markdown",
   "metadata": {},
   "source": [
    "#### 7.  Предсказания для обучающей выборки "
   ]
  },
  {
   "cell_type": "code",
   "execution_count": 61,
   "metadata": {
    "collapsed": true
   },
   "outputs": [],
   "source": [
    "predictions = model.predict(np.array(X_train))\n",
    "# Все предсказания меньше 1 зануляем\n",
    "predictions = [i if i>1 else 0 for i in predictions.flatten()] "
   ]
  },
  {
   "cell_type": "code",
   "execution_count": 62,
   "metadata": {
    "collapsed": true
   },
   "outputs": [],
   "source": [
    "# каждому vsp добавляем новый атрибут vsp.y_train_predict\n",
    "finish = 0\n",
    "for vsp in clear_data: \n",
    "    start, finish  = finish, finish + len(vsp.y_train)\n",
    "    vsp.y_train_predict = pd.Series(data = predictions[start:finish],\n",
    "                                   index = vsp.y_train.index)"
   ]
  },
  {
   "cell_type": "code",
   "execution_count": 63,
   "metadata": {
    "collapsed": true
   },
   "outputs": [],
   "source": [
    "train_mapes = pd.Series(mape(vsp.y_train, vsp.y_train_predict) for vsp in clear_data)"
   ]
  },
  {
   "cell_type": "code",
   "execution_count": 64,
   "metadata": {},
   "outputs": [
    {
     "name": "stdout",
     "output_type": "stream",
     "text": [
      "Медиана mape:  15.7802118781\n"
     ]
    },
    {
     "data": {
      "image/png": "[encoded data removed]",
      "text/plain": [
       "<matplotlib.figure.Figure at 0x5f134ef0>"
      ]
     },
     "metadata": {},
     "output_type": "display_data"
    }
   ],
   "source": [
    "train_mapes[train_mapes<30].plot(kind='hist')\n",
    "print('Медиана mape: ', np.median(train_mapes[train_mapes<30]))\n",
    "plt.show()"
   ]
  },
  {
   "cell_type": "code",
   "execution_count": 65,
   "metadata": {
    "collapsed": true
   },
   "outputs": [],
   "source": [
    "train_maes = pd.Series(mae(vsp.y_train, vsp.y_train_predict) for vsp in clear_data)"
   ]
  },
  {
   "cell_type": "code",
   "execution_count": 68,
   "metadata": {},
   "outputs": [
    {
     "name": "stdout",
     "output_type": "stream",
     "text": [
      "Медиана mae:  10.0322627634\n"
     ]
    },
    {
     "data": {
      "image/png": "[encoded data removed]",
      "text/plain": [
       "<matplotlib.figure.Figure at 0x5f15e4e0>"
      ]
     },
     "metadata": {},
     "output_type": "display_data"
    }
   ],
   "source": [
    "train_maes[train_maes<30].plot(kind='hist')\n",
    "print('Медиана mae: ', np.median(train_maes[train_maes<30]))\n",
    "plt.show()"
   ]
  },
  {
   "cell_type": "markdown",
   "metadata": {},
   "source": [
    "#### 8.  Построение сводной таблицы результатов"
   ]
  },
  {
   "cell_type": "code",
   "execution_count": 174,
   "metadata": {
    "collapsed": true
   },
   "outputs": [],
   "source": [
    "def pivot_mape(data):\n",
    "    'Внимание индекс месяца должен быть уникальным!!!'\n",
    "    \n",
    "    data[\"tochnost\"] = abs(data.fact - data.predict)/data.fact\n",
    "    data.loc[data.fact==0, \"tochnost\"] = 0 # заменим нулями\n",
    "    data = data[data.fact!=0]\n",
    "    # если в выборке есть одинаковые месяцы двух разных лет 2017 и 2018 они объединятся\n",
    "    l = data.groupby([data.index.month, \"VSP\"])[\"tochnost\"].mean().reset_index()\n",
    "    l[\"group\"] = l[\"tochnost\"]//0.05\n",
    "    l[\"group\"] = l[\"group\"].apply(lambda x: x if x < 6 else 6)\n",
    "\n",
    "    # откорректируем словарь\n",
    "    spr = {0: 5,\n",
    "           1: 10,\n",
    "           2: 15,\n",
    "           3: 20,\n",
    "           4: 25,\n",
    "           5: 30, \n",
    "           6: 100}\n",
    "    l[\"group\"] = l[\"group\"].map(spr)\n",
    "    z = l.pivot_table(values=\"VSP\", index=\"group\", columns=\"date\", aggfunc='count', fill_value = 0)\n",
    "    z = z.cumsum()/z.sum()*100\n",
    "    z = z.apply(lambda x: round(x)).astype(int)\n",
    "    return z\n"
   ]
  },
  {
   "cell_type": "code",
   "execution_count": 180,
   "metadata": {},
   "outputs": [
    {
     "data": {
      "application/vnd.jupyter.widget-view+json": {
       "model_id": "3cf55d6caa3c481fbccd450257201ce0"
      }
     },
     "metadata": {},
     "output_type": "display_data"
    }
   ],
   "source": [
    "# Подготовка данных под формат работы функции pivot\n",
    "data_mp = pd.DataFrame()\n",
    "for vsp in log_progress(clear_data,every=20):\n",
    "    y_predict = vsp.y_train_predict[datetime.datetime(2017, 10, 1, 0, 0):].copy() \n",
    "    y_predict = pd.concat([y_predict,vsp.y_test_predict]) \n",
    "    vsp_df = pd.DataFrame(y_predict, index=y_predict.index, columns = ['predict'])\n",
    "    vsp_df['VSP'] = vsp.name\n",
    "    y_fact = vsp.y_train[datetime.datetime(2017, 10, 1, 0, 0):].copy() \n",
    "    y_fact = pd.concat([y_fact,vsp.y_test]) \n",
    "    vsp_df['fact'] = y_fact\n",
    "    data_mp = pd.concat([data_mp,vsp_df],axis=0)"
   ]
  },
  {
   "cell_type": "code",
   "execution_count": 181,
   "metadata": {},
   "outputs": [
    {
     "data": {
      "text/html": [
       "<div>\n",
       "<style>\n",
       "    .dataframe thead tr:only-child th {\n",
       "        text-align: right;\n",
       "    }\n",
       "\n",
       "    .dataframe thead th {\n",
       "        text-align: left;\n",
       "    }\n",
       "\n",
       "    .dataframe tbody tr th {\n",
       "        vertical-align: top;\n",
       "    }\n",
       "</style>\n",
       "<table border=\"1\" class=\"dataframe\">\n",
       "  <thead>\n",
       "    <tr style=\"text-align: right;\">\n",
       "      <th>date</th>\n",
       "      <th>1</th>\n",
       "      <th>2</th>\n",
       "      <th>3</th>\n",
       "      <th>4</th>\n",
       "      <th>5</th>\n",
       "      <th>10</th>\n",
       "      <th>11</th>\n",
       "      <th>12</th>\n",
       "    </tr>\n",
       "    <tr>\n",
       "      <th>group</th>\n",
       "      <th></th>\n",
       "      <th></th>\n",
       "      <th></th>\n",
       "      <th></th>\n",
       "      <th></th>\n",
       "      <th></th>\n",
       "      <th></th>\n",
       "      <th></th>\n",
       "    </tr>\n",
       "  </thead>\n",
       "  <tbody>\n",
       "    <tr>\n",
       "      <th>5</th>\n",
       "      <td>0</td>\n",
       "      <td>0</td>\n",
       "      <td>0</td>\n",
       "      <td>0</td>\n",
       "      <td>0</td>\n",
       "      <td>0</td>\n",
       "      <td>0</td>\n",
       "      <td>0</td>\n",
       "    </tr>\n",
       "    <tr>\n",
       "      <th>10</th>\n",
       "      <td>1</td>\n",
       "      <td>2</td>\n",
       "      <td>2</td>\n",
       "      <td>0</td>\n",
       "      <td>1</td>\n",
       "      <td>2</td>\n",
       "      <td>3</td>\n",
       "      <td>4</td>\n",
       "    </tr>\n",
       "    <tr>\n",
       "      <th>15</th>\n",
       "      <td>20</td>\n",
       "      <td>27</td>\n",
       "      <td>26</td>\n",
       "      <td>11</td>\n",
       "      <td>16</td>\n",
       "      <td>28</td>\n",
       "      <td>31</td>\n",
       "      <td>34</td>\n",
       "    </tr>\n",
       "    <tr>\n",
       "      <th>20</th>\n",
       "      <td>50</td>\n",
       "      <td>57</td>\n",
       "      <td>56</td>\n",
       "      <td>41</td>\n",
       "      <td>47</td>\n",
       "      <td>57</td>\n",
       "      <td>62</td>\n",
       "      <td>62</td>\n",
       "    </tr>\n",
       "    <tr>\n",
       "      <th>25</th>\n",
       "      <td>68</td>\n",
       "      <td>74</td>\n",
       "      <td>74</td>\n",
       "      <td>66</td>\n",
       "      <td>70</td>\n",
       "      <td>73</td>\n",
       "      <td>79</td>\n",
       "      <td>77</td>\n",
       "    </tr>\n",
       "    <tr>\n",
       "      <th>30</th>\n",
       "      <td>79</td>\n",
       "      <td>83</td>\n",
       "      <td>83</td>\n",
       "      <td>79</td>\n",
       "      <td>83</td>\n",
       "      <td>82</td>\n",
       "      <td>86</td>\n",
       "      <td>86</td>\n",
       "    </tr>\n",
       "    <tr>\n",
       "      <th>100</th>\n",
       "      <td>100</td>\n",
       "      <td>100</td>\n",
       "      <td>100</td>\n",
       "      <td>100</td>\n",
       "      <td>100</td>\n",
       "      <td>100</td>\n",
       "      <td>100</td>\n",
       "      <td>100</td>\n",
       "    </tr>\n",
       "  </tbody>\n",
       "</table>\n",
       "</div>"
      ],
      "text/plain": [
       "date    1    2    3    4    5    10   11   12\n",
       "group                                        \n",
       "5        0    0    0    0    0    0    0    0\n",
       "10       1    2    2    0    1    2    3    4\n",
       "15      20   27   26   11   16   28   31   34\n",
       "20      50   57   56   41   47   57   62   62\n",
       "25      68   74   74   66   70   73   79   77\n",
       "30      79   83   83   79   83   82   86   86\n",
       "100    100  100  100  100  100  100  100  100"
      ]
     },
     "execution_count": 181,
     "metadata": {},
     "output_type": "execute_result"
    }
   ],
   "source": [
    "pivot_mape(data_mp)"
   ]
  },
  {
   "cell_type": "code",
   "execution_count": 184,
   "metadata": {
    "collapsed": true
   },
   "outputs": [],
   "source": [
    "def pivot_mae(data):\n",
    "    data[\"tochnost\"] = abs(data.fact - data.predict)\n",
    "    data.loc[(data.fact==0), \"tochnost\"] = 0 # заменим нулями\n",
    "    data = data[data.fact != 0]\n",
    "\n",
    "    l = data.groupby([data.index.month, \"VSP\"])[\"tochnost\"].mean().reset_index()\n",
    "    l[\"group\"] = l[\"tochnost\"]//5\n",
    "    l[\"group\"] = l[\"group\"].apply(lambda x: x if x < 6 else 6)\n",
    "\n",
    "    # откорректируем словарь\n",
    "    spr = {0: 5,\n",
    "           1: 10,\n",
    "           2: 15,\n",
    "           3: 20,\n",
    "           4: 25,\n",
    "           5: 30, \n",
    "           6: 100}\n",
    "    l[\"group\"] = l[\"group\"].map(spr)\n",
    "    z = l.pivot_table(values=\"VSP\", index=\"group\", columns=\"date\", aggfunc='count', fill_value = 0)\n",
    "    z = z.cumsum()/z.sum()*100\n",
    "    z = z.apply(lambda x: round(x)).astype(int)\n",
    "    return z"
   ]
  },
  {
   "cell_type": "code",
   "execution_count": 185,
   "metadata": {},
   "outputs": [
    {
     "data": {
      "text/html": [
       "<div>\n",
       "<style>\n",
       "    .dataframe thead tr:only-child th {\n",
       "        text-align: right;\n",
       "    }\n",
       "\n",
       "    .dataframe thead th {\n",
       "        text-align: left;\n",
       "    }\n",
       "\n",
       "    .dataframe tbody tr th {\n",
       "        vertical-align: top;\n",
       "    }\n",
       "</style>\n",
       "<table border=\"1\" class=\"dataframe\">\n",
       "  <thead>\n",
       "    <tr style=\"text-align: right;\">\n",
       "      <th>date</th>\n",
       "      <th>1</th>\n",
       "      <th>2</th>\n",
       "      <th>3</th>\n",
       "      <th>4</th>\n",
       "      <th>5</th>\n",
       "      <th>10</th>\n",
       "      <th>11</th>\n",
       "      <th>12</th>\n",
       "    </tr>\n",
       "    <tr>\n",
       "      <th>group</th>\n",
       "      <th></th>\n",
       "      <th></th>\n",
       "      <th></th>\n",
       "      <th></th>\n",
       "      <th></th>\n",
       "      <th></th>\n",
       "      <th></th>\n",
       "      <th></th>\n",
       "    </tr>\n",
       "  </thead>\n",
       "  <tbody>\n",
       "    <tr>\n",
       "      <th>5</th>\n",
       "      <td>0</td>\n",
       "      <td>1</td>\n",
       "      <td>1</td>\n",
       "      <td>0</td>\n",
       "      <td>0</td>\n",
       "      <td>0</td>\n",
       "      <td>0</td>\n",
       "      <td>0</td>\n",
       "    </tr>\n",
       "    <tr>\n",
       "      <th>10</th>\n",
       "      <td>27</td>\n",
       "      <td>37</td>\n",
       "      <td>34</td>\n",
       "      <td>19</td>\n",
       "      <td>12</td>\n",
       "      <td>30</td>\n",
       "      <td>29</td>\n",
       "      <td>20</td>\n",
       "    </tr>\n",
       "    <tr>\n",
       "      <th>15</th>\n",
       "      <td>64</td>\n",
       "      <td>72</td>\n",
       "      <td>71</td>\n",
       "      <td>59</td>\n",
       "      <td>44</td>\n",
       "      <td>65</td>\n",
       "      <td>66</td>\n",
       "      <td>58</td>\n",
       "    </tr>\n",
       "    <tr>\n",
       "      <th>20</th>\n",
       "      <td>83</td>\n",
       "      <td>88</td>\n",
       "      <td>87</td>\n",
       "      <td>82</td>\n",
       "      <td>70</td>\n",
       "      <td>83</td>\n",
       "      <td>84</td>\n",
       "      <td>80</td>\n",
       "    </tr>\n",
       "    <tr>\n",
       "      <th>25</th>\n",
       "      <td>91</td>\n",
       "      <td>95</td>\n",
       "      <td>94</td>\n",
       "      <td>92</td>\n",
       "      <td>84</td>\n",
       "      <td>91</td>\n",
       "      <td>92</td>\n",
       "      <td>90</td>\n",
       "    </tr>\n",
       "    <tr>\n",
       "      <th>30</th>\n",
       "      <td>95</td>\n",
       "      <td>97</td>\n",
       "      <td>97</td>\n",
       "      <td>97</td>\n",
       "      <td>92</td>\n",
       "      <td>95</td>\n",
       "      <td>96</td>\n",
       "      <td>94</td>\n",
       "    </tr>\n",
       "    <tr>\n",
       "      <th>100</th>\n",
       "      <td>100</td>\n",
       "      <td>100</td>\n",
       "      <td>100</td>\n",
       "      <td>100</td>\n",
       "      <td>100</td>\n",
       "      <td>100</td>\n",
       "      <td>100</td>\n",
       "      <td>100</td>\n",
       "    </tr>\n",
       "  </tbody>\n",
       "</table>\n",
       "</div>"
      ],
      "text/plain": [
       "date    1    2    3    4    5    10   11   12\n",
       "group                                        \n",
       "5        0    1    1    0    0    0    0    0\n",
       "10      27   37   34   19   12   30   29   20\n",
       "15      64   72   71   59   44   65   66   58\n",
       "20      83   88   87   82   70   83   84   80\n",
       "25      91   95   94   92   84   91   92   90\n",
       "30      95   97   97   97   92   95   96   94\n",
       "100    100  100  100  100  100  100  100  100"
      ]
     },
     "execution_count": 185,
     "metadata": {},
     "output_type": "execute_result"
    }
   ],
   "source": [
    "pivot_mae(data_mp)"
   ]
  },
  {
   "cell_type": "markdown",
   "metadata": {},
   "source": [
    "#### 9.  Старый способ построения сводной таблицы"
   ]
  },
  {
   "cell_type": "code",
   "execution_count": 72,
   "metadata": {
    "collapsed": true
   },
   "outputs": [],
   "source": [
    "def add_mape(vsp):\n",
    "    'mae ВКЛЮЧАЯ нулевые значения'\n",
    "    import warnings\n",
    "    warnings.simplefilter('ignore')\n",
    "    vsp.mape = pd.Series()\n",
    "    for year, month in [(2017,10),(2017,11),(2017,12),(2018,1),(2018,2),(2018,3)]:\n",
    "        y_true = np.array(vsp.y_train[(vsp.y_train.index.month == month) & (vsp.y_train.index.year == year)])\n",
    "        y_pred = np.array(vsp.y_train_predict[(vsp.y_train.index.month == month) & (vsp.y_train.index.year == year)])\n",
    "        # у vsp появляется новый атрибут \n",
    "        vsp.mape.at[month] = mape(y_true,y_pred)"
   ]
  },
  {
   "cell_type": "code",
   "execution_count": 132,
   "metadata": {
    "collapsed": true
   },
   "outputs": [],
   "source": [
    "def add_mape(vsp):\n",
    "    'mape ИСКЛЮЧАЯ нулевые значения'\n",
    "    import warnings\n",
    "    warnings.simplefilter('ignore')\n",
    "    vsp.mape = pd.Series()\n",
    "    for year, month in [(2017,10),(2017,11),(2017,12),(2018,1),(2018,2),(2018,3)]:\n",
    "        y_true = np.array(vsp.y_train[(vsp.y_train.index.month == month) & (vsp.y_train.index.year == year)])\n",
    "        y_pred = np.array(vsp.y_train_predict[(vsp.y_train.index.month == month) & (vsp.y_train.index.year == year)])\n",
    "        # у vsp появляется новый атрибут \n",
    "        vsp.mape.at[month] = mape(y_true[y_true != 0],y_pred[y_true != 0])"
   ]
  },
  {
   "cell_type": "code",
   "execution_count": 135,
   "metadata": {
    "collapsed": true
   },
   "outputs": [],
   "source": [
    "def pivot_train(vsp_list):\n",
    "    for vsp in vsp_list: \n",
    "        add_mape(vsp)\n",
    "    \n",
    "    result = pd.DataFrame(0, index=[5,10,15,20,25,30], columns=[10,11,12,1,2,3])\n",
    "    for month in [10,11,12,1,2,3]:\n",
    "        for vsp in vsp_list:\n",
    "            try:\n",
    "                if vsp.mape.at[month] < 5 : result.at[5,month]+=1\n",
    "                if vsp.mape.at[month] < 10 : result.at[10,month]+=1\n",
    "                if vsp.mape.at[month] < 15 : result.at[15,month]+=1\n",
    "                if vsp.mape.at[month] < 20 : result.at[20,month]+=1\n",
    "                if vsp.mape.at[month] < 25 : result.at[25,month]+=1\n",
    "                if vsp.mape.at[month] < 30 : result.at[30,month]+=1   \n",
    "            except KeyError:\n",
    "                print(vsp.name)\n",
    "    result = result/len(vsp_list)*100\n",
    "    \n",
    "    return result.apply(lambda x: round(x)).astype(int)"
   ]
  },
  {
   "cell_type": "code",
   "execution_count": 136,
   "metadata": {
    "scrolled": true
   },
   "outputs": [
    {
     "data": {
      "text/html": [
       "<div>\n",
       "<style>\n",
       "    .dataframe thead tr:only-child th {\n",
       "        text-align: right;\n",
       "    }\n",
       "\n",
       "    .dataframe thead th {\n",
       "        text-align: left;\n",
       "    }\n",
       "\n",
       "    .dataframe tbody tr th {\n",
       "        vertical-align: top;\n",
       "    }\n",
       "</style>\n",
       "<table border=\"1\" class=\"dataframe\">\n",
       "  <thead>\n",
       "    <tr style=\"text-align: right;\">\n",
       "      <th></th>\n",
       "      <th>10</th>\n",
       "      <th>11</th>\n",
       "      <th>12</th>\n",
       "      <th>1</th>\n",
       "      <th>2</th>\n",
       "      <th>3</th>\n",
       "    </tr>\n",
       "  </thead>\n",
       "  <tbody>\n",
       "    <tr>\n",
       "      <th>5</th>\n",
       "      <td>0</td>\n",
       "      <td>0</td>\n",
       "      <td>0</td>\n",
       "      <td>0</td>\n",
       "      <td>0</td>\n",
       "      <td>0</td>\n",
       "    </tr>\n",
       "    <tr>\n",
       "      <th>10</th>\n",
       "      <td>2</td>\n",
       "      <td>3</td>\n",
       "      <td>4</td>\n",
       "      <td>1</td>\n",
       "      <td>2</td>\n",
       "      <td>2</td>\n",
       "    </tr>\n",
       "    <tr>\n",
       "      <th>15</th>\n",
       "      <td>28</td>\n",
       "      <td>31</td>\n",
       "      <td>34</td>\n",
       "      <td>20</td>\n",
       "      <td>27</td>\n",
       "      <td>26</td>\n",
       "    </tr>\n",
       "    <tr>\n",
       "      <th>20</th>\n",
       "      <td>57</td>\n",
       "      <td>62</td>\n",
       "      <td>62</td>\n",
       "      <td>50</td>\n",
       "      <td>57</td>\n",
       "      <td>56</td>\n",
       "    </tr>\n",
       "    <tr>\n",
       "      <th>25</th>\n",
       "      <td>73</td>\n",
       "      <td>79</td>\n",
       "      <td>77</td>\n",
       "      <td>68</td>\n",
       "      <td>74</td>\n",
       "      <td>73</td>\n",
       "    </tr>\n",
       "    <tr>\n",
       "      <th>30</th>\n",
       "      <td>81</td>\n",
       "      <td>86</td>\n",
       "      <td>85</td>\n",
       "      <td>79</td>\n",
       "      <td>83</td>\n",
       "      <td>83</td>\n",
       "    </tr>\n",
       "  </tbody>\n",
       "</table>\n",
       "</div>"
      ],
      "text/plain": [
       "    10  11  12  1   2   3 \n",
       "5    0   0   0   0   0   0\n",
       "10   2   3   4   1   2   2\n",
       "15  28  31  34  20  27  26\n",
       "20  57  62  62  50  57  56\n",
       "25  73  79  77  68  74  73\n",
       "30  81  86  85  79  83  83"
      ]
     },
     "execution_count": 136,
     "metadata": {},
     "output_type": "execute_result"
    }
   ],
   "source": [
    "# Результаты аналогичны предыдущему способу\n",
    "pivot_train(clear_data)"
   ]
  }
 ],
 "metadata": {
  "kernelspec": {
   "display_name": "Python 3",
   "language": "python",
   "name": "python3"
  },
  "language_info": {
   "codemirror_mode": {
    "name": "ipython",
    "version": 3
   },
   "file_extension": ".py",
   "mimetype": "text/x-python",
   "name": "python",
   "nbconvert_exporter": "python",
   "pygments_lexer": "ipython3",
   "version": "3.6.5"
  },
  "notify_time": "10",
  "toc": {
   "base_numbering": 1,
   "nav_menu": {},
   "number_sections": true,
   "sideBar": true,
   "skip_h1_title": false,
   "title_cell": "Table of Contents",
   "title_sidebar": "Contents",
   "toc_cell": false,
   "toc_position": {},
   "toc_section_display": true,
   "toc_window_display": false
  }
 },
 "nbformat": 4,
 "nbformat_minor": 2
}
